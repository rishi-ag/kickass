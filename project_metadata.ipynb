{
 "metadata": {
  "name": ""
 },
 "nbformat": 3,
 "nbformat_minor": 0,
 "worksheets": [
  {
   "cells": [
    {
     "cell_type": "code",
     "collapsed": false,
     "input": [
      "import urllib2\n",
      "import json\n",
      "\n",
      "#define page no attributes i.e how many pages we want to scrape.\n",
      "#Each page gives us meta information about 20 projects\n",
      "page_atr = 205"
     ],
     "language": "python",
     "metadata": {},
     "outputs": [],
     "prompt_number": 8
    },
    {
     "cell_type": "code",
     "collapsed": false,
     "input": [
      "# A few functions that we will make use of\n",
      "def get_url(page_atr, state):\n",
      "    \"\"\"Returns URLs to scrape based on page_str parameter and state\n",
      "       State can be 'live' or 'successful' and reflects a projects status in kickstarter.com\n",
      "    \"\"\"\n",
      "    url = \"https://www.kickstarter.com/discover/advanced?&category_id=0&woe_id=0&sort=end_date&format=json\"\n",
      "    state = \"&state=\" + state\n",
      "    page = \"&page=\"\n",
      "    return([url + state + page + str(i+1) for i in range(page_atr + 1)])\n",
      "\n",
      "\n",
      "def get_project_profile(project):\n",
      "    \"\"\" Takes HTML DOM structure of each project and extracts \n",
      "        meta inforation about the project\n",
      "    \"\"\"\n",
      "    #initate empty dictionary to store scraped data\n",
      "    project_profile = dict()\n",
      "    \n",
      "    project_profile[\"author\"] = project[\"creator\"][\"name\"]\n",
      "    project_profile[\"currency\"] = project[\"currency\"]\n",
      "    project_profile[\"deadline\"] = project[\"deadline\"]\n",
      "    project_profile[\"id\"] = project[\"id\"]\n",
      "    project_profile[\"category\"] = {k:project[\"category\"][k] for k in [\"id\", \"slug\"]}\n",
      "    project_profile[\"goal\"] = project[\"goal\"]\n",
      "    project_profile[\"pledged\"] = project[\"pledged\"]\n",
      "    project_profile[\"state\"] = project[\"state\"]\n",
      "    project_profile[\"launched_at\"] = project[\"launched_at\"]\n",
      "    project_profile[\"location\"] = {k:project[\"location\"][k] for k in [\"name\", \"country\", \"state\"]}\n",
      "    project_profile[\"blurb\"] = project[\"blurb\"]\n",
      "    project_profile[\"name\"] = project[\"name\"]\n",
      "    project_profile[\"backers_count\"] = project[\"backers_count\"]\n",
      "    project_profile[\"spotlight\"] = project[\"spotlight\"]\n",
      "    project_profile[\"url\"] = project[\"urls\"][\"web\"][\"project\"].replace(\"?ref=discovery\", \"/description\")\n",
      "    \n",
      "    return(project_profile)\n",
      "\n",
      "\n",
      "def get_json(urls):\n",
      "    \"\"\"Takes a set of urls as an input and returns contents of the webpage in json format\n",
      "    \"\"\"\n",
      "    import urllib2\n",
      "    import json\n",
      "    p_json_list = []\n",
      "    for idx,url in enumerate(urls):\n",
      "        try:\n",
      "            p_json_list.append(json.loads(urllib2.urlopen(url).read()))\n",
      "        except:\n",
      "            print(\"page does not exist\" + str(idx + 1))\n",
      "    \n",
      "    return(p_json_list)"
     ],
     "language": "python",
     "metadata": {},
     "outputs": [],
     "prompt_number": 12
    },
    {
     "cell_type": "code",
     "collapsed": false,
     "input": [
      "#call function to generate URLs\n",
      "urls = get_url(page_atr, 'live')\n",
      "urls[0]"
     ],
     "language": "python",
     "metadata": {},
     "outputs": [
      {
       "metadata": {},
       "output_type": "pyout",
       "prompt_number": 15,
       "text": [
        "'https://www.kickstarter.com/discover/advanced?&category_id=0&woe_id=0&sort=end_date&format=json&state=live&page=1'"
       ]
      }
     ],
     "prompt_number": 15
    },
    {
     "cell_type": "code",
     "collapsed": false,
     "input": [
      "#call function to collect json format information for projects that are libe\n",
      "project_profile_list = get_json(urls)\n"
     ],
     "language": "python",
     "metadata": {},
     "outputs": [
      {
       "output_type": "stream",
       "stream": "stdout",
       "text": [
        "page does not exist201\n",
        "page does not exist202"
       ]
      },
      {
       "output_type": "stream",
       "stream": "stdout",
       "text": [
        "\n",
        "page does not exist203"
       ]
      },
      {
       "output_type": "stream",
       "stream": "stdout",
       "text": [
        "\n",
        "page does not exist204"
       ]
      },
      {
       "output_type": "stream",
       "stream": "stdout",
       "text": [
        "\n",
        "page does not exist205"
       ]
      },
      {
       "output_type": "stream",
       "stream": "stdout",
       "text": [
        "\n",
        "page does not exist206"
       ]
      },
      {
       "output_type": "stream",
       "stream": "stdout",
       "text": [
        "\n"
       ]
      }
     ],
     "prompt_number": 11
    },
    {
     "cell_type": "code",
     "collapsed": false,
     "input": [
      "#Extract information we want about projects from scraped project urls\n",
      "project_list = [get_project_profile(p) for pjson in project_profile_list for p in pjson[\"projects\"]]\n",
      "project_list[0]"
     ],
     "language": "python",
     "metadata": {},
     "outputs": [
      {
       "metadata": {},
       "output_type": "pyout",
       "prompt_number": 27,
       "text": [
        "{'author': u'Courtney Matherson',\n",
        " 'backers_count': 36,\n",
        " 'blurb': u'We are proud to be doing The Last Five Years as our debut! Now, our little company needs your help to make our big dreams come true!',\n",
        " 'category': {'id': 284, 'slug': u'theater/musical'},\n",
        " 'currency': u'USD',\n",
        " 'deadline': 1429767607,\n",
        " 'goal': 5500.0,\n",
        " 'id': 1022190736,\n",
        " 'launched_at': 1424587207,\n",
        " 'location': {'country': u'US', 'name': u'South Florida', 'state': u'FL'},\n",
        " 'name': u\"The Last Five Years: The Muse Arts Production's Debut Show\",\n",
        " 'pledged': 2550.0,\n",
        " 'spotlight': False,\n",
        " 'state': u'live',\n",
        " 'url': u'https://www.kickstarter.com/projects/1072524368/the-muse-arts-productions-debut-the-last-five-year/description'}"
       ]
      }
     ],
     "prompt_number": 27
    },
    {
     "cell_type": "code",
     "collapsed": false,
     "input": [
      "#Save data to file for further use\n",
      "project_meta_json = json.dumps(obj = project_list, indent = 4)\n",
      "fd = open(\"./data/project_live_meta.json\", \"w\")\n",
      "fd.write(project_meta_json)\n",
      "fd.close()\n"
     ],
     "language": "python",
     "metadata": {},
     "outputs": [],
     "prompt_number": 28
    },
    {
     "cell_type": "code",
     "collapsed": false,
     "input": [
      "#Repeating the same process for successful projects \n",
      "#call function to generate URLs\n",
      "urls = get_url(page_atr, 'successful')\n",
      "\n",
      "#call function to collect json format information for projects that are successful\n",
      "project_profile_list = get_json(urls)\n",
      "\n",
      "#Extract information we want about projects from scraped project urls\n",
      "project_list = [get_project_profile(p) for pjson in project_profile_list for p in pjson[\"projects\"]]\n",
      "\n",
      "\n",
      "#Save data to file for further use\n",
      "project_meta_json = json.dumps(obj = project_list, indent = 4)\n",
      "fd = open(\"./data/project_successful_meta.json\", \"w\")\n",
      "fd.write(project_meta_json)\n",
      "fd.close()\n"
     ],
     "language": "python",
     "metadata": {},
     "outputs": [
      {
       "output_type": "stream",
       "stream": "stdout",
       "text": [
        "page does not exist201\n",
        "page does not exist202"
       ]
      },
      {
       "output_type": "stream",
       "stream": "stdout",
       "text": [
        "\n",
        "page does not exist203"
       ]
      },
      {
       "output_type": "stream",
       "stream": "stdout",
       "text": [
        "\n",
        "page does not exist204"
       ]
      },
      {
       "output_type": "stream",
       "stream": "stdout",
       "text": [
        "\n",
        "page does not exist205"
       ]
      },
      {
       "output_type": "stream",
       "stream": "stdout",
       "text": [
        "\n",
        "page does not exist206"
       ]
      },
      {
       "output_type": "stream",
       "stream": "stdout",
       "text": [
        "\n"
       ]
      }
     ],
     "prompt_number": 29
    }
   ],
   "metadata": {}
  }
 ]
}