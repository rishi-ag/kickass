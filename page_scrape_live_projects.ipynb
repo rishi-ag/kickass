{
 "metadata": {
  "name": ""
 },
 "nbformat": 3,
 "nbformat_minor": 0,
 "worksheets": [
  {
   "cells": [
    {
     "cell_type": "code",
     "collapsed": false,
     "input": [
      "from bs4 import BeautifulSoup\n",
      "import urllib\n",
      "import re\n",
      "#general format is https://www.kickstarter.com/projects/creatorname/campaignname/description\n",
      "r = urllib.urlopen('https://www.kickstarter.com/projects/envelop/envelop-3d-sound?ref=category_featured')\n",
      "soup = BeautifulSoup(r)\n"
     ],
     "language": "python",
     "metadata": {},
     "outputs": [],
     "prompt_number": 1
    },
    {
     "cell_type": "code",
     "collapsed": false,
     "input": [
      "title= soup.find_all(\"meta\", property=\"og:title\")[0].get(\"content\")\n",
      "title"
     ],
     "language": "python",
     "metadata": {},
     "outputs": [
      {
       "metadata": {},
       "output_type": "pyout",
       "prompt_number": 2,
       "text": [
        "'ENVELOP - 3D Sound'"
       ]
      }
     ],
     "prompt_number": 2
    },
    {
     "cell_type": "code",
     "collapsed": false,
     "input": [
      "\n",
      "blurb=soup.find_all(property=re.compile(\"og:description\"))[0].get(\"content\")\n",
      "blurb"
     ],
     "language": "python",
     "metadata": {},
     "outputs": [
      {
       "metadata": {},
       "output_type": "pyout",
       "prompt_number": 3,
       "text": [
        "'ENVELOP is a 3D sound platform that is creating a space in San Francisco for live electronic music, DJ sets and educational workshops.'"
       ]
      }
     ],
     "prompt_number": 3
    },
    {
     "cell_type": "code",
     "collapsed": false,
     "input": [
      "creator_url=soup.find_all(property=re.compile(\"kickstarter:creator\"))[0].get(\"content\")\n",
      "creator_url"
     ],
     "language": "python",
     "metadata": {},
     "outputs": [
      {
       "metadata": {},
       "output_type": "pyout",
       "prompt_number": 4,
       "text": [
        "'https://www.kickstarter.com/profile/envelop'"
       ]
      }
     ],
     "prompt_number": 4
    },
    {
     "cell_type": "code",
     "collapsed": false,
     "input": [
      "\n",
      "a=soup.find_all(\"div\", class_=\"num h1 bold\")[0]\n",
      "no_backers=a.contents[0].string\n",
      "print no_backers"
     ],
     "language": "python",
     "metadata": {},
     "outputs": [
      {
       "output_type": "stream",
       "stream": "stdout",
       "text": [
        "285\n"
       ]
      }
     ],
     "prompt_number": 50
    },
    {
     "cell_type": "code",
     "collapsed": false,
     "input": [
      "#reg = re.compile(\"\\d.*\",flags=re.U)\n",
      "#goal=reg.findall(ist(soup.find_all(\"span\", class_=\"money usd no-code\")[2])[0].string)\n",
      "goal= soup.find_all(\"div\", class_=\"num h1 bold nowrap\")[0].get(\"data-goal\")\n",
      "goal"
     ],
     "language": "python",
     "metadata": {},
     "outputs": [
      {
       "metadata": {},
       "output_type": "pyout",
       "prompt_number": 107,
       "text": [
        "'27333.0'"
       ]
      }
     ],
     "prompt_number": 107
    },
    {
     "cell_type": "code",
     "collapsed": false,
     "input": [
      "#no_dollars_raised=list(soup(\"div\", class_=\"NS_projects__stats\")[0])[3].string\n",
      "#no_dollars_raised\n",
      "no_dollars_raised= soup.find_all(\"div\", class_=\"num h1 bold nowrap\")[0].get(\"data-pledged\")\n",
      "no_dollars_raised"
     ],
     "language": "python",
     "metadata": {},
     "outputs": [
      {
       "metadata": {},
       "output_type": "pyout",
       "prompt_number": 112,
       "text": [
        "'29303.0'"
       ]
      }
     ],
     "prompt_number": 112
    },
    {
     "cell_type": "code",
     "collapsed": false,
     "input": [
      "#length of campaign\n",
      "x=[item.get(\"data-duration\")  for item in soup.find_all(\"span\") ]\n",
      "campaign_duration=[item for item in x if item is not None][0]\n",
      "y=[item.get(\"data-hours-remaining\")  for item in soup.find_all(\"span\") ]\n",
      "campaign_hours_remaining=[item for item in y if item is not None][0]\n",
      "print campaign_duration\n",
      "print campaign_hours_remaining"
     ],
     "language": "python",
     "metadata": {},
     "outputs": [
      {
       "output_type": "stream",
       "stream": "stdout",
       "text": [
        "33.0\n",
        "381.7912868479888\n"
       ]
      }
     ],
     "prompt_number": 161
    },
    {
     "cell_type": "code",
     "collapsed": false,
     "input": [
      "def something(b):\n",
      "    try:\n",
      "        a = 10 / b\n",
      "    except:\n",
      "        a = None\n",
      "    return(a)\n",
      "\n",
      "something(0)"
     ],
     "language": "python",
     "metadata": {},
     "outputs": [],
     "prompt_number": 52
    },
    {
     "cell_type": "code",
     "collapsed": false,
     "input": [
      "\n",
      "b=list(set(list(soup.find_all(class_=\"NS_backer_rewards__reward p2\"))))\n",
      "\n",
      "\n",
      "#item(\"span\", class_=\"limited-number\")[0].get_text()\n",
      "#[item(\"span\", class_=\"limited-number\")[0].get_text() for item in b]\n",
      "limited = []\n",
      "for item in b: \n",
      "    try:\n",
      "        limited.append(item(\"span\", class_=\"limited-number\")[0].get_text())\n",
      "    except:\n",
      "        limited.append(None)\n",
      "        \n",
      "limited[0]"
     ],
     "language": "python",
     "metadata": {},
     "outputs": [
      {
       "metadata": {},
       "output_type": "pyout",
       "prompt_number": 347,
       "text": [
        "u'Limited (67 left of 75)'"
       ]
      }
     ],
     "prompt_number": 347
    },
    {
     "cell_type": "code",
     "collapsed": false,
     "input": [
      "#Rewards\n",
      "backer_list = [backers(\"span\", class_=\"num-backers mr1\")[0].get_text().replace(\"\\n\",\"\") for backers in b]\n",
      "reward_item_list = list([item(\"div\",class_=\"desc h5 mb2 break-word\")[0].get_text().replace(\"\\n\",\"\") for item in b])\n",
      "reg = re.compile(\"\\d+\",flags=re.U)\n",
      "reward_value_list=[reg.findall(item(\"h5\",class_=\"mb1\")[0].span.get_text().replace(\",\",\"\")) for item in b]\n",
      "\n",
      "print backer_list[0]\n",
      "print reward_value_list[0]\n",
      "print reward_item_list[0]"
     ],
     "language": "python",
     "metadata": {},
     "outputs": [
      {
       "output_type": "stream",
       "stream": "stdout",
       "text": [
        "8 backers\n",
        "[u'25']\n",
        "Single-ticket voucher to and ENVELOP event1 ticket promo code voucher valid for ENVELOP-produced events and performances. This voucher can be used in lieu of payment for a single event ticket. Not valid for special events or 3rd party productions. (Our events will be awesome.)\n"
       ]
      }
     ],
     "prompt_number": 348
    },
    {
     "cell_type": "code",
     "collapsed": false,
     "input": [
      "reward_backer_tup = (zip(reward_value_list, backer_list,reward_item_list, limited))\n",
      "reward_backer_tup[0]"
     ],
     "language": "python",
     "metadata": {},
     "outputs": [
      {
       "metadata": {},
       "output_type": "pyout",
       "prompt_number": 345,
       "text": [
        "([u'25'],\n",
        " u'8 backers',\n",
        " u'Single-ticket voucher to and ENVELOP event1 ticket promo code voucher valid for ENVELOP-produced events and performances. This voucher can be used in lieu of payment for a single event ticket. Not valid for special events or 3rd party productions. (Our events will be awesome.)',\n",
        " u'Limited (67 left of 75)')"
       ]
      }
     ],
     "prompt_number": 345
    },
    {
     "cell_type": "code",
     "collapsed": false,
     "input": [
      "full_description=soup(\"div\", class_=\"full-description js-full-description responsive-media formatted-lists\")[0].find_all(\"p\")"
     ],
     "language": "python",
     "metadata": {},
     "outputs": [
      {
       "metadata": {},
       "output_type": "pyout",
       "prompt_number": 357,
       "text": [
        "[<p><b>Thank you for helping us hit 100% in 16 days!</b><br/>Our funding goal was the bare minimum we needed to install ENVELOP. Together we made this happen!<br/><br/><b>Now we must hit our stretch goals to take this project to the next level! </b><br/>See below for the budget of our new goals, and how you contribution matters. Many of our best rewards still remain!\u00a0</p>,\n",
        " <p>For over 50 years we have been listening to music in stereo (two speakers), but we hear in 3 dimensions. Our natural mechanism for listening is designed to perceive sounds coming from all around us: however, our ability to experience music has been limited by the geometry of stereo for decades. We believe the time is ripe for that to change.\u00a0</p>,\n",
        " <p>ENVELOP is a 3D sound platform that introduces an open source software toolkit and educational initiatives to help any artist align their creativity with new technologies for creating music in three dimensions.</p>,\n",
        " <p>We are creating a next-generation 28.4 speaker audiovisual system that features innovative technology to move sound in space around the audience from any direction. ENVELOP is new environment for artists to create and perform music in 3D surround sound.</p>,\n",
        " <p>We have already received generous donations to pay for the ENVELOP system equipment, and have secured a 3 year lease in a prime location. We have a small gap in the funding needed to make this project come to life and need the community's support to fund the final build out. \u00a0</p>,\n",
        " <p>Together we can influence the future of music and make it a 3D experience.</p>,\n",
        " <p>\u00a0ENVELOP will be used in the following ways:</p>,\n",
        " <p>The ENVELOP 28.4 channel sound system can produce sounds coming from above, below, in front of, behind, and completely around an audience. A high-fidelity video projection system and LED lights embedded within the ENVELOP columns can be controlled in unison with audio to build synchronized audio/visual compositions.</p>,\n",
        " <p>The ENVELOP system will be built in a dedicated space within The Midway, a new massive and diverse arts and entertainment complex opening this summer in the rapidly up-and-coming Dogpatch district of San Francisco. The Midway is planned to include a large-scale night club, cafe/lounge, artist studios, art galleries, a teaching kitchen, and offices for local non-profits. Our physical home within the Midway creative complex connects ENVELOP with a diverse audience and to creators in many different domains.</p>,\n",
        " <p>So what actually does \u201cimmersive audio\u201d or \u201c3D sound\u201d actually mean? It\u2019s a new concept for a lot of people.  Think of it this way; what if music was composed to move around you from all directions, not just from in front of you?</p>,\n",
        " <p>For over 50 years the music industry has been firmly rooted in stereo sound.  Naturally occurring sound on the other hand comes at us from all angles, not just the direction we are facing.  Yet the music we all listen to is still created using a technology that does not allow sound to move around us from every angle.  </p>,\n",
        " <p>It is no mystery that sound and music has the power to influence our emotions, psychological state and physical sensations.\u00a0<i>3D-immersive audio literally puts you inside the music.</i>  It can can foster a more intimate connection with sound, and deepen the way we listen.</p>,\n",
        " <p>We believe that new ways of listening will encourage new ways of creating and thinking about music production, and with shifts in listening come shifts in consciousness.</p>,\n",
        " <p>The foundation of ENVELOP\u2019s technology is Ambisonics, a proven open source sound mapping technology that has flourished in academic settings (such as Stanford\u2019s CCRMA).  Envelop will bring this technology out of academia and to the general public as a permanent installation for the first time in the Bay Area.</p>,\n",
        " <p>With Ambisonics, artists determine a virtual location in space where they want to place a sound source, and the source is then rendered within a spherical array of speakers. Ambisonics is a coordinate based mapping system; rather than positioning sounds to different locations around the room based on speaker locations (as with conventional surround sound techniques), sounds are digitally mapped to different locations using x,y,z coordinates. All the speakers then work simultaneously to position and move sound around the listener from any direction - above, below, and even between speakers.  </p>,\n",
        " <p>Want to geek out? - <a href=\"https://www.dropbox.com/s/ht55u4rqiu9kjm5/An%20Introduction%20to%20Higher-Order%20Ambisonic.pdf?dl=0\" target=\"_blank\">Introduction to Higher Order Ambisonic</a></p>,\n",
        " <p>ENVELOP is building a suite of open source tools for artists to control sound in three dimensions. These tools integrate seamlessly into artists' existing workflow with a very gentle learning curve.  A musician will be able to determine where sound elements within their mix are positioned around the room, as easily as tempo or pitch are controlled.  Creative coders may contribute their own code for synthesis, effects, controllers, and content so that the ENVELOP instrument will become richer and more powerful over time. Here are a few ENVELOP tools currently in development:</p>,\n",
        " <p><b>Amb4Live</b></p>,\n",
        " <p>Allows Ableton Live users to place and apply spatial effects to individual instruments</p>,\n",
        " <p><b>Flocker</b></p>,\n",
        " <p>Using generative processes, sounds can migrate organically around a virtual sphere of sound.</p>,\n",
        " <p><b>AuraMix</b></p>,\n",
        " <p>Any sound source can become a 3D mix.</p>,\n",
        " <p><b>Aura3DJ</b></p>,\n",
        " <p>This tool allows DJs to move a stereo performance around in 3D, in real-time, as they mix.</p>,\n",
        " <p>Generous private donations have helped us acquire the core technology needed for the ENVELOP system in San Francisco, but we still need to pay for the installation and integration of this technology; the construction of a main console, an acoustic treatment of the space, and the 8 massive columns that hold the speakers. Without this money, the project will not happen.\u00a0</p>,\n",
        " <p><b>Speaker Column Installation</b><b>\u00a0- $6,371\u00a0</b></p>,\n",
        " <p><b>\u00a0Main Producer Console / Gear Rack - $4,500</b></p>,\n",
        " <p><b>Acoustic Treatment - $13,728</b></p>,\n",
        " <p>Acoustic panels 4' x 2' gray (qty 6) -\u00a0$6,360<br/>Acoustic panels, ceiling top -\u00a0$3,360<br/>Corner Bass Traps 4' -\u00a0$560<br/>Push-on impalers (qty 24) -\u00a0$320<br/>Offset impalers (qty 8) -\u00a0$700<br/>Acoustic panels 2' x 2' (diffusers) -\u00a0$880<br/>Acoustic panels, ceiling sides (qty 8) -\u00a0$1,249<br/>Install materials, hardware -\u00a0$300</p>,\n",
        " <p><b>EXPENSES TOTAL = $27,333\u00a0</b>(5% for Kickstarter fee + 5% processing included)</p>,\n",
        " <p>Currently we are building the eight columns for the ENVELOP space in San Francisco, and working on hardware and software integration. \u00a0Once this campaign comes to a close, in early May 2015, the room that we are installing the system in will be nearing completion.</p>,\n",
        " <p><b>Day 0 - </b>Campaign comes to a (hopefully successful) close.<br/>Backers are contacted via email, fulfillment schedule is shared.<br/>Engravings for columns are ordered. Private parties are scheduled.</p>,\n",
        " <p><b>Day 1 - </b>Stickers, CDs, wearables are sent in the mail.\u00a0Ticket vouchers are sent to backers. All orders are fulfilled.</p>,\n",
        " <p><b>Day 2 - </b>We will order installation materials that we can now afford! This includes electrical wiring, concrete, and heavy-duty hardware for bolting and securing 12ft steel columns with three\u00a0heavy speakers within.</p>,\n",
        " <p><b>Day 3 - </b>Begin to look at acoustic treatment options that we can now afford.</p>,\n",
        " <p><b>Day 4-10 - </b>Depending on if our room is completed or not, we will begin initial installation with materials bought with funds from this campaign.</p>,\n",
        " <p><b>Day 10-20 - </b>Console is installed and acoustic treatment mounted on walls.</p>,\n",
        " <p><b>Day 20-30 - </b>Sound testing and calibration begins.</p>,\n",
        " <p><b>Day 30-41 </b>ENVELOP opens to the public!</p>,\n",
        " <p>We have hit 100% in 16 days! Thank You! Now let's take this project to the next level! Your contribution matters so much to the success of this project and it's many components. + Many of our best rewards still remain! </p>,\n",
        " <p><b>STRETCH GOAL 1 - $22,200</b></p>,\n",
        " <p><b>Upgrading our video projection system -</b>\u00a0We would like for our video system to be fully immersive, enabling us to projection map the surrounding columns.\u00a0<b>$15,000</b></p>,\n",
        " <p><b>Educational Initiatives</b> - \u00a0We want to create and promote workshops that will be offered to the public. We need money to seed this initiative and pay teachers and technicians for their hours spent making it happen.\u00a0<b>$7,200</b></p>,\n",
        " <p><b>STRETCH GOAL 2 - $21,400</b></p>,\n",
        " <p><b>Artist in residency - $6,200</b></p>,\n",
        " <p><b>Website development - </b>We would like to build out our site to include a greater user experience, allowing connections with other artists and music lovers that believe in 3D sound.<b>\u00a0$5,000</b><br/><b><br/>Operating expenses -</b>\u00a0For the next year of events we have a large expense just to keep the system in use. This includes paying a technician to be on-site whenever an event is happening. <b>$7,200</b><br/><b><br/>Seating and cushions</b> - For many of our events people will want to relax. We need a creative solution for bean bags, or some form of seats that are designed to connect with the space and how people listen. <b>$3,000</b></p>,\n",
        " <p><b>Andrew Kimpel</b> -\u00a0Andrew is an electrical / software engineer and product architect with 30 years experience in embedded software development and DSP algorithm design, and 15 years experience in the fields of audio engineering, acoustics, psychoacoustics, and spatial audio. \u00a0</p>,\n",
        " <p><b>Christopher Willits</b> -  Christopher is a creator. A composer, producer, photographer, filmmaker, graduate school teacher, touring electronic musician, and\u00a0guitar pioneer. He\u00a0designs experiences of sound and light, with the intention of creating a space for opening and reflection. </p>,\n",
        " <p><b>Elan Rosenman</b> - Elan is a pioneer in exploring different applications for spatial audio and Ambisonics, including physical healing, personal development, and neuro-acoustic science. Elan is passionate about realizing the potential of sound and music to impact the mind, body and spirit.</p>,\n",
        " <p><b>Roddy Lindsay </b>-\u00a0Roddy is a software engineer and entrepreneur, most recently as founder and CEO of WineGlass, a mobile application. He has been building tools for Ambisonic composition and performance since 2009.</p>]"
       ]
      }
     ],
     "prompt_number": 357
    },
    {
     "cell_type": "code",
     "collapsed": false,
     "input": [
      "c=list(soup(\"div\", class_=\"mb6 mb2\"))\n",
      "r=[item(\"p\") for item in c][0]\n",
      "\n",
      "#Grabbing the risk text section\n",
      "risk=[para.get_text() for para in r]\n",
      "risk"
     ],
     "language": "python",
     "metadata": {},
     "outputs": [
      {
       "metadata": {},
       "output_type": "pyout",
       "prompt_number": 350,
       "text": [
        "[u\"The only main risk is that our launch date might be delayed because we are subject to The Midway's construction schedule (The Midway is the larger complex that the ENVELOP space is a part of). Currently our room is being built, see photo above in the budget section. If there are any construction delays with the room we are installing the system in, our launch date will be delayed as well.\",\n",
        " u'Another challenge is making sure people know that ENVELOP is more than just a venue in San Francisco. It\\u2019s a platform for 3D immersive sound and anyone in the world can benefit from this technology.']"
       ]
      }
     ],
     "prompt_number": 350
    },
    {
     "cell_type": "code",
     "collapsed": false,
     "input": [
      "import urllib2\n",
      "import json"
     ],
     "language": "python",
     "metadata": {},
     "outputs": [],
     "prompt_number": 63
    },
    {
     "cell_type": "code",
     "collapsed": false,
     "input": [
      "def get_one_project_det(pid, url, currency):\n",
      "    r = urllib.urlopen(url)\n",
      "    soup = BeautifulSoup(r)\n",
      "    \n",
      "    #the reward values and rewards\n",
      "    b=list(soup.find_all(class_=\"NS_projects__rewards_list js-project-rewards\"))\n",
      "    reward_value_list = [reward.string.split()[0] for reward in b[0](\"h5\",class_=\"mb1\")]\n",
      "    backer_list = [backers.string.split()[0]+' backers' for backers in b[0](\"span\", class_=\"num-backers mr1\")]\n",
      "    reward_item_list = [item(\"p\")[0].get_text() for item in b[0](\"div\",class_=\"desc h5 mb2 break-word\")]\n",
      "    \n",
      "    #removing currency sign from reward value\n",
      "    reg = re.compile(\"\\d.*\",flags=re.U)\n",
      "    reward_value_list = [reg.findall(reward.string.split()[0])[0] for reward in b[0](\"h5\",class_=\"mb1\")]\n",
      "\n",
      "    \n",
      "    \n",
      "    #risk information\n",
      "    c=list(soup(\"div\", class_=\"mb6 mb2\"))\n",
      "    risk=[item(\"p\") for item in c][0]\n",
      "    \n",
      "    \n",
      "    project_det = dict()\n",
      "    project_det[\"title\"] = soup.find_all(\"meta\", property=\"og:title\")[0].get(\"content\")\n",
      "    #project_det[\"blurb1\"] = soup.find_all(property=re.compile(\"og:description\"))[0].get(\"content\") \n",
      "    project_det[\"creator_url\"] = soup.find_all(property=re.compile(\"kickstarter:creator\"))[0].get(\"content\")\n",
      "    project_det[\"no_backers\"] = list(soup(\"div\", class_=\"NS_projects__spotlight_stats\")[0])[1].string\n",
      "    project_det[\"goal\"] = reg.findall(list(soup.find_all(\"span\", class_=\"money \" +currency.lower()+ \" no-code\")[2])[0].string)\n",
      "    project_det[\"no_dollars_raised\"] = list(soup(\"div\", class_=\"NS_projects__spotlight_stats\")[0])[3].string\n",
      "    project_det[\"reward_backer_tup\"] = (zip(reward_value_list, backer_list,reward_item_list))\n",
      "    project_det[\"risk\"] = [para.get_text() for para in risk]\n",
      "    project_det[\"id\"] = pid\n",
      "    project_det[\"url\"] = url\n",
      "    \n",
      "    return(project_det)"
     ],
     "language": "python",
     "metadata": {},
     "outputs": [],
     "prompt_number": 65
    },
    {
     "cell_type": "code",
     "collapsed": false,
     "input": [
      "#open url information\n",
      "fd = open('./data/project_successful_meta.json', 'r')\n",
      "text = fd.read()\n",
      "fd.close()\n",
      "\n",
      "pmeta = json.loads(text)"
     ],
     "language": "python",
     "metadata": {},
     "outputs": [],
     "prompt_number": 66
    },
    {
     "cell_type": "code",
     "collapsed": false,
     "input": [
      "project_succ_det = [get_one_project_det(project_header[\"id\"], project_header[\"url\"],project_header[\"currency\"]) for project_header in pmeta[0:500]]"
     ],
     "language": "python",
     "metadata": {},
     "outputs": [],
     "prompt_number": 68
    },
    {
     "cell_type": "code",
     "collapsed": false,
     "input": [
      "\n",
      "#Save data to file for further use\n",
      "project_meta_json = json.dumps(obj = project_succ_det, indent = 4)\n",
      "fd = open(\"./data/project_live_detail.json\", \"w\")\n",
      "fd.write(project_meta_json)\n",
      "fd.close()"
     ],
     "language": "python",
     "metadata": {},
     "outputs": []
    },
    {
     "cell_type": "code",
     "collapsed": false,
     "input": [
      "reward_item_list[1]"
     ],
     "language": "python",
     "metadata": {},
     "outputs": [
      {
       "metadata": {},
       "output_type": "pyout",
       "prompt_number": 60,
       "text": [
        "u'EARLY BIRD: Receive one Pantelligent pan at a special discount. Thank you for being among the first to support our vision!\\n(Please add $30 for international shipping)'"
       ]
      }
     ],
     "prompt_number": 60
    }
   ],
   "metadata": {}
  }
 ]
}