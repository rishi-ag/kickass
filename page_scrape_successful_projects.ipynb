{
 "metadata": {
  "name": ""
 },
 "nbformat": 3,
 "nbformat_minor": 0,
 "worksheets": [
  {
   "cells": [
    {
     "cell_type": "code",
     "collapsed": false,
     "input": [
      "from bs4 import BeautifulSoup\n",
      "import urllib\n",
      "import re\n",
      "#general format is https://www.kickstarter.com/projects/creatorname/campaignname\n",
      "r = urllib.urlopen('https://www.kickstarter.com/projects/hevans/pantelligent-intelligent-pan-cook-everything-perfe/description')\n",
      "soup = BeautifulSoup(r)\n"
     ],
     "language": "python",
     "metadata": {},
     "outputs": [],
     "prompt_number": 51
    },
    {
     "cell_type": "code",
     "collapsed": false,
     "input": [
      "title= soup.find_all(\"meta\", property=\"og:title\")[0].get(\"content\")\n",
      "title"
     ],
     "language": "python",
     "metadata": {},
     "outputs": [
      {
       "metadata": {},
       "output_type": "pyout",
       "prompt_number": 52,
       "text": [
        "'Pantelligent: Intelligent Pan - Cook Everything Perfectly'"
       ]
      }
     ],
     "prompt_number": 52
    },
    {
     "cell_type": "code",
     "collapsed": false,
     "input": [
      "\n",
      "blurb=soup.find_all(property=re.compile(\"og:description\"))[0].get(\"content\")\n",
      "blurb"
     ],
     "language": "python",
     "metadata": {},
     "outputs": [
      {
       "metadata": {},
       "output_type": "pyout",
       "prompt_number": 53,
       "text": [
        "'The smart frying pan of the future. Now anyone can cook delicious meals perfectly. The secret ingredient is temperature control.'"
       ]
      }
     ],
     "prompt_number": 53
    },
    {
     "cell_type": "code",
     "collapsed": false,
     "input": [
      "creator_url=soup.find_all(property=re.compile(\"kickstarter:creator\"))[0].get(\"content\")\n",
      "creator_url"
     ],
     "language": "python",
     "metadata": {},
     "outputs": [
      {
       "metadata": {},
       "output_type": "pyout",
       "prompt_number": 54,
       "text": [
        "'https://www.kickstarter.com/profile/hevans'"
       ]
      }
     ],
     "prompt_number": 54
    },
    {
     "cell_type": "code",
     "collapsed": false,
     "input": [
      "no_backers=list(soup(\"div\", class_=\"NS_projects__spotlight_stats\")[0])[1].string\n",
      "no_backers"
     ],
     "language": "python",
     "metadata": {},
     "outputs": [
      {
       "metadata": {},
       "output_type": "pyout",
       "prompt_number": 55,
       "text": [
        "u'464 backers'"
       ]
      }
     ],
     "prompt_number": 55
    },
    {
     "cell_type": "code",
     "collapsed": false,
     "input": [
      "reg = re.compile(\"\\d.*\",flags=re.U)\n",
      "goal=reg.findall(list(soup.find_all(\"span\", class_=\"money usd no-code\")[2])[0].string)\n",
      "goal\n"
     ],
     "language": "python",
     "metadata": {},
     "outputs": [
      {
       "metadata": {},
       "output_type": "pyout",
       "prompt_number": 56,
       "text": [
        "[u'30,000']"
       ]
      }
     ],
     "prompt_number": 56
    },
    {
     "cell_type": "code",
     "collapsed": false,
     "input": [
      "no_dollars_raised=list(soup(\"div\", class_=\"NS_projects__spotlight_stats\")[0])[3].string\n",
      "no_dollars_raised"
     ],
     "language": "python",
     "metadata": {},
     "outputs": [
      {
       "metadata": {},
       "output_type": "pyout",
       "prompt_number": 57,
       "text": [
        "u'$83,206'"
       ]
      }
     ],
     "prompt_number": 57
    },
    {
     "cell_type": "code",
     "collapsed": false,
     "input": [],
     "language": "python",
     "metadata": {},
     "outputs": [],
     "prompt_number": 57
    },
    {
     "cell_type": "code",
     "collapsed": false,
     "input": [
      "#Rewards\n",
      "b=list(soup.find_all(class_=\"NS_projects__rewards_list js-project-rewards\"))\n",
      "backer_list = [backers.string.split()[0]+' backers' for backers in b[0](\"span\", class_=\"num-backers mr1\")]\n",
      "reward_item_list = [item(\"p\")[0].get_text() for item in b[0](\"div\",class_=\"desc h5 mb2 break-word\")]\n",
      "reward_item_list"
     ],
     "language": "python",
     "metadata": {},
     "outputs": [
      {
       "metadata": {},
       "output_type": "pyout",
       "prompt_number": 58,
       "text": [
        "[u\"SUPPORTER: Thanks! You'll be notified of all backer updates.\",\n",
        " u'EARLY BIRD: Receive one Pantelligent pan at a special discount. Thank you for being among the first to support our vision!\\n(Please add $30 for international shipping)',\n",
        " u'PANTELLIGENT: Receive one Pantelligent pan. Thank you for being part of the future of cooking!\\n(Please add $30 for international shipping)',\n",
        " u'RETAIL PRICE: Receive one Pantelligent pan. After the Kickstarter campaign, the regular retail price will be $249. (Please add $30 for international shipping)',\n",
        " u'GIVE ONE, GET ONE: Receive two Pantelligent pans so you can share with someone you love!\\n(Please add $30 for international shipping)',\n",
        " u'BETA TESTER: Receive one of our functional prototype units as soon as the campaign closes and start cooking right away! We\\'ll also upgrade you to the production model once that ships. For those who just \"gotta have it now\"!']"
       ]
      }
     ],
     "prompt_number": 58
    },
    {
     "cell_type": "code",
     "collapsed": false,
     "input": [
      "reg = re.compile(\"\\d.*\",flags=re.U)\n",
      "\n",
      "reward_value_list = [reg.findall(reward.string.split()[0])[0] for reward in b[0](\"h5\",class_=\"mb1\")]\n",
      "reward_value_list"
     ],
     "language": "python",
     "metadata": {},
     "outputs": [
      {
       "metadata": {},
       "output_type": "pyout",
       "prompt_number": 59,
       "text": [
        "[u'5', u'169', u'199', u'249', u'399', u'1,999']"
       ]
      }
     ],
     "prompt_number": 59
    },
    {
     "cell_type": "code",
     "collapsed": false,
     "input": [
      "reward_item_list[1]"
     ],
     "language": "python",
     "metadata": {},
     "outputs": [
      {
       "metadata": {},
       "output_type": "pyout",
       "prompt_number": 60,
       "text": [
        "u'EARLY BIRD: Receive one Pantelligent pan at a special discount. Thank you for being among the first to support our vision!\\n(Please add $30 for international shipping)'"
       ]
      }
     ],
     "prompt_number": 60
    },
    {
     "cell_type": "code",
     "collapsed": false,
     "input": [
      "reward_backer_tup = (zip(reward_value_list, backer_list,reward_item_list))\n",
      "reward_backer_tup[1]"
     ],
     "language": "python",
     "metadata": {},
     "outputs": [
      {
       "metadata": {},
       "output_type": "pyout",
       "prompt_number": 61,
       "text": [
        "(u'169',\n",
        " u'50 backers',\n",
        " u'EARLY BIRD: Receive one Pantelligent pan at a special discount. Thank you for being among the first to support our vision!\\n(Please add $30 for international shipping)')"
       ]
      }
     ],
     "prompt_number": 61
    },
    {
     "cell_type": "code",
     "collapsed": false,
     "input": [
      "c=list(soup(\"div\", class_=\"mb6 mb2\"))\n",
      "r=[item(\"p\") for item in c][0]\n",
      "\n",
      "#Grabbing the risk text section\n",
      "risk=[para.get_text() for para in r]"
     ],
     "language": "python",
     "metadata": {},
     "outputs": [],
     "prompt_number": 62
    },
    {
     "cell_type": "code",
     "collapsed": false,
     "input": [
      "import urllib2\n",
      "import json"
     ],
     "language": "python",
     "metadata": {},
     "outputs": [],
     "prompt_number": 63
    },
    {
     "cell_type": "code",
     "collapsed": false,
     "input": [
      "def get_one_project_det(pid, url, currency):\n",
      "    r = urllib.urlopen(url)\n",
      "    soup = BeautifulSoup(r)\n",
      "    \n",
      "    #the reward values and rewards\n",
      "    b=list(soup.find_all(class_=\"NS_projects__rewards_list js-project-rewards\"))\n",
      "    reward_value_list = [reward.string.split()[0] for reward in b[0](\"h5\",class_=\"mb1\")]\n",
      "    backer_list = [backers.string.split()[0]+' backers' for backers in b[0](\"span\", class_=\"num-backers mr1\")]\n",
      "    reward_item_list = [item(\"p\")[0].get_text() for item in b[0](\"div\",class_=\"desc h5 mb2 break-word\")]\n",
      "    \n",
      "    #removing currency sign from reward value\n",
      "    reg = re.compile(\"\\d.*\",flags=re.U)\n",
      "    reward_value_list = [reg.findall(reward.string.split()[0])[0] for reward in b[0](\"h5\",class_=\"mb1\")]\n",
      "\n",
      "    \n",
      "    \n",
      "    #risk information\n",
      "    c=list(soup(\"div\", class_=\"mb6 mb2\"))\n",
      "    risk=[item(\"p\") for item in c][0]\n",
      "    \n",
      "    \n",
      "    project_det = dict()\n",
      "    project_det[\"title\"] = soup.find_all(\"meta\", property=\"og:title\")[0].get(\"content\")\n",
      "    project_det[\"blurb1\"] = soup.find_all(property=re.compile(\"og:description\"))[0].get(\"content\") \n",
      "    project_det[\"creator_url\"] = soup.find_all(property=re.compile(\"kickstarter:creator\"))[0].get(\"content\")\n",
      "    project_det[\"no_backers\"] = list(soup(\"div\", class_=\"NS_projects__spotlight_stats\")[0])[1].string\n",
      "    project_det[\"goal\"] = reg.findall(list(soup.find_all(\"span\", class_=\"money \" +currency.lower()+ \" no-code\")[2])[0].string)\n",
      "    project_det[\"no_dollars_raised\"] = list(soup(\"div\", class_=\"NS_projects__spotlight_stats\")[0])[3].string\n",
      "    project_det[\"reward_backer_tup\"] = (zip(reward_value_list, backer_list,reward_item_list))\n",
      "    project_det[\"risk\"] = [para.get_text() for para in risk]\n",
      "    project_det[\"id\"] = pid\n",
      "    project_det[\"url\"] = url\n",
      "    \n",
      "    return(project_det)"
     ],
     "language": "python",
     "metadata": {},
     "outputs": [],
     "prompt_number": 65
    },
    {
     "cell_type": "code",
     "collapsed": false,
     "input": [
      "#open url information\n",
      "fd = open('./data/project_successful_meta.json', 'r')\n",
      "text = fd.read()\n",
      "fd.close()\n",
      "\n",
      "pmeta = json.loads(text)"
     ],
     "language": "python",
     "metadata": {},
     "outputs": [],
     "prompt_number": 66
    },
    {
     "cell_type": "code",
     "collapsed": false,
     "input": [
      "project_succ_det = [get_one_project_det(project_header[\"id\"], project_header[\"url\"],project_header[\"currency\"]) for project_header in pmeta[0:500]]"
     ],
     "language": "python",
     "metadata": {},
     "outputs": [],
     "prompt_number": 68
    },
    {
     "cell_type": "code",
     "collapsed": false,
     "input": [
      "def something(b):\n",
      "    try:\n",
      "        a = 10 / b\n",
      "    except:\n",
      "        a = None\n",
      "    return(a)\n",
      "\n",
      "something(0)"
     ],
     "language": "python",
     "metadata": {},
     "outputs": [],
     "prompt_number": 52
    },
    {
     "cell_type": "code",
     "collapsed": false,
     "input": [
      "\n",
      "#Save data to file for further use\n",
      "project_meta_json = json.dumps(obj = project_succ_det, indent = 4)\n",
      "fd = open(\"./data/project_successful_detail.json\", \"w\")\n",
      "fd.write(project_meta_json)\n",
      "fd.close()"
     ],
     "language": "python",
     "metadata": {},
     "outputs": [],
     "prompt_number": 70
    },
    {
     "cell_type": "code",
     "collapsed": false,
     "input": [],
     "language": "python",
     "metadata": {},
     "outputs": []
    }
   ],
   "metadata": {}
  }
 ]
}