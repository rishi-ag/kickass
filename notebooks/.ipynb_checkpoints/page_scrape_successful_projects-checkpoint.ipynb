{
 "cells": [
  {
   "cell_type": "code",
   "execution_count": 1,
   "metadata": {
    "collapsed": false
   },
   "outputs": [],
   "source": [
    "from bs4 import BeautifulSoup\n",
    "import urllib\n",
    "import re\n",
    "\n",
    "import urllib2\n",
    "import json"
   ]
  },
  {
   "cell_type": "code",
   "execution_count": 2,
   "metadata": {
    "collapsed": false
   },
   "outputs": [],
   "source": [
    "#general format is https://www.kickstarter.com/projects/creatorname/campaignname\n",
    "\n",
    "#Creating a function to grab detailed text information about the project from the project's kicstarter page\n",
    "#Passing project id, url, and currency of funds requested from the meta data of successful project URLs\n",
    "# URLS from './data/project_successful_meta.json' created by the project_metadata.ipyth program\n",
    "\n",
    "\n",
    "\n",
    "def get_soup(url, pcounter):\n",
    "    #Creating beautiful soup object from URL\n",
    "    try:\n",
    "        r = urllib.urlopen(url)\n",
    "        return BeautifulSoup(r)\n",
    "    \n",
    "    except:\n",
    "        print \"Failing for count\", pcounter\n",
    "        return {pcounter: url}     \n",
    "        "
   ]
  },
  {
   "cell_type": "code",
   "execution_count": 3,
   "metadata": {
    "collapsed": false
   },
   "outputs": [],
   "source": [
    "\n",
    "def get_project_info(project_det, soup):\n",
    "    \n",
    "        #Need to obtain the donation values and the reward/gifts associated with each donation value\n",
    "        #Reading in tag with multiple pieces of info on this\n",
    "        b=list(soup.find_all(class_=\"NS_projects__rewards_list js-project-rewards\"))\n",
    "        #Donation dollar amount group\n",
    "        reward_value_list = [reward.string.split()[0] \\\n",
    "                            for reward in b[0](\"h5\",class_=\"mb1\")]\n",
    "        #Number of backers associated with Donation dollar amount group\n",
    "        backer_list = [backers.string.split()[0]+' backers' \\\n",
    "                       for backers in b[0](\"span\", class_=\"num-backers mr1\")]\n",
    "        #Reward/gift associated with Donation dollar amount group\n",
    "        reward_item_list = [item(\"p\")[0].get_text() for item in b[0](\"div\",class_=\"desc h5 mb2 break-word\")]\n",
    "        \n",
    "        #removing currency sign from reward value\n",
    "        reg = re.compile(\"\\d.*\",flags=re.U)\n",
    "        reward_value_list = [reg.findall(reward.string.split()[0])[0] for reward in b[0](\"h5\",class_=\"mb1\")]\n",
    "    \n",
    "        #Text associated with the risks of the project--outlining project hurdles\n",
    "        c=list(soup(\"div\", class_=\"mb6 mb2\"))\n",
    "        risk=[item(\"p\") for item in c][0]\n",
    "        \n",
    "        #Creating a dictionary for each project id \n",
    "        \n",
    "        #Project title \n",
    "        project_det[\"title\"] = soup.find_all(\"meta\", property=\"og:title\")[0].get(\"content\")\n",
    "        #Blurb about project \n",
    "        # project_det[\"blurb1\"] = soup.find_all(property=re.compile(\"og:description\"))[0].get(\"content\")\n",
    "        #Creator's URL hompage\n",
    "        project_det[\"creator_url\"] = soup.find_all(property=re.compile(\"kickstarter:creator\"))[0].get(\"content\")\n",
    "        #Total number of backers\n",
    "        project_det[\"no_backers\"] = list(soup(\"div\", class_=\"NS_projects__spotlight_stats\")[0])[1].string\n",
    "        #Project goal amount---min value needed to be raised for successful project \n",
    "        #project_det[\"goal\"] = reg.findall(list(soup.find_all(\"span\", class_=\"money\" + project_det[\"currency\"].lower()+ \" no-code\")[2])[0].string)\n",
    "        #Number of dollars raised during campaign \n",
    "        project_det[\"no_dollars_raised\"] = list(soup(\"div\", class_=\"NS_projects__spotlight_stats\")[0])[3].string\n",
    "        #Information about donation amount groups, number of backer for group and gift associated with group \n",
    "        project_det[\"reward_backer_tup\"] = (zip(reward_value_list, backer_list,reward_item_list))\n",
    "        #Creator's detailed information about risks involved with the project \n",
    "        project_det[\"risk\"] = [para.get_text() for para in risk]\n",
    "        #project details\n",
    "        project_det[\"full_description\"]=soup(\"div\", class_=\"full-description js-full-description responsive-media formatted-lists\")[0].get_text()\n",
    "        \n",
    "        return(project_det)"
   ]
  },
  {
   "cell_type": "code",
   "execution_count": null,
   "metadata": {
    "collapsed": true
   },
   "outputs": [],
   "source": []
  },
  {
   "cell_type": "code",
   "execution_count": 20,
   "metadata": {
    "collapsed": false
   },
   "outputs": [
    {
     "data": {
      "text/plain": [
       "{u'author': u'BA Photography Camberwell',\n",
       " u'backers_count': 47,\n",
       " u'blurb': u'We need your help to raise money for our summer degree show!',\n",
       " u'category': {u'id': 1, u'slug': u'art'},\n",
       " u'currency': u'GBP',\n",
       " u'deadline': 1430780400,\n",
       " u'goal': 750.0,\n",
       " u'id': 930742094,\n",
       " u'launched_at': 1427898936,\n",
       " u'location': {u'country': u'GB',\n",
       "  u'name': u'Camberwell',\n",
       "  u'state': u'England'},\n",
       " u'name': u'Camberwell Photography Degree Show 2015',\n",
       " u'pledged': 1461.0,\n",
       " u'spotlight': True,\n",
       " u'state': u'successful',\n",
       " u'url': u'https://www.kickstarter.com/projects/1478864308/camberwell-photography-degree-show-2015/description'}"
      ]
     },
     "execution_count": 20,
     "metadata": {},
     "output_type": "execute_result"
    }
   ],
   "source": [
    "category=\"photography\"\n",
    "\n",
    "#open url information\n",
    "fd = open('/home/samanatha/repos/kickass/data/project_successful_meta_'+category+'.json', 'r')\n",
    "text = fd.read()\n",
    "fd.close()\n",
    "\n",
    "pmeta = json.loads(text)\n",
    "pmeta[1]"
   ]
  },
  {
   "cell_type": "code",
   "execution_count": 22,
   "metadata": {
    "collapsed": false,
    "scrolled": true
   },
   "outputs": [
    {
     "name": "stdout",
     "output_type": "stream",
     "text": [
      "('trying project ', 0)\n",
      "('trying project ', 20)\n",
      "('trying project ', 40)\n",
      "('trying project ', 60)\n",
      "('trying project ', 80)\n",
      "('trying project ', 100)\n",
      "('trying project ', 120)\n",
      "('trying project ', 140)\n",
      "('trying project ', 160)\n",
      "('trying project ', 180)\n",
      "('trying project ', 200)\n",
      "('trying project ', 220)\n",
      "('trying project ', 240)\n",
      "('trying project ', 260)\n",
      "('trying project ', 280)\n",
      "('trying project ', 300)\n",
      "('trying project ', 320)\n",
      "('trying project ', 340)\n",
      "('trying project ', 360)\n",
      "('trying project ', 380)\n",
      "('trying project ', 400)\n",
      "('trying project ', 420)\n",
      "('trying project ', 440)\n",
      "('trying project ', 460)\n",
      "('trying project ', 480)\n",
      "('trying project ', 500)\n",
      "('trying project ', 520)\n",
      "('trying project ', 540)\n",
      "('trying project ', 560)\n",
      "('trying project ', 580)\n",
      "('trying project ', 600)\n",
      "('trying project ', 620)\n",
      "('trying project ', 640)\n",
      "('trying project ', 660)\n",
      "('trying project ', 680)\n",
      "('trying project ', 700)\n",
      "('trying project ', 720)\n",
      "('trying project ', 740)\n",
      "('trying project ', 760)\n",
      "('trying project ', 780)\n",
      "('trying project ', 800)\n",
      "('trying project ', 820)\n",
      "('trying project ', 840)\n",
      "('trying project ', 860)\n",
      "('trying project ', 880)\n",
      "('trying project ', 900)\n",
      "('trying project ', 920)\n",
      "('trying project ', 940)\n",
      "('trying project ', 960)\n",
      "('trying project ', 980)\n",
      "('trying project ', 1000)\n"
     ]
    }
   ],
   "source": [
    "import time\n",
    "#call function created above to grab project details and loop through project for every url in pmeta file\n",
    "# for homework purposes, limited this to 500 urls, but we'll pull more for final project\n",
    "project_succ_soup = dict()\n",
    "\n",
    "for pcounter, project_header in enumerate(pmeta):\n",
    "    try:\n",
    "        if pcounter % 20 == 0  :\n",
    "            print(\"trying project \", pcounter)\n",
    "        project_succ_soup[project_header[\"id\"]] = get_soup(project_header[\"url\"], pcounter)\n",
    "    except:\n",
    "        print(\"failed for project element\", pcounter) \n",
    "        \n"
   ]
  },
  {
   "cell_type": "code",
   "execution_count": 23,
   "metadata": {
    "collapsed": false
   },
   "outputs": [],
   "source": [
    "project_details = []\n",
    "for project_header in pmeta:\n",
    "    try:\n",
    "        project_details.append(get_project_info(project_header, project_succ_soup[project_header[\"id\"]]))\n",
    "    except:\n",
    "        print \"This id \" + str(project_header[\"id\"]) + \" fucked you up!!!\"\n",
    "  "
   ]
  },
  {
   "cell_type": "code",
   "execution_count": null,
   "metadata": {
    "collapsed": true
   },
   "outputs": [],
   "source": []
  },
  {
   "cell_type": "code",
   "execution_count": 24,
   "metadata": {
    "collapsed": false
   },
   "outputs": [],
   "source": [
    "#Save data to file for further use\n",
    "project_details_json = json.dumps(obj = project_details, indent = 4)\n",
    "#File to look at for sample data\n",
    "fd = open(\"/home/samanatha/repos/kickass/data/project_successful_details_\"+category+\"_sample.json\", \"w\")\n",
    "fd.write(project_details_json)\n",
    "fd.close()"
   ]
  },
  {
   "cell_type": "code",
   "execution_count": 25,
   "metadata": {
    "collapsed": false
   },
   "outputs": [
    {
     "data": {
      "text/plain": [
       "{u'author': u'BA Photography Camberwell',\n",
       " u'backers_count': 47,\n",
       " u'blurb': u'We need your help to raise money for our summer degree show!',\n",
       " u'category': {u'id': 1, u'slug': u'art'},\n",
       " 'creator_url': 'https://www.kickstarter.com/profile/1478864308',\n",
       " u'currency': u'GBP',\n",
       " u'deadline': 1430780400,\n",
       " 'full_description': u'\\nHello\\xa0We are looking to raise money for our BA Photography Degree Show this coming June.All of the money that we raise will go towards producing the exhibition catalogue and to cover all of the building costs and materials involved in the installation of the show.With your help we hope to produce an innovative exhibition showcasing three years worth of diverse and exciting work.With the show fast approaching, we would be extremely grateful for donations of any amount!We would love to see you all at the Private View on the 22nd of June 6-9pmThank you !\\n\\n\\nJeremy Knowles\\n\\n\\n\\n\\n\\nLaura Frood\\n\\n\\n\\n\\n\\nGeorge Nicolaides\\n\\n\\n\\n\\n\\nMargot Litchfield\\n\\n\\n\\n\\n\\nTori Pedersen\\n\\n\\n',\n",
       " u'goal': 750.0,\n",
       " u'id': 930742094,\n",
       " u'launched_at': 1427898936,\n",
       " u'location': {u'country': u'GB',\n",
       "  u'name': u'Camberwell',\n",
       "  u'state': u'England'},\n",
       " u'name': u'Camberwell Photography Degree Show 2015',\n",
       " 'no_backers': u'47 backers',\n",
       " 'no_dollars_raised': u'\\xa31,461',\n",
       " u'pledged': 1461.0,\n",
       " 'reward_backer_tup': [(u'10',\n",
       "   u'3 backers',\n",
       "   u'A thank you email expressing our extreme gratitude!'),\n",
       "  (u'20',\n",
       "   u'17 backers',\n",
       "   u'An invitation to the Private View and a signed catalogue waiting for you on arrival'),\n",
       "  (u'50',\n",
       "   u'3 backers',\n",
       "   u'An invitation to the VIP Private View breakfast plus a catalogue and 1 print from our editions'),\n",
       "  (u'60',\n",
       "   u'2 backers',\n",
       "   u'An invitation to the VIP Private View breakfast plus a signed catalogue and 1 print from our editions'),\n",
       "  (u'80',\n",
       "   u'1 backers',\n",
       "   u'An invitation to the VIP Private View breakfast plus a signed catalogue and an advanced choice of 1 print from our editions'),\n",
       "  (u'110',\n",
       "   u'1 backers',\n",
       "   u'An invitation to the VIP Private View breakfast plus a signed catalogue and an advanced choice of 2 prints from our editions'),\n",
       "  (u'130',\n",
       "   u'2 backers',\n",
       "   u'An invitation to the VIP Private View breakfast plus a signed catalogue and an advanced choice of 3 prints from our editions')],\n",
       " 'risk': [u'Although we are also undertaking alternative funding activities such as bake sales and sponsorship, we simply cannot achieve the seamless and professional looking show we strive for without your donations.\\nThanks again'],\n",
       " u'spotlight': True,\n",
       " u'state': u'successful',\n",
       " 'title': 'Camberwell Photography Degree Show 2015',\n",
       " u'url': u'https://www.kickstarter.com/projects/1478864308/camberwell-photography-degree-show-2015/description'}"
      ]
     },
     "execution_count": 25,
     "metadata": {},
     "output_type": "execute_result"
    }
   ],
   "source": [
    "project_details[1]"
   ]
  }
 ],
 "metadata": {
  "kernelspec": {
   "display_name": "Python 2",
   "language": "python",
   "name": "python2"
  },
  "language_info": {
   "codemirror_mode": {
    "name": "ipython",
    "version": 2
   },
   "file_extension": ".py",
   "mimetype": "text/x-python",
   "name": "python",
   "nbconvert_exporter": "python",
   "pygments_lexer": "ipython2",
   "version": "2.7.6"
  }
 },
 "nbformat": 4,
 "nbformat_minor": 0
}
