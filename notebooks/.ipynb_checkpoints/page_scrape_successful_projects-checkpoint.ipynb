{
 "cells": [
  {
   "cell_type": "code",
   "execution_count": 23,
   "metadata": {
    "collapsed": false
   },
   "outputs": [],
   "source": [
    "from bs4 import BeautifulSoup\n",
    "import urllib\n",
    "import re\n",
    "\n",
    "import urllib2\n",
    "import json"
   ]
  },
  {
   "cell_type": "code",
   "execution_count": 43,
   "metadata": {
    "collapsed": false
   },
   "outputs": [],
   "source": [
    "#general format is https://www.kickstarter.com/projects/creatorname/campaignname\n",
    "\n",
    "#Creating a function to grab detailed text information about the project from the project's kicstarter page\n",
    "#Passing project id, url, and currency of funds requested from the meta data of successful project URLs\n",
    "# URLS from './data/project_successful_meta.json' created by the project_metadata.ipyth program\n",
    "\n",
    "\n",
    "\n",
    "def get_soup(url, pcounter):\n",
    "    #Creating beautiful soup object from URL\n",
    "    try:\n",
    "        r = urllib.urlopen(url)\n",
    "        return BeautifulSoup(r)\n",
    "    \n",
    "    except:\n",
    "        print \"Failing for count\", pcounter\n",
    "        return {pcounter: url}     \n",
    "        "
   ]
  },
  {
   "cell_type": "code",
   "execution_count": 65,
   "metadata": {
    "collapsed": false
   },
   "outputs": [],
   "source": [
    "\n",
    "def get_project_info(project_det, pcounter, soup):\n",
    "    \n",
    "        #Need to obtain the donation values and the reward/gifts associated with each donation value\n",
    "        #Reading in tag with multiple pieces of info on this\n",
    "        b=list(soup.find_all(class_=\"NS_projects__rewards_list js-project-rewards\"))\n",
    "        #Donation dollar amount group\n",
    "        reward_value_list = [reward.string.split()[0] \\\n",
    "                            for reward in b[0](\"h5\",class_=\"mb1\")]\n",
    "        #Number of backers associated with Donation dollar amount group\n",
    "        backer_list = [backers.string.split()[0]+' backers' \\\n",
    "                       for backers in b[0](\"span\", class_=\"num-backers mr1\")]\n",
    "        #Reward/gift associated with Donation dollar amount group\n",
    "        reward_item_list = [item(\"p\")[0].get_text() for item in b[0](\"div\",class_=\"desc h5 mb2 break-word\")]\n",
    "        \n",
    "        #removing currency sign from reward value\n",
    "        reg = re.compile(\"\\d.*\",flags=re.U)\n",
    "        reward_value_list = [reg.findall(reward.string.split()[0])[0] for reward in b[0](\"h5\",class_=\"mb1\")]\n",
    "    \n",
    "        #Text associated with the risks of the project--outlining project hurdles\n",
    "        c=list(soup(\"div\", class_=\"mb6 mb2\"))\n",
    "        risk=[item(\"p\") for item in c][0]\n",
    "        \n",
    "        #Creating a dictionary for each project id \n",
    "        \n",
    "        #Project title \n",
    "        project_det[\"title\"] = soup.find_all(\"meta\", property=\"og:title\")[0].get(\"content\")\n",
    "        #Blurb about project \n",
    "        # project_det[\"blurb1\"] = soup.find_all(property=re.compile(\"og:description\"))[0].get(\"content\")\n",
    "        #Creator's URL hompage\n",
    "        project_det[\"creator_url\"] = soup.find_all(property=re.compile(\"kickstarter:creator\"))[0].get(\"content\")\n",
    "        #Total number of backers\n",
    "        project_det[\"no_backers\"] = list(soup(\"div\", class_=\"NS_projects__spotlight_stats\")[0])[1].string\n",
    "        #Project goal amount---min value needed to be raised for successful project \n",
    "        #project_det[\"goal\"] = reg.findall(list(soup.find_all(\"span\", class_=\"money\" + project_det[\"currency\"].lower()+ \" no-code\")[2])[0].string)\n",
    "        #Number of dollars raised during campaign \n",
    "        project_det[\"no_dollars_raised\"] = list(soup(\"div\", class_=\"NS_projects__spotlight_stats\")[0])[3].string\n",
    "        #Information about donation amount groups, number of backer for group and gift associated with group \n",
    "        project_det[\"reward_backer_tup\"] = (zip(reward_value_list, backer_list,reward_item_list))\n",
    "        #Creator's detailed information about risks involved with the project \n",
    "        project_det[\"risk\"] = [para.get_text() for para in risk]\n",
    "        #project details\n",
    "        project_det[\"full_description\"]=soup(\"div\", class_=\"full-description js-full-description responsive-media formatted-lists\")[0].find_all(\"p\")\n",
    "\n",
    "        \n",
    "        return(project_det)"
   ]
  },
  {
   "cell_type": "code",
   "execution_count": 70,
   "metadata": {
    "collapsed": false
   },
   "outputs": [],
   "source": [
    "#open url information\n",
    "fd = open('/home/samanatha/repos/kickass/data/project_successful_meta.json', 'r')\n",
    "text = fd.read()\n",
    "fd.close()\n",
    "\n",
    "pmeta = json.loads(text)"
   ]
  },
  {
   "cell_type": "code",
   "execution_count": 36,
   "metadata": {
    "collapsed": false
   },
   "outputs": [
    {
     "name": "stdout",
     "output_type": "stream",
     "text": [
      "[u'category_name', u'goal', u'author', u'url', u'pledged', u'spotlight', u'currency', u'state', u'deadline', u'backers_count', u'id', u'category_id', u'launched_at', u'blurb', u'name']\n",
      "('trying project ', 0)\n"
     ]
    }
   ],
   "source": [
    "import time\n",
    "#call function created above to grab project details and loop through project for every url in pmeta file\n",
    "# for homework purposes, limited this to 500 urls, but we'll pull more for final project\n",
    "project_succ_soup = dict()\n",
    "\n",
    "for pcounter, project_header in enumerate(pmeta[0:1]):\n",
    "    try:\n",
    "        print(\"trying project \", pcounter)\n",
    "        project_succ_soup[project_header[\"id\"]] = get_soup(project_header[\"url\"], pcounter)\n",
    "        time.sleep(.3)\n",
    "    except:\n",
    "        print(\"failed for project element\", pcounter) "
   ]
  },
  {
   "cell_type": "code",
   "execution_count": 66,
   "metadata": {
    "collapsed": false,
    "scrolled": true
   },
   "outputs": [
    {
     "data": {
      "text/plain": [
       "{u'author': u'Chris Cicchitelli',\n",
       " u'backers_count': 105,\n",
       " u'blurb': u\"Powerful automation without the cloud! Control all your smart devices. And you've never seen whole-home voice control like this before!\",\n",
       " u'category_id': 16,\n",
       " u'category_name': u'technology',\n",
       " 'creator_url': 'https://www.kickstarter.com/profile/506540480',\n",
       " u'currency': u'USD',\n",
       " u'deadline': 1430346798,\n",
       " 'full_description': [<p>A smart home is not just about remote control, the ability to raise and lower the lights, detect intruders, or manage your entertainment systems. A true smart home is an integrated system that knows <i>you.</i> It anticipates <i>your </i>needs, understands <i>your </i>voice, and learns from <i>your </i>habits. We spent two years making CastleOS the most intelligent smart home automation system, and now we introduce the CastleHUB as its control center in your home, <i>not in the cloud.</i></p>,\n",
       "  <p>The smart home of today is made up of compromises. <i>It doesn't have to be that way.</i> </p>,\n",
       "  <p>Before CastleHUB, your choice was limited to either smart, well-integrated proprietary systems that could cost tens of thousands of dollars, or less well-integrated disparate commodity components that offered only simplistic remote control without real intelligence.</p>,\n",
       "  <p>Why be forced to choose between an expensive monolithic system or compromise with a less expensive but also less capable controller? </p>,\n",
       "  <p>Why compromise your smart device selection because the hub you chose to control your smart home doesn't support your device of choice?</p>,\n",
       "  <p>Why is true home intelligence compromised for the sake of simple remote control disguised as automation? </p>,\n",
       "  <p>With CastleOS and the CastleHUB, <i>it doesn't have to be that way. </i></p>,\n",
       "  <p>When we set out to design the CastleHUB, our first dedicated host for CastleOS, we set forward some very simple criteria:</p>,\n",
       "  <p>We wanted one HUB to replace all the other hubs in your home. The one HUB to rule them all. We shot for the moon - and we're proud of the results! Introducing the CastleHUB powered by CastleOS!</p>,\n",
       "  <p><b><i>Lives In Your Home, Not the Cloud</i></b></p>,\n",
       "  <p>We believe the central controller - the central nervous system of your smart home, if you will - should actually be in the home, not in the cloud. </p>,\n",
       "  <p>There are many benefits to this. Response time (good) increases. Latency (bad) decreases. Security and privacy (really good) increases dramatically. You control your system. You control your data. </p>,\n",
       "  <p>To accomplish this we needed a more powerful hub. That's why the CastleHUB can do so many things our competitors cannot.</p>,\n",
       "  <p><b><i>Beyond Automation Lies Intelligence</i></b></p>,\n",
       "  <p>We believe the smart home market isn't very smart. A dirty little secret in the industry is home \"automation\" isn't much more than home \"remote control\". Our competitors, especially those cloud-based, are overly focused on remote control. We're not - we think the true value of the smart home lies in intelligent automation. Our goal is to transform the smart home from something we <i>live in,</i> to something we <i>live with.</i></p>,\n",
       "  <p><b><i>Our Promise to You, Our Vision</i></b></p>,\n",
       "  <p>We're not just building \"yet another hub\". We're redefining the category. We don't think the future of the smart home is in a weakly powered, cloud-reliant, service. We think the power of the smart home relies on the power of the software running it. We believe software is how we'll transform a home from something we<i> live in</i>, to something we <i>live with</i>. Powerful software requires powerful hardware like the CastleHUB.</p>,\n",
       "  <p>We promise all CastleOS users that we will always strive to put the power of the smart home <i>in the smart home.</i> We will always respect the privacy of the resident therein, first and foremost. We will provide an intelligent home that makes your life simpler, safer, and smarter.</p>,\n",
       "  <p>There are far too many features of CastleOS to list in detail in this Kickstarter, but we have them fully documented on our website. Please enjoy this selection of screenshots, and <a href=\"http://www.castleos.com/FeatureSpotlight.aspx?feature=ClimateControl\" target=\"_blank\">join us on our Feature Spotlight page</a> to learn more about all the amazing CastleOS features!</p>,\n",
       "  <p>You've never seen voice control like this before! The CastleHUB is the only smart home or entertainment hub in existence with integrated support for advanced microphone arrays. CastleOS takes advantage of this capability with the Microsoft Kinect to offer a true whole-home voice control system. In addition, it supports voice control on additional platforms like Android and Android Wear. The future of home intelligence is powered by your voice!</p>,\n",
       "  <p>CastleOS offers a whole-home voice control system that allows you to conveniently speak out loud from anywhere in your home, to your home. To accomplish this, we leverage the power of the incredible Microsoft Kinect along with our own custom natural language processing software to provide the best voice control experience possible, bar none. </p>,\n",
       "  <p>CastleOS offers the most powerful and most flexible voice control available, right out of the box! CastleOS automatically recognizes thousands of natural-language commands that you can speak, and automatically recognizes each of your smart devices by name. No voice training or programming is necessary, it just works! </p>,\n",
       "  <p>For instance, you can say \"computer, turn on the living room chandelier\" or \"computer, turn on the master bathroom lights\". You can even set a \"master\" light for each room, and simply say \"computer, lights\" to toggle the lights on and off! </p>,\n",
       "  <p>Want to adjust the thermostat? \"Computer, turn up the heat.\" Or, \"House, set the cool setpoint to 70 degrees\". Wondering what to wear to work? Just ask your home, \"Computer, what is today's forecast?\" You can even change the \"computer\" hot word to anything you'd like! \"Jarvis, lower the shades in the bedroom.\"</p>,\n",
       "  <p><b><i>See It In Action</i></b></p>,\n",
       "  <p>The Discovery Channel heard about CastleOS while it was in development, and spent three days filming it for a segment on one of their shows. Check out their fabulous exposé of what CastleOS voice control can do! \n",
       "  \n",
       "  \n",
       "  </p>,\n",
       "  <p>We will also be supporting new voice platforms as their APIs develop, including Microsoft Cortana, Amazon Alexis and Echo, Apple Watch, and others. </p>,\n",
       "  <p>One of the primary goals of CastleOS is to break down the barriers and silos between smart devices and protocols. To accomplish this we've built our own smart device translation system, allowing any smart device to interact with any other smart device.</p>,\n",
       "  <p>As a result, the CastleHUB ships with fully integrated support for more smart devices than any other home automation controller. Currently, CastleOS supports the following brands and protocols: Z-Wave, UPB, Belkin WeMo, Nest, X10, Philips Hue, Sonos, Ecobee, LightwaveRF, Insteon, and TCP Connected</p>,\n",
       "  <p>In addition, CastleOS is committed to integrally support the following brands and protocols, as well as many others not listed here: Lutron, RadioRa2, TCP Connected, ZigBee, GE Link, KNX, ELK, Wink, Chamberlain, Somfy, Universal Devices ISY</p>,\n",
       "  <p>But that's not all! The Hub also offers a full API and custom device capability (described below), so there is no limit to the devices CastleOS and the CastleHUB can support!</p>,\n",
       "  <p>CastleOS is available on every major mobile platform, including Apple iOS, Android, Windows Phone, Blackberry, Firefox OS, and Linux-based phones.</p>,\n",
       "  <p>To accomplish this CastleOS has built a powerful HTML5 app that works across platforms and screen sizes. The CastleHUB inside your home serves up the app to mobile devices - no cloud required!</p>,\n",
       "  <p>This allows you the freedom of choice in what device to use, and even whether to restrict remote access for privacy reasons.</p>,\n",
       "  <p>Consuming just 7 watts on average, the CastleHUB isn't just incredibly energy efficient, it also monitors all energy use in the home! CastleOS will use energy meters to monitor the usage of your whole home, as well as individual devices. Where there isn't an energy meter CastleOS uses its own special sauce to realistically estimate the current energy consumption. </p>,\n",
       "  <p>Studies have shown having access to energy statistics like those CastleOS provide result in a 10%-20% reduction in consumption - and that's without the intelligent automation CastleOS provides! \n",
       "   </p>,\n",
       "  <p>We present home energy usage stats in easy to read graphs that show Hourly Usage, Daily Usage, Device Usage, as well as Device, Hour, and Day Breakdowns.</p>,\n",
       "  <p>There is perhaps nothing more important to a smart home than its security system. One way we use advanced intelligence to improve security is by learning your lighting usage patterns, and then based upon that automatically simulating someone being home while you are away or on vacation.\n",
       "  \n",
       "   </p>,\n",
       "  <p>In addition, the CastleHUB and CastleOS offer two levels of security monitoring. For those that do not require central monitoring services, the CastleHUB can monitor various security sensors, and automatically handle activating a siren, or turning on a light, or even sending  a text message, when a security sensor is tripped.\n",
       "  \n",
       "   </p>,\n",
       "  <p>In addition, you can integrate an Elk, Honeywell, or other dedicated security panel, allowing use of the CastleHUB with your existing security system, including central monitoring services. </p>,\n",
       "  <p>The CastleHUB is the only home automation hub that offers built in support for Hulu, Netflix, Pandora, YouTube and many other Windows 8.1 apps.</p>,\n",
       "  <p>Not only that, but the CastleHUB supports media servers like MediaBrowser, Plex, and Kodi/XBMC! With the ability to easily add an internal 2.5\" or USB 3.0 hard drive of your choosing, you can host your entire music, TV, and movie collection right on the Hub!</p>,\n",
       "  <p>Last but certainly not least, if you use a Kinect or Android Wear smartwatch for voice control, you'll be able to control media apps with your voice! No more fumbling for remotes, just speak out loud to your TV!</p>,\n",
       "  <p>Only CastleOS offers a reliable whole-house voice control system, able to control a multitude of systems. With CastleOS, the disabled are no longer reliant on care givers and sip and puff technology for basic needs! </p>,\n",
       "  <p>For those who may not want CastleOS for themselves, but do want to help the disabled and our veterans, we offer three donation rewards.</p>,\n",
       "  <p><b><i>Donation Rewards for the Disabled</i></b></p>,\n",
       "  <p>We are offering three rewards that allow you to donate this technology to the disabled. We will work with government agencies to find those in need to donate the CastleOS Hub and related gear to.</p>,\n",
       "  <p>The first tier is $1 and above. For every dollar donated to this tier, fifty cents will be donated towards hardware and gear, and fifty cents will go towards software development. </p>,\n",
       "  <p>The second tier offers the ability to donate a complete Hub for $499. If you'd like, we'll pass on your information to the person that receives the donation, maybe you can become pen pals! </p>,\n",
       "  <p>The third tier is for a Starter Kit for $749, which includes a Hub, Kinect for voice control, INSTEON USB interface, and light bulb. And like the Hub donation, if you'd like, we'll pass on your information to the person that receives the donation, and maybe you can become pen pals!</p>,\n",
       "  <p>CastleOS takes your privacy INCREDIBLY seriously. So much so we've done something nearly every one of our competitors have not: we avoided the cloud.</p>,\n",
       "  <p>With CastleOS, your data never leaves your home! Why should a simple command, to a light switch to turn on, or a thermostat to adjust the temperature, require a round trip to a server thousands of miles away?</p>,\n",
       "  <p>We don't believe your data should be at risk in the cloud. We also don't like the thought of a Denial of Service attack preventing our customers from accessing and controlling their smart homes.</p>,\n",
       "  <p>So instead we built CastleOS to run in your home, so that such issues cannot affect it. All data is encrypted when necessary and stored in your home.</p>,\n",
       "  <p>Our cloud-based competitors risk your privacy. Many even sell your privacy for their profit. In comparison we give you complete control and ownership of your own privacy.</p>,\n",
       "  <p>Microsoft has officially given CastleOS the go-ahead to build a home automation interface for the Xbox One! Currently in development concurrently with the CastleHUB, the Xbox One app will allow you to control your smart home by voice while gaming, and much more! More details to come!</p>,\n",
       "  <p>At CastleOS we believe in the community, and are amazed at what you've already accomplished with our custom scripting capability. The CastleHUB will ship with our expanded API which opens up the amazing capabilities the system offers to developers.</p>,\n",
       "  <p>The API features complete access to the Core Service, including access to retrieve and manipulate all smart devices, groups, scenes, events, and more. In fact, it features everything you need to build a custom UI to interface with CastleOS, our own UIs use the same API!</p>,\n",
       "  <p>Not only can you access the devices CastleOS supports, but you can expand CastleOS' compatibility by using our base device drivers to create your own custom device driver! Simply fill in the C# driver skeleton with a few custom functions, and drop the file in a folder! CastleOS will discover the driver and load it automatically. Want to share your custom driver with the community? Submit it to the community and it will be visible in an Extension Library that can be browsed from within the CastleOS app.</p>,\n",
       "  <p>In addition to the API, CastleOS features an integrated scripting capability, allowing you to use the power of C# to do just about anything. You can trigger a custom script based on a schedule, a triggered event, or even a custom voice command.</p>,\n",
       "  <p>You can also use a custom script as a condition in scheduled and triggered events, allowing you to use data from outside CastleOS to influence your schedules and intelligence.</p>,\n",
       "  <p>Take a look at how this CastleOS user controls his Roku, TV, and Netflix with his voice with the custom scripting feature:</p>,\n",
       "  <p>Not only do you have the limitless options that CastleOS and Windows 8.1 provide, the CastleHUB is user upgradable to as much as 16 GB of RAM, and features an empty 2.5\" HDD/SSD slot to allow use as a DVR or media server. With built in Gigabit ethernet and 802.11ac WiFi, getting your media on and off the Hub is a breeze!</p>,\n",
       "  <p>Upgrading the Hub is super simple: just twist off the cover and you have immediate access to the two RAM slots and an empty 2.5\" drive slot. Upgrade away!</p>,\n",
       "  <p>Don't want to install your own internal upgrades? No problem! Just use the USB 3.0 ports to add an external hard drive instead, and you can still use the Hub as a DVR or media server!</p>,\n",
       "  <p>While we hype all the amazing features and capabilities the Hub provides, at its core it's primary function is to be the central controller of the smart home. If you're only looking to use the Hub as a rock-solid automation brain, you can take the Hub out of the box, set it on a shelf in a closet, plug it in, and never have to touch it again. The Hub self-updates, and all interaction from there forward will be through the apps.</p>,\n",
       "  <p><b><i>Hardware Progress</i></b></p>,\n",
       "  <p>The CastleHUB hardware has the following features complete:</p>,\n",
       "  <p><b><i>Software Progress</i></b></p>,\n",
       "  <p>The CastleOS software has the following primary protocol support features complete:</p>,\n",
       "  <p>The CastleOS software has the following features not yet completed:</p>,\n",
       "  <p>The base CastleHUB package starting at $349 includes one HUB, one power cable, and one CastleOS license.</p>,\n",
       "  <p>The CastleHUB + Z-Wave package includes the base CastleHUB package plus one Aeon Labs Z-Stick to enable Z-Wave control, one Aeon Labs plug-in lamp dimmer module, and one Aeon Labs multi-sensor.</p>,\n",
       "  <p>The CastleHUB + Insteon package includes the base CastleHUB package plus one Insteon USB adapter, one plug-in lamp dimmer module, and one motion sensor.</p>,\n",
       "  <p><b>History</b></p>,\n",
       "  <p>CastleOS was founded in 2012 by Chris Cicchitelli, a life-long home automation enthusiast. Chris began his love affair with home automation after watching sci-fi as kid growing up. He soon started purchasing early analog home automation devices in order to turn his bedroom into a starship's bridge. Years later after graduating college and working in the tech industry for several years, Chris was unsatisfied with his options as a home automation consumer, so he created his own system: CastleOS. Now Chris has opened the door to the future, by creating a smart home system that knows no bounds, responds to voice control, and turns your environment into a sphere of possibilities. Your imagination becomes your key to a brilliant home, thanks to Chris’ love for technology that never stops advancing.</p>,\n",
       "  <p><b>Meet the Team</b></p>,\n",
       "  <p><i>Chris Cicchitelli</i><br/>Chris is the founder and original engineer behind CastleOS. A graduate of business school, his passion for technology and Star Trek led him to create CastleOS. </p>,\n",
       "  <p>Brian is our CFO, and helps make sure everything runs smoothly. </p>,\n",
       "  <p>Chris is an experienced pro at building APIs and interfaces. When it comes to teaching CastleOS to talk to a new device, Chris is our man!</p>,\n",
       "  <p>Luke is the co-lead developer of the MediaBrowser project, and is primarily responsible for the seamless integration of CastleOS and MediaBrowser.</p>],\n",
       " u'goal': 20000.0,\n",
       " u'id': 1933620264,\n",
       " u'launched_at': 1426890798,\n",
       " u'name': u'CastleHUB - Universal Smart Home Intelligence by CastleOS',\n",
       " 'no_backers': u'105 backers',\n",
       " 'no_dollars_raised': u'$34,507',\n",
       " u'pledged': 34507.0,\n",
       " 'reward_backer_tup': [(u'1',\n",
       "   u'9 backers',\n",
       "   u\"HELP DONATE THIS TECH TO THE DISABLED: Along with those donating Starter Kits, help the disabled including veterans who are largely on a fixed income get access to this technology. You'll also be added to our mailing list to keep updated as the project progresses. Any donation amount is welcome!\"),\n",
       "  (u'25',\n",
       "   u'10 backers',\n",
       "   u\"FRIENDS: Thank you for supporting us! We'll send you an awesome t-shirt with the CastleOS logo and a surprise slogan!\"),\n",
       "  (u'349',\n",
       "   u'24 backers',\n",
       "   u'THE VERY VERY EARLY ADOPTER SPECIAL: 25 backers get the CastleHUB powered by CastleOS for $150 off!'),\n",
       "  (u'399',\n",
       "   u'49 backers',\n",
       "   u'THE VERY EARLY ADOPTER SPECIAL: The next 50 backers get the CastleHUB powered by CastleOS for $100 off!'),\n",
       "  (u'439',\n",
       "   u'2 backers',\n",
       "   u'THE EARLY ADOPTER SPECIAL: For the next 100 backers, $60 off the CastleHUB powered by CastleOS!'),\n",
       "  (u'479',\n",
       "   u'0 backers',\n",
       "   u'THE CASTLEHUB: The most advanced smart home hub ever. For Kickstarter backers $20 off retail, and including a free t-shirt! Make your home brilliant with the CastleHUB powered by CastleOS!'),\n",
       "  (u'649',\n",
       "   u'2 backers',\n",
       "   u'CASTLEHUB + Z-WAVE STARTER KIT: This includes everything you need to get started with Z-Wave in your smart home. Includes a CastleHUB, a Z-Wave USB controller stick, a plug-in lamp dimmer module, and a motion/temperature/humidity/light multi-sensor.'),\n",
       "  (u'649',\n",
       "   u'0 backers',\n",
       "   u'CASTLEHUB + INSTEON STARTER KIT: This includes everything you need to get started with INSTEON in your smart home. Includes a CastleHUB, an INSTEON USB controller module, a plug-in lamp dimmer module, and a motion sensor.'),\n",
       "  (u'699',\n",
       "   u'0 backers',\n",
       "   u\"DONATE A STARTER KIT: Purchase a starter kit on behalf of a disabled person. Many of America's disabled, including veterans, are on a fixed income and cannot afford this technology on their own. We can help! Includes a CastleHUB, a USB adapter for INSTEON, one Microsoft Kinect, one INSTEON LED light bulb, one lamp module, and one appliance module.\"),\n",
       "  (u'999',\n",
       "   u'3 backers',\n",
       "   u\"GET ONE + DONATE ONE: Get a CastleHUB for yourself at the same time you donate a HUB on behalf of a disabled person. Many of America's disabled, including veterans, are on a fixed income and cannot afford this technology on their own. We can help! Includes a CastleHUB and a USB adapter for Z-Wave.\")],\n",
       " 'risk': [u'As the hardware design and prototype testing are complete, certifications granted, and manufacturing is lined up, the challenges and risks associated with this project come mainly from the remaining work needed on the software. The hardware order will be placed with the manufacturer immediately upon the end of the Kickstarter, and delivery is expected in roughly 12 weeks.',\n",
       "  u\"On the software side of the project, CastleOS is currently in it's 15th publicly-released iteration, currently version 1.2.1375. This Kickstarter is for funding the CastleHUB and version 2 of CastleOS. While most of the features of version 2 are complete, not all are. Our goal is to have them complete by the time the CastleHUB is ready to ship, but we reserve the right to deliver some features after the CastleHUB ships to backers via a software update.\"],\n",
       " u'spotlight': True,\n",
       " u'state': u'successful',\n",
       " 'title': 'CastleHUB - Universal Smart Home Intelligence by CastleOS',\n",
       " u'url': u'https://www.kickstarter.com/projects/506540480/castlehub-universal-smart-home-intelligence-by-cas/description'}"
      ]
     },
     "execution_count": 66,
     "metadata": {},
     "output_type": "execute_result"
    }
   ],
   "source": [
    "get_project_info(pmeta[0], 1, project_succ_soup.values()[0])"
   ]
  },
  {
   "cell_type": "code",
   "execution_count": 71,
   "metadata": {
    "collapsed": false,
    "scrolled": true
   },
   "outputs": [
    {
     "data": {
      "text/plain": [
       "20000.0"
      ]
     },
     "execution_count": 71,
     "metadata": {},
     "output_type": "execute_result"
    }
   ],
   "source": [
    "pmeta[0][\"goal\"]"
   ]
  },
  {
   "cell_type": "code",
   "execution_count": 9,
   "metadata": {
    "collapsed": false
   },
   "outputs": [],
   "source": [
    "\n",
    "#Save data to file for further use\n",
    "project_meta_json = json.dumps(obj = project_succ_soup, indent = 4)\n",
    "#File to look at for sample data\n",
    "fd = open(\"./data/project_successful_soup_tech_sample.json\", \"w\")\n",
    "fd.write(project_meta_json)\n",
    "fd.close()"
   ]
  },
  {
   "cell_type": "code",
   "execution_count": null,
   "metadata": {
    "collapsed": false
   },
   "outputs": [],
   "source": []
  }
 ],
 "metadata": {
  "kernelspec": {
   "display_name": "Python 2",
   "language": "python",
   "name": "python2"
  },
  "language_info": {
   "codemirror_mode": {
    "name": "ipython",
    "version": 2
   },
   "file_extension": ".py",
   "mimetype": "text/x-python",
   "name": "python",
   "nbconvert_exporter": "python",
   "pygments_lexer": "ipython2",
   "version": "2.7.6"
  }
 },
 "nbformat": 4,
 "nbformat_minor": 0
}
