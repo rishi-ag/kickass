{
 "cells": [
  {
   "cell_type": "code",
   "execution_count": 15,
   "metadata": {
    "collapsed": false
   },
   "outputs": [],
   "source": [
    "import re\n",
    "import json\n",
    "\n",
    "def gen_file_name(category):\n",
    "    return \"../data/project_successful_details_\"+category+\"_sample.json\"\n",
    "\n",
    "\n",
    "fd = open(gen_file_name(\"art\"), \"r\")\n",
    "project_json = json.load(fd)"
   ]
  },
  {
   "cell_type": "code",
   "execution_count": 22,
   "metadata": {
    "collapsed": false
   },
   "outputs": [
    {
     "ename": "KeyboardInterrupt",
     "evalue": "",
     "output_type": "error",
     "traceback": [
      "\u001b[1;31m---------------------------------------------------------------------------\u001b[0m",
      "\u001b[1;31mKeyboardInterrupt\u001b[0m                         Traceback (most recent call last)",
      "\u001b[1;32m<ipython-input-22-faf9d48f5f11>\u001b[0m in \u001b[0;36m<module>\u001b[1;34m()\u001b[0m\n\u001b[0;32m     13\u001b[0m \u001b[1;33m\u001b[0m\u001b[0m\n\u001b[0;32m     14\u001b[0m         \u001b[1;31m#Save data to file for further use\u001b[0m\u001b[1;33m\u001b[0m\u001b[1;33m\u001b[0m\u001b[0m\n\u001b[1;32m---> 15\u001b[1;33m         \u001b[0mproject_details_json\u001b[0m \u001b[1;33m=\u001b[0m \u001b[0mjson\u001b[0m\u001b[1;33m.\u001b[0m\u001b[0mdumps\u001b[0m\u001b[1;33m(\u001b[0m\u001b[0mobj\u001b[0m \u001b[1;33m=\u001b[0m \u001b[0mproject_json\u001b[0m\u001b[1;33m,\u001b[0m \u001b[0mindent\u001b[0m \u001b[1;33m=\u001b[0m \u001b[1;36m4\u001b[0m\u001b[1;33m)\u001b[0m\u001b[1;33m\u001b[0m\u001b[0m\n\u001b[0m\u001b[0;32m     16\u001b[0m         \u001b[1;31m#File to look at for sample data\u001b[0m\u001b[1;33m\u001b[0m\u001b[1;33m\u001b[0m\u001b[0m\n\u001b[0;32m     17\u001b[0m         \u001b[0mfd\u001b[0m \u001b[1;33m=\u001b[0m \u001b[0mopen\u001b[0m\u001b[1;33m(\u001b[0m\u001b[0mfile\u001b[0m\u001b[1;33m,\u001b[0m \u001b[1;34m\"w\"\u001b[0m\u001b[1;33m)\u001b[0m\u001b[1;33m\u001b[0m\u001b[0m\n",
      "\u001b[1;32m/usr/lib/python3.4/json/__init__.py\u001b[0m in \u001b[0;36mdumps\u001b[1;34m(obj, skipkeys, ensure_ascii, check_circular, allow_nan, cls, indent, separators, default, sort_keys, **kw)\u001b[0m\n\u001b[0;32m    235\u001b[0m         \u001b[0mcheck_circular\u001b[0m\u001b[1;33m=\u001b[0m\u001b[0mcheck_circular\u001b[0m\u001b[1;33m,\u001b[0m \u001b[0mallow_nan\u001b[0m\u001b[1;33m=\u001b[0m\u001b[0mallow_nan\u001b[0m\u001b[1;33m,\u001b[0m \u001b[0mindent\u001b[0m\u001b[1;33m=\u001b[0m\u001b[0mindent\u001b[0m\u001b[1;33m,\u001b[0m\u001b[1;33m\u001b[0m\u001b[0m\n\u001b[0;32m    236\u001b[0m         \u001b[0mseparators\u001b[0m\u001b[1;33m=\u001b[0m\u001b[0mseparators\u001b[0m\u001b[1;33m,\u001b[0m \u001b[0mdefault\u001b[0m\u001b[1;33m=\u001b[0m\u001b[0mdefault\u001b[0m\u001b[1;33m,\u001b[0m \u001b[0msort_keys\u001b[0m\u001b[1;33m=\u001b[0m\u001b[0msort_keys\u001b[0m\u001b[1;33m,\u001b[0m\u001b[1;33m\u001b[0m\u001b[0m\n\u001b[1;32m--> 237\u001b[1;33m         **kw).encode(obj)\n\u001b[0m\u001b[0;32m    238\u001b[0m \u001b[1;33m\u001b[0m\u001b[0m\n\u001b[0;32m    239\u001b[0m \u001b[1;33m\u001b[0m\u001b[0m\n",
      "\u001b[1;32m/usr/lib/python3.4/json/encoder.py\u001b[0m in \u001b[0;36mencode\u001b[1;34m(self, o)\u001b[0m\n\u001b[0;32m    192\u001b[0m         \u001b[0mchunks\u001b[0m \u001b[1;33m=\u001b[0m \u001b[0mself\u001b[0m\u001b[1;33m.\u001b[0m\u001b[0miterencode\u001b[0m\u001b[1;33m(\u001b[0m\u001b[0mo\u001b[0m\u001b[1;33m,\u001b[0m \u001b[0m_one_shot\u001b[0m\u001b[1;33m=\u001b[0m\u001b[1;32mTrue\u001b[0m\u001b[1;33m)\u001b[0m\u001b[1;33m\u001b[0m\u001b[0m\n\u001b[0;32m    193\u001b[0m         \u001b[1;32mif\u001b[0m \u001b[1;32mnot\u001b[0m \u001b[0misinstance\u001b[0m\u001b[1;33m(\u001b[0m\u001b[0mchunks\u001b[0m\u001b[1;33m,\u001b[0m \u001b[1;33m(\u001b[0m\u001b[0mlist\u001b[0m\u001b[1;33m,\u001b[0m \u001b[0mtuple\u001b[0m\u001b[1;33m)\u001b[0m\u001b[1;33m)\u001b[0m\u001b[1;33m:\u001b[0m\u001b[1;33m\u001b[0m\u001b[0m\n\u001b[1;32m--> 194\u001b[1;33m             \u001b[0mchunks\u001b[0m \u001b[1;33m=\u001b[0m \u001b[0mlist\u001b[0m\u001b[1;33m(\u001b[0m\u001b[0mchunks\u001b[0m\u001b[1;33m)\u001b[0m\u001b[1;33m\u001b[0m\u001b[0m\n\u001b[0m\u001b[0;32m    195\u001b[0m         \u001b[1;32mreturn\u001b[0m \u001b[1;34m''\u001b[0m\u001b[1;33m.\u001b[0m\u001b[0mjoin\u001b[0m\u001b[1;33m(\u001b[0m\u001b[0mchunks\u001b[0m\u001b[1;33m)\u001b[0m\u001b[1;33m\u001b[0m\u001b[0m\n\u001b[0;32m    196\u001b[0m \u001b[1;33m\u001b[0m\u001b[0m\n",
      "\u001b[1;32m/usr/lib/python3.4/json/encoder.py\u001b[0m in \u001b[0;36m_iterencode\u001b[1;34m(o, _current_indent_level)\u001b[0m\n\u001b[0;32m    418\u001b[0m             \u001b[1;32myield\u001b[0m \u001b[0m_floatstr\u001b[0m\u001b[1;33m(\u001b[0m\u001b[0mfloat\u001b[0m\u001b[1;33m(\u001b[0m\u001b[0mo\u001b[0m\u001b[1;33m)\u001b[0m\u001b[1;33m)\u001b[0m\u001b[1;33m\u001b[0m\u001b[0m\n\u001b[0;32m    419\u001b[0m         \u001b[1;32melif\u001b[0m \u001b[0misinstance\u001b[0m\u001b[1;33m(\u001b[0m\u001b[0mo\u001b[0m\u001b[1;33m,\u001b[0m \u001b[1;33m(\u001b[0m\u001b[0mlist\u001b[0m\u001b[1;33m,\u001b[0m \u001b[0mtuple\u001b[0m\u001b[1;33m)\u001b[0m\u001b[1;33m)\u001b[0m\u001b[1;33m:\u001b[0m\u001b[1;33m\u001b[0m\u001b[0m\n\u001b[1;32m--> 420\u001b[1;33m             \u001b[1;32myield\u001b[0m \u001b[1;32mfrom\u001b[0m \u001b[0m_iterencode_list\u001b[0m\u001b[1;33m(\u001b[0m\u001b[0mo\u001b[0m\u001b[1;33m,\u001b[0m \u001b[0m_current_indent_level\u001b[0m\u001b[1;33m)\u001b[0m\u001b[1;33m\u001b[0m\u001b[0m\n\u001b[0m\u001b[0;32m    421\u001b[0m         \u001b[1;32melif\u001b[0m \u001b[0misinstance\u001b[0m\u001b[1;33m(\u001b[0m\u001b[0mo\u001b[0m\u001b[1;33m,\u001b[0m \u001b[0mdict\u001b[0m\u001b[1;33m)\u001b[0m\u001b[1;33m:\u001b[0m\u001b[1;33m\u001b[0m\u001b[0m\n\u001b[0;32m    422\u001b[0m             \u001b[1;32myield\u001b[0m \u001b[1;32mfrom\u001b[0m \u001b[0m_iterencode_dict\u001b[0m\u001b[1;33m(\u001b[0m\u001b[0mo\u001b[0m\u001b[1;33m,\u001b[0m \u001b[0m_current_indent_level\u001b[0m\u001b[1;33m)\u001b[0m\u001b[1;33m\u001b[0m\u001b[0m\n",
      "\u001b[1;32m/usr/lib/python3.4/json/encoder.py\u001b[0m in \u001b[0;36m_iterencode_list\u001b[1;34m(lst, _current_indent_level)\u001b[0m\n\u001b[0;32m    315\u001b[0m                 \u001b[1;32melse\u001b[0m\u001b[1;33m:\u001b[0m\u001b[1;33m\u001b[0m\u001b[0m\n\u001b[0;32m    316\u001b[0m                     \u001b[0mchunks\u001b[0m \u001b[1;33m=\u001b[0m \u001b[0m_iterencode\u001b[0m\u001b[1;33m(\u001b[0m\u001b[0mvalue\u001b[0m\u001b[1;33m,\u001b[0m \u001b[0m_current_indent_level\u001b[0m\u001b[1;33m)\u001b[0m\u001b[1;33m\u001b[0m\u001b[0m\n\u001b[1;32m--> 317\u001b[1;33m                 \u001b[1;32myield\u001b[0m \u001b[1;32mfrom\u001b[0m \u001b[0mchunks\u001b[0m\u001b[1;33m\u001b[0m\u001b[0m\n\u001b[0m\u001b[0;32m    318\u001b[0m         \u001b[1;32mif\u001b[0m \u001b[0mnewline_indent\u001b[0m \u001b[1;32mis\u001b[0m \u001b[1;32mnot\u001b[0m \u001b[1;32mNone\u001b[0m\u001b[1;33m:\u001b[0m\u001b[1;33m\u001b[0m\u001b[0m\n\u001b[0;32m    319\u001b[0m             \u001b[0m_current_indent_level\u001b[0m \u001b[1;33m-=\u001b[0m \u001b[1;36m1\u001b[0m\u001b[1;33m\u001b[0m\u001b[0m\n",
      "\u001b[1;31mKeyboardInterrupt\u001b[0m: "
     ]
    }
   ],
   "source": [
    "categories = ['art', 'crafts','design', 'photography' ]\n",
    "for cat in categories:\n",
    "    \n",
    "    file = gen_file_name(cat)\n",
    "    \n",
    "    fd = open(file, \"r\")\n",
    "    project_json = json.load(fd)\n",
    "    \n",
    "    \n",
    "    for project in project_json:\n",
    "        project[\"full_description\"] = re.sub(r'\\n+', \" \", project[\"full_description\"])\n",
    "        project[\"risk\"] = re.sub(r'\\n+', \" \", project[\"risk\"][0])\n",
    "    \n",
    "    fd.close()\n",
    "    #Save data to file for further use\n",
    "    project_details_json = json.dumps(obj = project_json, indent = 4)\n",
    "    #File to look at for sample data\n",
    "    fd = open(file, \"w\")\n",
    "    fd.write(project_details_json)\n",
    "    fd.close()"
   ]
  },
  {
   "cell_type": "code",
   "execution_count": 23,
   "metadata": {
    "collapsed": false
   },
   "outputs": [],
   "source": [
    "categories = ['art']\n",
    "for cat in categories:\n",
    "    \n",
    "    file = gen_file_name(cat)\n",
    "    \n",
    "    fd = open(file, \"r\")\n",
    "    project_json = json.load(fd)\n",
    " \n",
    "    \n",
    "    for project in project_json:\n",
    "        project[\"full_description\"] = re.sub(r'\\n+', \" \", project[\"full_description\"])\n",
    "        project[\"risk\"] = re.sub(r'\\n+', \" \", project[\"risk\"][0])\n",
    "    \n",
    "    "
   ]
  },
  {
   "cell_type": "code",
   "execution_count": 4,
   "metadata": {
    "collapsed": false,
    "scrolled": true
   },
   "outputs": [
    {
     "data": {
      "text/plain": [
       "{'author': 'Amanda Arias',\n",
       " 'backers_count': 15,\n",
       " 'blurb': 'One artist alley was a complete fail, now I am ready to show what I really I got without letting the past failure hold me back!',\n",
       " 'category': {'id': 22, 'slug': 'art/illustration'},\n",
       " 'creator_url': 'https://www.kickstarter.com/profile/amandarias',\n",
       " 'currency': 'USD',\n",
       " 'deadline': 1430803564,\n",
       " 'full_description': '\\n\\n\\n\\nThe 10 different designs Rewards #1 & #5 & #7 are the bottom 3 pieces - Flaw of Eden\\n\\n\\nHello everyone!I am Amanda Arias (amandarias). Long story short...2012, I had my first artist alley booth and once the day came...nothing I thought I was prepared for actually happened. The attendees, the other artists, and the part that I was still feeling that exposing my art to \"the world\" was a feeling like I was standing on stage...naked.\\n\\n\\nArt is War Tank Top\\n\\n\\n\\n\\n\\nCensored Beauties\\n\\n\\nAfter that weekend, I knew I had to work harder on:\\nbeing able to talk about my work\\nhaving a variety (there happened to be a scout there)\\nthe fear of what people thought\\n\\n\\n\\nZombie Flower Girl - canvas painting; acrylic\\n\\n\\nI now feel like I am ready and ready to take it head on. A bit nervous at the thought, but I have been feeling quite comfortable with sharing my works and works in progress on instagram. Which is awesome! I have had several questions about the skills I use to create my art, the tools I use, and even the paint I use! I love teaching others so they can improve as well. :) I already have a table purchased for Ninja-Con (June 6th) and one for Touhou Con (September 18-20) of this year of course. There might be another one in December, but once their location has been confirmed, I will be there! :D\\n\\n\\nReign of Flowers (pieces 1-9)\\n\\n\\n\\n\\n\\nReign of Flowers (pieces 10-19)\\n\\n\\n\\n\\n\\nReign of Flowers (last 3 pieces)\\n\\n\\nThis project is just to feed the passion and hunger I have to draw and having the funds to be part of more convention\\'s artist alleys to present my artwork to the world. The smile and happiness that people show when seeing my art work is worth a millions of dollars. Yes, I am saying that if I could I would draw for free. But sadly this world does not work that way. I slave away at a 8-5 day job, daydreaming of my next projects...lol The rewards are the gift I can give to you for helping me on my journey to share my world & mind, one drawing at a time. Plus, especially if you cannot support me in person by attending a convention, its a way to help. Thank you for your help, its greatly appreciated more than you can ever imagine! :D\\n\\n\\nArt is War - Sticker\\n\\n\\nXOXO,amandarias\\n',\n",
       " 'goal': 600.0,\n",
       " 'id': 1340290689,\n",
       " 'launched_at': 1428211564,\n",
       " 'location': {'country': 'US', 'name': 'Riverside', 'state': 'CA'},\n",
       " 'name': \"amandarias' Art Debut\",\n",
       " 'no_backers': '15 backers',\n",
       " 'no_dollars_raised': '$633',\n",
       " 'pledged': 633.0,\n",
       " 'reward_backer_tup': [['1',\n",
       "   '1 backers',\n",
       "   '1 sticker of Art is War.\\nPrinted on premium sticker photo paper.\\nDie-Cut.'],\n",
       "  ['1',\n",
       "   '2 backers',\n",
       "   '1 Random art print chosen from 10 different designs.\\n4x6 printed on glossy premium photo paper.'],\n",
       "  ['2',\n",
       "   '5 backers',\n",
       "   'A copy of Censored Beauties zine.\\nZine is 8 x 5.5 and contains 7 full color pieces.'],\n",
       "  ['6',\n",
       "   '0 backers',\n",
       "   'A copy of Reign of Flowers zine.\\nZine is 8 x 5.5 and contains 21 full color pieces.'],\n",
       "  ['10',\n",
       "   '0 backers',\n",
       "   '1 set of 10 random designs.\\n4x6 printed on glossy premium photo paper.'],\n",
       "  ['15',\n",
       "   '1 backers',\n",
       "   'A 18 x 24 poster of the Reign of Flowers cover.\\nSigned by the artist.'],\n",
       "  ['25',\n",
       "   '0 backers',\n",
       "   'One 3-piece of Flaw of Eden print set.\\n5x7 printed on premium semi-gloss photo paper.'],\n",
       "  ['25',\n",
       "   '1 backers',\n",
       "   'Art is War Tank top. Available in white, heather grey, and navy blue.\\nCheck the link below to see the different colors.\\nhttp://amandarias.storenvy.com/products/11951580-art-is-war-unisex-tank'],\n",
       "  ['35',\n",
       "   '2 backers',\n",
       "   'One 7-piece set of Censored Beauties prints.\\nOne of each design.\\n5x7 printed on premium semi-gloss photo paper.'],\n",
       "  ['40',\n",
       "   '0 backers',\n",
       "   '9x12 canvas acrylic painting of a zombie flower girl.\\nOriginal painting, NOT a print.'],\n",
       "  ['70',\n",
       "   '1 backers',\n",
       "   'One 21-piece set of Reign of Flower prints.\\nOne of each design.\\n5x7 printed on premium semi-gloss photo paper.']],\n",
       " 'risk': [\"Besides the obvious of maybe not reaching the convention date, other obstacles that can happen can be the following:\\n-printing mishaps\\n-custom items not delivered on time from a third party company\\n-running out of supplies without allowance time for them to be shipped\\n-art block\\n-convention canceling\\nWays of solving them or being prepared for such mishaps, I already have 2 printing companies that I keep in contact with and have helped me with my first artist alley booth. So, if one cannot help, the other company has pulled through. The company I will need to order my display banners and other custom items actually are located in my city which they can call me/email me/have me visit the shop and make adjustments if needed. I have had it happen...the convention actually has completely cancelled their event and sadly I has already purchased my table. This one I can't really control, but I have learned that I needed to find a direct contact to the chairman or the manager handling the artist alley. I will only be able to get a guaranteed cancellation answer/heads up. Before running out of photo paper or button parts, I will keep track of all inventory in which I have been keeping a spreadsheet on how much is needed, the cost, and how much was used for this event to prepare for the next one.\"],\n",
       " 'spotlight': True,\n",
       " 'state': 'successful',\n",
       " 'title': \"amandarias' Art Debut\",\n",
       " 'url': 'https://www.kickstarter.com/projects/amandarias/amandarias-art-debut/description'}"
      ]
     },
     "execution_count": 4,
     "metadata": {},
     "output_type": "execute_result"
    }
   ],
   "source": [
    "project_json[0]\n",
    "re.compile(\"\\\\n+\")"
   ]
  },
  {
   "cell_type": "code",
   "execution_count": 9,
   "metadata": {
    "collapsed": false
   },
   "outputs": [
    {
     "data": {
      "text/plain": [
       "' The 10 different designs Rewards #1 & #5 & #7 are the bottom 3 pieces - Flaw of Eden Hello everyone!I am Amanda Arias (amandarias). Long story short...2012, I had my first artist alley booth and once the day came...nothing I thought I was prepared for actually happened. The attendees, the other artists, and the part that I was still feeling that exposing my art to \"the world\" was a feeling like I was standing on stage...naked. Art is War Tank Top Censored Beauties After that weekend, I knew I had to work harder on: being able to talk about my work having a variety (there happened to be a scout there) the fear of what people thought Zombie Flower Girl - canvas painting; acrylic I now feel like I am ready and ready to take it head on. A bit nervous at the thought, but I have been feeling quite comfortable with sharing my works and works in progress on instagram. Which is awesome! I have had several questions about the skills I use to create my art, the tools I use, and even the paint I use! I love teaching others so they can improve as well. :) I already have a table purchased for Ninja-Con (June 6th) and one for Touhou Con (September 18-20) of this year of course. There might be another one in December, but once their location has been confirmed, I will be there! :D Reign of Flowers (pieces 1-9) Reign of Flowers (pieces 10-19) Reign of Flowers (last 3 pieces) This project is just to feed the passion and hunger I have to draw and having the funds to be part of more convention\\'s artist alleys to present my artwork to the world. The smile and happiness that people show when seeing my art work is worth a millions of dollars. Yes, I am saying that if I could I would draw for free. But sadly this world does not work that way. I slave away at a 8-5 day job, daydreaming of my next projects...lol The rewards are the gift I can give to you for helping me on my journey to share my world & mind, one drawing at a time. Plus, especially if you cannot support me in person by attending a convention, its a way to help. Thank you for your help, its greatly appreciated more than you can ever imagine! :D Art is War - Sticker XOXO,amandarias '"
      ]
     },
     "execution_count": 9,
     "metadata": {},
     "output_type": "execute_result"
    }
   ],
   "source": [
    "re.sub(r'\\n+', \" \", project_json[0][\"full_description\"])"
   ]
  },
  {
   "cell_type": "code",
   "execution_count": 11,
   "metadata": {
    "collapsed": false
   },
   "outputs": [
    {
     "data": {
      "text/plain": [
       "\"Besides the obvious of maybe not reaching the convention date, other obstacles that can happen can be the following: -printing mishaps -custom items not delivered on time from a third party company -running out of supplies without allowance time for them to be shipped -art block -convention canceling Ways of solving them or being prepared for such mishaps, I already have 2 printing companies that I keep in contact with and have helped me with my first artist alley booth. So, if one cannot help, the other company has pulled through. The company I will need to order my display banners and other custom items actually are located in my city which they can call me/email me/have me visit the shop and make adjustments if needed. I have had it happen...the convention actually has completely cancelled their event and sadly I has already purchased my table. This one I can't really control, but I have learned that I needed to find a direct contact to the chairman or the manager handling the artist alley. I will only be able to get a guaranteed cancellation answer/heads up. Before running out of photo paper or button parts, I will keep track of all inventory in which I have been keeping a spreadsheet on how much is needed, the cost, and how much was used for this event to prepare for the next one.\""
      ]
     },
     "execution_count": 11,
     "metadata": {},
     "output_type": "execute_result"
    }
   ],
   "source": [
    "re.sub(r'\\n+', \" \", project_json[0][\"risk\"][0])"
   ]
  }
 ],
 "metadata": {
  "kernelspec": {
   "display_name": "Python 3",
   "language": "python",
   "name": "python3"
  },
  "language_info": {
   "codemirror_mode": {
    "name": "ipython",
    "version": 3
   },
   "file_extension": ".py",
   "mimetype": "text/x-python",
   "name": "python",
   "nbconvert_exporter": "python",
   "pygments_lexer": "ipython3",
   "version": "3.4.0"
  }
 },
 "nbformat": 4,
 "nbformat_minor": 0
}
