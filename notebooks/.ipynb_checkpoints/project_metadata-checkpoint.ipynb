{
 "cells": [
  {
   "cell_type": "code",
   "execution_count": 21,
   "metadata": {
    "collapsed": false
   },
   "outputs": [],
   "source": [
    "import urllib2\n",
    "import json\n",
    "\n",
    "#define page no attributes i.e how many pages we want to scrape.\n",
    "#Each page gives us meta information about 20 projects\n",
    "page_atr = 50\n",
    "#design = 7\n",
    "#crafts=26\n",
    "#photography=15\n",
    "#art=1"
   ]
  },
  {
   "cell_type": "code",
   "execution_count": 5,
   "metadata": {
    "collapsed": false
   },
   "outputs": [],
   "source": [
    "# A few functions that we will make use of\n",
    "def get_url(category, page_atr, state):\n",
    "    \"\"\"Returns URLs to scrape based on page_str parameter and state\n",
    "       State can be 'live' or 'successful' and reflects a projects status in kickstarter.com\n",
    "    \"\"\"\n",
    "    url = \"https://www.kickstarter.com/discover/advanced?&category_id=\" + str(category) + \\\n",
    "    \"&woe_id=0&sort=end_date&format=json\"\n",
    "    state = \"&state=\" + state\n",
    "    page = \"&page=\"\n",
    "    return([url + state + page + str(i+1) for i in range(page_atr + 1)])\n",
    "\n",
    "\n",
    "def get_project_profile(project):\n",
    "    \"\"\" Takes HTML DOM structure of each project and extracts \n",
    "        meta inforation about the project\n",
    "    \"\"\"\n",
    "    #initate empty dictionary to store scraped data\n",
    "    project_profile = dict()\n",
    "    \n",
    "    project_profile[\"author\"] = project[\"creator\"][\"name\"]\n",
    "    project_profile[\"currency\"] = project[\"currency\"]\n",
    "    project_profile[\"deadline\"] = project[\"deadline\"]\n",
    "    project_profile[\"id\"] = project[\"id\"]\n",
    "    project_profile[\"category\"] = {k:project[\"category\"][k] for k in [\"id\", \"slug\"]}\n",
    "    project_profile[\"goal\"] = project[\"goal\"]\n",
    "    project_profile[\"pledged\"] = project[\"pledged\"]\n",
    "    project_profile[\"state\"] = project[\"state\"]\n",
    "    project_profile[\"launched_at\"] = project[\"launched_at\"]\n",
    "    \n",
    "    project_profile[\"blurb\"] = project[\"blurb\"]\n",
    "    project_profile[\"name\"] = project[\"name\"]\n",
    "    project_profile[\"backers_count\"] = project[\"backers_count\"]\n",
    "    project_profile[\"spotlight\"] = project[\"spotlight\"]\n",
    "    project_profile[\"url\"] = project[\"urls\"][\"web\"][\"project\"].replace(\"?ref=discovery\", \"/description\")\n",
    "    \n",
    "    try:\n",
    "        project_profile[\"location\"] = {k:project[\"location\"][k] for k in [\"name\", \"country\", \"state\"]}\n",
    "    except:\n",
    "        project_profile[\"location\"] = None\n",
    "    return(project_profile)\n",
    "\n",
    "\n",
    "def get_json(urls):\n",
    "    \"\"\"Takes a set of urls as an input and returns contents of the webpage in json format\n",
    "    \"\"\"\n",
    "    import urllib2\n",
    "    import json\n",
    "    p_json_list = []\n",
    "    for idx,url in enumerate(urls):\n",
    "        try:\n",
    "            print \"trying\" + str(idx)\n",
    "            p_json_list.append(json.loads(urllib2.urlopen(url).read()))\n",
    "        except:\n",
    "            print(\"page does not exist\" + str(idx + 1))\n",
    "    \n",
    "    return(p_json_list)"
   ]
  },
  {
   "cell_type": "code",
   "execution_count": 22,
   "metadata": {
    "collapsed": false
   },
   "outputs": [
    {
     "data": {
      "text/plain": [
       "'https://www.kickstarter.com/discover/advanced?&category_id=1&woe_id=0&sort=end_date&format=json&state=successful&page=1'"
      ]
     },
     "execution_count": 22,
     "metadata": {},
     "output_type": "execute_result"
    }
   ],
   "source": [
    "#call function to generate URLs\n",
    "urls = get_url(art ,page_atr, 'successful')\n",
    "urls[0]"
   ]
  },
  {
   "cell_type": "code",
   "execution_count": 23,
   "metadata": {
    "collapsed": false
   },
   "outputs": [
    {
     "name": "stdout",
     "output_type": "stream",
     "text": [
      "trying0\n",
      "trying1\n",
      "trying2\n",
      "trying3\n",
      "trying4\n",
      "trying5\n",
      "trying6\n",
      "trying7\n",
      "trying8\n",
      "trying9\n",
      "trying10\n",
      "trying11\n",
      "trying12\n",
      "trying13\n",
      "trying14\n",
      "trying15\n",
      "trying16\n",
      "trying17\n",
      "trying18\n",
      "trying19\n",
      "trying20\n",
      "trying21\n",
      "trying22\n",
      "trying23\n",
      "trying24\n",
      "trying25\n",
      "trying26\n",
      "trying27\n",
      "trying28\n",
      "trying29\n",
      "trying30\n",
      "trying31\n",
      "trying32\n",
      "trying33\n",
      "trying34\n",
      "trying35\n",
      "trying36\n",
      "trying37\n",
      "trying38\n",
      "trying39\n",
      "trying40\n",
      "trying41\n",
      "trying42\n",
      "trying43\n",
      "trying44\n",
      "trying45\n",
      "trying46\n",
      "trying47\n",
      "trying48\n",
      "trying49\n",
      "trying50\n"
     ]
    }
   ],
   "source": [
    "#call function to collect json format information for projects that are successful\n",
    "project_profile_list = get_json(urls)\n"
   ]
  },
  {
   "cell_type": "code",
   "execution_count": null,
   "metadata": {
    "collapsed": true
   },
   "outputs": [],
   "source": []
  },
  {
   "cell_type": "code",
   "execution_count": 24,
   "metadata": {
    "collapsed": false
   },
   "outputs": [
    {
     "data": {
      "text/plain": [
       "{'author': u'Amanda Arias',\n",
       " 'backers_count': 15,\n",
       " 'blurb': u'One artist alley was a complete fail, now I am ready to show what I really I got without letting the past failure hold me back!',\n",
       " 'category': {'id': 22, 'slug': u'art/illustration'},\n",
       " 'currency': u'USD',\n",
       " 'deadline': 1430803564,\n",
       " 'goal': 600.0,\n",
       " 'id': 1340290689,\n",
       " 'launched_at': 1428211564,\n",
       " 'location': {'country': u'US', 'name': u'Riverside', 'state': u'CA'},\n",
       " 'name': u\"amandarias' Art Debut\",\n",
       " 'pledged': 633.0,\n",
       " 'spotlight': True,\n",
       " 'state': u'successful',\n",
       " 'url': u'https://www.kickstarter.com/projects/amandarias/amandarias-art-debut/description'}"
      ]
     },
     "execution_count": 24,
     "metadata": {},
     "output_type": "execute_result"
    }
   ],
   "source": [
    "#Extract information we want about projects from scraped project urls\n",
    "project_list = [get_project_profile(p) for pjson in project_profile_list for p in pjson[\"projects\"]]\n",
    "project_list[0]"
   ]
  },
  {
   "cell_type": "code",
   "execution_count": 25,
   "metadata": {
    "collapsed": false
   },
   "outputs": [],
   "source": [
    "#Save data to file for further use\n",
    "project_meta_json = json.dumps(obj = project_list, indent = 4)\n",
    "fd = open(\"/home/samanatha/repos/kickass/data/project_successful_meta_art.json\", \"w\")\n",
    "fd.write(project_meta_json)\n",
    "fd.close()\n"
   ]
  },
  {
   "cell_type": "code",
   "execution_count": null,
   "metadata": {
    "collapsed": true
   },
   "outputs": [],
   "source": []
  },
  {
   "cell_type": "code",
   "execution_count": 29,
   "metadata": {
    "collapsed": false
   },
   "outputs": [
    {
     "name": "stdout",
     "output_type": "stream",
     "text": [
      "page does not exist201\n",
      "page does not exist202\n",
      "page does not exist203\n",
      "page does not exist204\n",
      "page does not exist205\n",
      "page does not exist206\n"
     ]
    }
   ],
   "source": [
    "#Repeating the same process for live projects \n",
    "#call function to generate URLs\n",
    "urls = get_url(page_atr, 'live')\n",
    "\n",
    "#call function to collect json format information for projects that are successful\n",
    "project_profile_list = get_json(urls)\n",
    "\n",
    "#Extract information we want about projects from scraped project urls\n",
    "project_list = [get_project_profile(p) for pjson in project_profile_list for p in pjson[\"projects\"]]\n",
    "\n",
    "\n",
    "#Save data to file for further use\n",
    "project_meta_json = json.dumps(obj = project_list, indent = 4)\n",
    "fd = open(\"./data/project_successful_meta.json\", \"w\")\n",
    "fd.write(project_meta_json)\n",
    "fd.close()\n"
   ]
  }
 ],
 "metadata": {
  "kernelspec": {
   "display_name": "Python 2",
   "language": "python",
   "name": "python2"
  },
  "language_info": {
   "codemirror_mode": {
    "name": "ipython",
    "version": 2
   },
   "file_extension": ".py",
   "mimetype": "text/x-python",
   "name": "python",
   "nbconvert_exporter": "python",
   "pygments_lexer": "ipython2",
   "version": "2.7.6"
  }
 },
 "nbformat": 4,
 "nbformat_minor": 0
}
