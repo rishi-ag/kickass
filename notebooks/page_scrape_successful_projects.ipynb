{
 "cells": [
  {
   "cell_type": "code",
   "execution_count": 3,
   "metadata": {
    "collapsed": false
   },
   "outputs": [],
   "source": [
    "from bs4 import BeautifulSoup\n",
    "import urllib\n",
    "import re\n",
    "\n",
    "import urllib2\n",
    "import json"
   ]
  },
  {
   "cell_type": "code",
   "execution_count": 5,
   "metadata": {
    "collapsed": false
   },
   "outputs": [],
   "source": [
    "#general format is https://www.kickstarter.com/projects/creatorname/campaignname\n",
    "\n",
    "#Creating a function to grab detailed text information about the project from the project's kicstarter page\n",
    "#Passing project id, url, and currency of funds requested from the meta data of successful project URLs\n",
    "# URLS from './data/project_successful_meta.json' created by the project_metadata.ipyth program\n",
    "def get_one_project_det(project_det, pcounter):\n",
    "    #Creating beautiful soup object from URL\n",
    "    try:\n",
    "        \n",
    "        pid = project_det[\"id\"]\n",
    "        url = project_det[\"url\"]\n",
    "        currency = project_det[\"currency\"]\n",
    "        r = urllib.urlopen(url)\n",
    "        soup = BeautifulSoup(r)\n",
    "        \n",
    "        #Need to obtain the donation values and the reward/gifts associated with each donation value\n",
    "        #Reading in tag with multiple pieces of info on this\n",
    "        b=list(soup.find_all(class_=\"NS_projects__rewards_list js-project-rewards\"))\n",
    "        #Donation dollar amount group\n",
    "        reward_value_list = [reward.string.split()[0] for reward in b[0](\"h5\",class_=\"mb1\")]\n",
    "        #Number of backers associated with Donation dollar amount group\n",
    "        backer_list = [backers.string.split()[0]+' backers' for backers in b[0](\"span\", class_=\"num-backers mr1\")]\n",
    "        #Reward/gift associated with Donation dollar amount group\n",
    "        reward_item_list = [item(\"p\")[0].get_text() for item in b[0](\"div\",class_=\"desc h5 mb2 break-word\")]\n",
    "        \n",
    "        #removing currency sign from reward value\n",
    "        reg = re.compile(\"\\d.*\",flags=re.U)\n",
    "        reward_value_list = [reg.findall(reward.string.split()[0])[0] for reward in b[0](\"h5\",class_=\"mb1\")]\n",
    "    \n",
    "        #Text associated with the risks of the project--outlining project hurdles\n",
    "        c=list(soup(\"div\", class_=\"mb6 mb2\"))\n",
    "        risk=[item(\"p\") for item in c][0]\n",
    "        \n",
    "       #Creating a dictionary for each project id \n",
    "        \n",
    "       #Project title \n",
    "        project_det[\"title\"] = soup.find_all(\"meta\", property=\"og:title\")[0].get(\"content\")\n",
    "       #Blurb about project \n",
    "       # project_det[\"blurb1\"] = soup.find_all(property=re.compile(\"og:description\"))[0].get(\"content\")\n",
    "       #Creator's URL hompage\n",
    "        project_det[\"creator_url\"] = soup.find_all(property=re.compile(\"kickstarter:creator\"))[0].get(\"content\")\n",
    "       #Total number of backers\n",
    "        project_det[\"no_backers\"] = list(soup(\"div\", class_=\"NS_projects__spotlight_stats\")[0])[1].string\n",
    "       #Project goal amount---min value needed to be raised for successful project \n",
    "        project_det[\"goal\"] = reg.findall(list(soup.find_all(\"span\", class_=\"money \" +currency.lower()+ \" no-code\")[2])[0].string)\n",
    "       #Number of dollars raised during campaign \n",
    "        project_det[\"no_dollars_raised\"] = list(soup(\"div\", class_=\"NS_projects__spotlight_stats\")[0])[3].string\n",
    "       #Information about donation amount groups, number of backer for group and gift associated with group \n",
    "        project_det[\"reward_backer_tup\"] = (zip(reward_value_list, backer_list,reward_item_list))\n",
    "       #Creator's detailed information about risks involved with the project \n",
    "        project_det[\"risk\"] = [para.get_text() for para in risk]\n",
    "       #project id \n",
    "        #project_det[\"id\"] = pid\n",
    "       #project url \n",
    "        #project_det[\"url\"] = url\n",
    "        \n",
    "        return(project_det)\n",
    "    \n",
    "    except:\n",
    "        print pcounter\n",
    "        return({pcounter: url})"
   ]
  },
  {
   "cell_type": "code",
   "execution_count": 4,
   "metadata": {
    "collapsed": false
   },
   "outputs": [],
   "source": [
    "#open url information\n",
    "fd = open('./data/project_successful_meta.json', 'r')\n",
    "text = fd.read()\n",
    "fd.close()\n",
    "\n",
    "pmeta = json.loads(text)"
   ]
  },
  {
   "cell_type": "code",
   "execution_count": 7,
   "metadata": {
    "collapsed": false
   },
   "outputs": [],
   "source": [
    "#call function created above to grab project details and loop through project for every url in pmeta file\n",
    "# for homework purposes, limited this to 500 urls, but we'll pull more for final project\n",
    "project_succ_det = []\n",
    "\n",
    "for pcounter, project_header in enumerate(pmeta[0:100]):\n",
    "    try:\n",
    "        print(\"trying project \", pcounter)\n",
    "        project_succ_det.append(get_one_project_det(project_header, pcounter))\n",
    "    except:\n",
    "        print(\"failed for project element\", pcounter)\n",
    "    "
   ]
  },
  {
   "cell_type": "code",
   "execution_count": 8,
   "metadata": {
    "collapsed": false
   },
   "outputs": [
    {
     "data": {
      "text/plain": [
       "{u'author': u'Kristin Tanner',\n",
       " u'backers_count': 83,\n",
       " u'blurb': u'Walkabout Town is a 52-page text and photographic journey through an urban community accompanied by a linked original song download.',\n",
       " u'category': {u'id': 46, u'slug': u\"publishing/children's books\"},\n",
       " 'creator_url': 'https://www.kickstarter.com/profile/646813428',\n",
       " u'currency': u'USD',\n",
       " u'deadline': 1429763079,\n",
       " u'goal': [u'2,500'],\n",
       " u'id': 665680385,\n",
       " u'launched_at': 1427171079,\n",
       " u'location': {u'country': u'US', u'name': u'St. Louis', u'state': u'MO'},\n",
       " u'name': u'Walkabout Town',\n",
       " 'no_backers': u'83 backers',\n",
       " 'no_dollars_raised': u'$2,747',\n",
       " u'pledged': 2747.0,\n",
       " 'reward_backer_tup': [(u'25',\n",
       "   u'71 backers',\n",
       "   u'A hardcover signed copy of Walkabout Town, including the link to the accompanying downloadable song.')],\n",
       " 'risk': [u'Although I have finished a small print run, I realize that is just the beginning of this story.  Even though a fully funded campaign will lead to increased readership, I want this book to act as a tool for people of all backgrounds to recognize the beauty of true community.  In order to accomplish this, I have already scheduled a large number of school visits with varying demographics so that all students have the opportunity to experience and extract the richness of their own surroundings.'],\n",
       " u'spotlight': True,\n",
       " u'state': u'successful',\n",
       " 'title': 'Walkabout Town',\n",
       " u'url': u'https://www.kickstarter.com/projects/646813428/walkabout-town/description'}"
      ]
     },
     "execution_count": 8,
     "metadata": {},
     "output_type": "execute_result"
    }
   ],
   "source": [
    "project_succ_det[0]"
   ]
  },
  {
   "cell_type": "code",
   "execution_count": 9,
   "metadata": {
    "collapsed": false
   },
   "outputs": [
    {
     "data": {
      "text/plain": [
       "{u'author': u'Jared Lerner',\n",
       " u'backers_count': 35,\n",
       " u'blurb': u'With their unique design and superior construction, the Just Live leggings fit great, look great, and do not cost an arm and a leg',\n",
       " u'category': {u'id': 263, u'slug': u'fashion/apparel'},\n",
       " u'currency': u'USD',\n",
       " u'deadline': 1429761879,\n",
       " u'goal': 15000.0,\n",
       " u'id': 119504178,\n",
       " u'launched_at': 1427169879,\n",
       " u'location': {u'country': u'US', u'name': u'Hallandale', u'state': u'FL'},\n",
       " u'name': u'Just Live- The First Premium Leggings at a Low Cost',\n",
       " u'pledged': 15245.0,\n",
       " u'spotlight': True,\n",
       " u'state': u'successful',\n",
       " u'url': u'https://www.kickstarter.com/projects/1428920854/just-live-the-first-premium-leggings-at-a-low-cost/description'}"
      ]
     },
     "execution_count": 9,
     "metadata": {},
     "output_type": "execute_result"
    }
   ],
   "source": [
    "pmeta[1]"
   ]
  },
  {
   "cell_type": "code",
   "execution_count": 10,
   "metadata": {
    "collapsed": false
   },
   "outputs": [
    {
     "data": {
      "text/plain": [
       "{'blurb1': 'With their unique design and superior construction, the Just Live leggings fit great, look great, and do not cost an arm and a leg',\n",
       " 'creator_url': 'https://www.kickstarter.com/profile/1428920854',\n",
       " 'goal': [u'15,000'],\n",
       " 'id': 119504178,\n",
       " 'no_backers': u'35 backers',\n",
       " 'no_dollars_raised': u'$15,245',\n",
       " 'reward_backer_tup': [(u'5',\n",
       "   u'5 backers',\n",
       "   u'Thanks for supporting Just Live! We will send you Just Live branded stickers.  We will also list you among our early supporters on our website and send you an email thanking you for your support.'),\n",
       "  (u'25',\n",
       "   u'0 backers',\n",
       "   u'The Just Live Performance T-Shirt- You will get one of our performance t-shirts, perfect for women, men and children! You will also receive Just Live branded stickers, be listed as a supporter on our website, and receive a thank you email from us!'),\n",
       "  (u'55',\n",
       "   u'6 backers',\n",
       "   u'Just Live Performance Capris (Early Bird Special)- You will receive one pair of high-performance \"Race Time Capris\" in the color of your choice. You will also receive the stickers, email and website recognition.  But act now, this reduced price Capri offer will only be available to the first 200 backers.'),\n",
       "  (u'60',\n",
       "   u'7 backers',\n",
       "   u'Just Live Performance Tights (Early Bird Special)- You will receive one pair of high-performance \"Power Through Tights\" in the color of your choice.  You will also receive the stickers, email and website recognition. But act now, this reduced price Tights offer will only be available to the first 200 backers.'),\n",
       "  (u'70',\n",
       "   u'0 backers',\n",
       "   u'Just Live Capris - You will receive one pair of high-performance \"Race Time Capris\" in the color of your choice. You will also receive the Just Live stickers, Thank you email and website recognition as a proud backer of Just Live.'),\n",
       "  (u'75',\n",
       "   u'0 backers',\n",
       "   u'Just Live Tights - You will receive one pair of high-performance \"Power Through Tights\" in the color of your choice. You will also receive the Just Live stickers, Thank you email and website recognition as a proud backer of Just Live.'),\n",
       "  (u'125',\n",
       "   u'14 backers',\n",
       "   u'The Just Live Platinum Package (Early Bird Special)- You will receive all of the following, because you are a true Just Live brand ambassador:\\n-1 Pair of Power Through Tights\\n-1 Pair of Race Time Capris\\n-2 Just Live Performance T-Shirts\\n-Just Live Branded Stickers\\n-Personalized Thank You\\n-Website Recognition'),\n",
       "  (u'1,000',\n",
       "   u'1 backers',\n",
       "   u'The Just Live Branding Opportunity- Do you own a gym, yoga studio, etc and would like to have your own branded version of the Just Live pant?'),\n",
       "  (u'2,000',\n",
       "   u'1 backers',\n",
       "   u'Design Your Own Just Live Line- Have you ever wondered what it would be like to design your own clothing line?  Well, today is your lucky day.')],\n",
       " 'risk': [u'Clothing is a complicated business and there are a bunch of logistical stops to get the product to your door.',\n",
       "  u'But here is the good news...',\n",
       "  u\"We have done research in order to guarantee the delivery will happen on the specific month listed within each goal.  So do not worry!  Your new pair of Just Live's will be there when you expect them.\"],\n",
       " 'title': 'Just Live- The First Premium Leggings at a Low Cost',\n",
       " 'url': u'https://www.kickstarter.com/projects/1428920854/just-live-the-first-premium-leggings-at-a-low-cost/description'}"
      ]
     },
     "execution_count": 10,
     "metadata": {},
     "output_type": "execute_result"
    }
   ],
   "source": [
    "project_succ_det[1]"
   ]
  },
  {
   "cell_type": "code",
   "execution_count": 9,
   "metadata": {
    "collapsed": false
   },
   "outputs": [],
   "source": [
    "\n",
    "#Save data to file for further use\n",
    "project_meta_json = json.dumps(obj = project_succ_det, indent = 4)\n",
    "#File to look at for sample data\n",
    "fd = open(\"./data/project_successful_final_tech_sample.json\", \"w\")\n",
    "fd.write(project_meta_json)\n",
    "fd.close()"
   ]
  },
  {
   "cell_type": "code",
   "execution_count": null,
   "metadata": {
    "collapsed": false
   },
   "outputs": [],
   "source": []
  }
 ],
 "metadata": {
  "kernelspec": {
   "display_name": "Python 2",
   "language": "python",
   "name": "python2"
  },
  "language_info": {
   "codemirror_mode": {
    "name": "ipython",
    "version": 2
   },
   "file_extension": ".py",
   "mimetype": "text/x-python",
   "name": "python",
   "nbconvert_exporter": "python",
   "pygments_lexer": "ipython2",
   "version": "2.7.6"
  }
 },
 "nbformat": 4,
 "nbformat_minor": 0
}
