{
 "cells": [
  {
   "cell_type": "code",
   "execution_count": 26,
   "metadata": {
    "collapsed": false
   },
   "outputs": [],
   "source": [
    "from bs4 import BeautifulSoup\n",
    "import urllib\n",
    "import re\n",
    "\n",
    "import urllib2\n",
    "import json"
   ]
  },
  {
   "cell_type": "code",
   "execution_count": 27,
   "metadata": {
    "collapsed": false
   },
   "outputs": [],
   "source": [
    "#general format is https://www.kickstarter.com/projects/creatorname/campaignname\n",
    "\n",
    "#Creating a function to grab detailed text information about the project from the project's kicstarter page\n",
    "#Passing project id, url, and currency of funds requested from the meta data of successful project URLs\n",
    "# URLS from './data/project_successful_meta.json' created by the project_metadata.ipyth program\n",
    "\n",
    "\n",
    "\n",
    "def get_soup(url, pcounter):\n",
    "    #Creating beautiful soup object from URL\n",
    "    try:\n",
    "        r = urllib.urlopen(url)\n",
    "        return BeautifulSoup(r)\n",
    "    \n",
    "    except:\n",
    "        print \"Failing for count\", pcounter\n",
    "        return {pcounter: url}     \n",
    "        "
   ]
  },
  {
   "cell_type": "code",
   "execution_count": 28,
   "metadata": {
    "collapsed": false
   },
   "outputs": [],
   "source": [
    "\n",
    "def get_project_info(project_det, soup):\n",
    "    \n",
    "        #Need to obtain the donation values and the reward/gifts associated with each donation value\n",
    "        #Reading in tag with multiple pieces of info on this\n",
    "        b=list(soup.find_all(class_=\"NS_projects__rewards_list js-project-rewards\"))\n",
    "        #Donation dollar amount group\n",
    "        reward_value_list = [reward.string.split()[0] \\\n",
    "                            for reward in b[0](\"h5\",class_=\"mb1\")]\n",
    "        #Number of backers associated with Donation dollar amount group\n",
    "        backer_list = [backers.string.split()[0]+' backers' \\\n",
    "                       for backers in b[0](\"span\", class_=\"num-backers mr1\")]\n",
    "        #Reward/gift associated with Donation dollar amount group\n",
    "        reward_item_list = [item(\"p\")[0].get_text() for item in b[0](\"div\",class_=\"desc h5 mb2 break-word\")]\n",
    "        \n",
    "        #removing currency sign from reward value\n",
    "        reg = re.compile(\"\\d.*\",flags=re.U)\n",
    "        reward_value_list = [reg.findall(reward.string.split()[0])[0] for reward in b[0](\"h5\",class_=\"mb1\")]\n",
    "    \n",
    "        #Text associated with the risks of the project--outlining project hurdles\n",
    "        c=list(soup(\"div\", class_=\"mb6 mb2\"))\n",
    "        risk=[item(\"p\") for item in c][0]\n",
    "        \n",
    "        #Creating a dictionary for each project id \n",
    "        \n",
    "        #Project title \n",
    "        project_det[\"title\"] = soup.find_all(\"meta\", property=\"og:title\")[0].get(\"content\")\n",
    "        #Blurb about project \n",
    "        # project_det[\"blurb1\"] = soup.find_all(property=re.compile(\"og:description\"))[0].get(\"content\")\n",
    "        #Creator's URL hompage\n",
    "        project_det[\"creator_url\"] = soup.find_all(property=re.compile(\"kickstarter:creator\"))[0].get(\"content\")\n",
    "        #Total number of backers\n",
    "        project_det[\"no_backers\"] = list(soup(\"div\", class_=\"NS_projects__spotlight_stats\")[0])[1].string\n",
    "        #Project goal amount---min value needed to be raised for successful project \n",
    "        #project_det[\"goal\"] = reg.findall(list(soup.find_all(\"span\", class_=\"money\" + project_det[\"currency\"].lower()+ \" no-code\")[2])[0].string)\n",
    "        #Number of dollars raised during campaign \n",
    "        project_det[\"no_dollars_raised\"] = list(soup(\"div\", class_=\"NS_projects__spotlight_stats\")[0])[3].string\n",
    "        #Information about donation amount groups, number of backer for group and gift associated with group \n",
    "        project_det[\"reward_backer_tup\"] = (zip(reward_value_list, backer_list,reward_item_list))\n",
    "        #Creator's detailed information about risks involved with the project \n",
    "        project_det[\"risk\"] = [para.get_text() for para in risk]\n",
    "        #project details\n",
    "        project_det[\"full_description\"]=soup(\"div\", class_=\"full-description js-full-description responsive-media formatted-lists\")[0].get_text()\n",
    "        \n",
    "        return(project_det)"
   ]
  },
  {
   "cell_type": "code",
   "execution_count": 29,
   "metadata": {
    "collapsed": false
   },
   "outputs": [
    {
     "data": {
      "text/plain": [
       "{u'author': u'Pixel After Pixel',\n",
       " u'backers_count': 3,\n",
       " u'blurb': u'Fresh, clean air from the #1 beach in America, delivered straight to you, anywhere in the world. Breathe deep and enjoy the sea breeze!',\n",
       " u'category': {u'id': 279, u'slug': u'photography/places'},\n",
       " u'currency': u'USD',\n",
       " u'deadline': 1430798280,\n",
       " u'goal': 23.0,\n",
       " u'id': 1265313749,\n",
       " u'launched_at': 1427872005,\n",
       " u'location': {u'country': u'US', u'name': u'Tampa', u'state': u'FL'},\n",
       " u'name': u'Air',\n",
       " u'pledged': 26.0,\n",
       " u'spotlight': True,\n",
       " u'state': u'successful',\n",
       " u'url': u'https://www.kickstarter.com/projects/pixelafterpixel/air-0/description'}"
      ]
     },
     "execution_count": 29,
     "metadata": {},
     "output_type": "execute_result"
    }
   ],
   "source": [
    "category=\"photography\"\n",
    "\n",
    "#open url information\n",
    "fd = open('/home/samanatha/repos/kickass/data/project_successful_meta_'+category+'.json', 'r')\n",
    "text = fd.read()\n",
    "fd.close()\n",
    "\n",
    "pmeta = json.loads(text)\n",
    "pmeta[1]"
   ]
  },
  {
   "cell_type": "code",
   "execution_count": 30,
   "metadata": {
    "collapsed": false,
    "scrolled": true
   },
   "outputs": [
    {
     "name": "stdout",
     "output_type": "stream",
     "text": [
      "('trying project ', 0)\n",
      "('trying project ', 20)\n",
      "('trying project ', 40)\n",
      "('trying project ', 60)\n",
      "('trying project ', 80)\n",
      "('trying project ', 100)\n",
      "('trying project ', 120)\n",
      "('trying project ', 140)\n",
      "('trying project ', 160)\n",
      "('trying project ', 180)\n",
      "('trying project ', 200)\n",
      "('trying project ', 220)\n",
      "('trying project ', 240)\n",
      "('trying project ', 260)\n",
      "('trying project ', 280)\n",
      "('trying project ', 300)\n",
      "('trying project ', 320)\n",
      "('trying project ', 340)\n",
      "('trying project ', 360)\n",
      "('trying project ', 380)\n",
      "('trying project ', 400)\n",
      "('trying project ', 420)\n",
      "('trying project ', 440)\n",
      "('trying project ', 460)\n",
      "('trying project ', 480)\n",
      "('trying project ', 500)\n",
      "('trying project ', 520)\n",
      "('trying project ', 540)\n",
      "('trying project ', 560)\n",
      "('trying project ', 580)\n",
      "('trying project ', 600)\n",
      "('trying project ', 620)\n",
      "('trying project ', 640)\n",
      "('trying project ', 660)\n",
      "('trying project ', 680)\n",
      "('trying project ', 700)\n",
      "('trying project ', 720)\n",
      "('trying project ', 740)\n",
      "('trying project ', 760)\n",
      "('trying project ', 780)\n",
      "('trying project ', 800)\n",
      "('trying project ', 820)\n",
      "('trying project ', 840)\n",
      "('trying project ', 860)\n",
      "('trying project ', 880)\n",
      "('trying project ', 900)\n",
      "('trying project ', 920)\n",
      "('trying project ', 940)\n",
      "('trying project ', 960)\n",
      "('trying project ', 980)\n",
      "('trying project ', 1000)\n"
     ]
    }
   ],
   "source": [
    "import time\n",
    "#call function created above to grab project details and loop through project for every url in pmeta file\n",
    "# for homework purposes, limited this to 500 urls, but we'll pull more for final project\n",
    "project_succ_soup = dict()\n",
    "\n",
    "for pcounter, project_header in enumerate(pmeta):\n",
    "    try:\n",
    "        if pcounter % 20 == 0  :\n",
    "            print(\"trying project \", pcounter)\n",
    "        project_succ_soup[project_header[\"id\"]] = get_soup(project_header[\"url\"], pcounter)\n",
    "    except:\n",
    "        print(\"failed for project element\", pcounter) \n",
    "        \n"
   ]
  },
  {
   "cell_type": "code",
   "execution_count": 31,
   "metadata": {
    "collapsed": false
   },
   "outputs": [],
   "source": [
    "project_details = []\n",
    "for project_header in pmeta:\n",
    "    try:\n",
    "        project_details.append(get_project_info(project_header, project_succ_soup[project_header[\"id\"]]))\n",
    "    except:\n",
    "        print \"This id \" + str(project_header[\"id\"]) + \" fucked you up!!!\"\n",
    "  "
   ]
  },
  {
   "cell_type": "code",
   "execution_count": null,
   "metadata": {
    "collapsed": true
   },
   "outputs": [],
   "source": []
  },
  {
   "cell_type": "code",
   "execution_count": 32,
   "metadata": {
    "collapsed": false
   },
   "outputs": [],
   "source": [
    "#Save data to file for further use\n",
    "project_details_json = json.dumps(obj = project_details, indent = 4)\n",
    "#File to look at for sample data\n",
    "fd = open(\"/home/samanatha/repos/kickass/data/project_successful_details_\"+category+\"_sample.json\", \"w\")\n",
    "fd.write(project_details_json)\n",
    "fd.close()"
   ]
  },
  {
   "cell_type": "code",
   "execution_count": 33,
   "metadata": {
    "collapsed": false
   },
   "outputs": [
    {
     "data": {
      "text/plain": [
       "{u'author': u'Pixel After Pixel',\n",
       " u'backers_count': 3,\n",
       " u'blurb': u'Fresh, clean air from the #1 beach in America, delivered straight to you, anywhere in the world. Breathe deep and enjoy the sea breeze!',\n",
       " u'category': {u'id': 279, u'slug': u'photography/places'},\n",
       " 'creator_url': 'https://www.kickstarter.com/profile/pixelafterpixel',\n",
       " u'currency': u'USD',\n",
       " u'deadline': 1430798280,\n",
       " 'full_description': u\"\\n\\n\\n\\n\\n\\nAir. Fun, breathable air, circa 2015. By 2049, today's air will be vintage, and you'll be the proud owner of a little sea-breeze that you can gulp into your lungs whenever you like. Commemorated with a thoughtful memoir (with full color pictures) of where your air was harvested (with hand-crafted care) from the shore of America's #1 beach.Act now while supplies last! Due to the finite quantity of Air and such on planet Earth, we are forced to limit rewards to 99,999,999. Hurry and get your fresh sea breeze in the mail!\\n\\n\\n\\n\\nEvery reward gets a full color\\xa0custom-made postcard, from Florida's Siesta Key (#1 USA Beach). Like all limited-edition fine art prints, each postcard is numbered.Every reward also comes with the exciting PDF documentary of Air, a tale of mystery and intrigue - featuring full color photos of your air, and the thrilling tale of how and when your air was harvested from the shore (PDF delivered through the magic and intangible gears of the internet machine).\\n\\n\\n\\n\\n\\nReward #1 - Numbered postcard and PDF, featuring photos and the incredible tale of Air.\\n\\n\\n\\n\\nReward #2 -\\xa0Numbered postcard and PDF, featuring photos and the incredible tale of Air. Now, the best part -\\xa0a letter size envelop filled with a sea breeze of Air, fresh from Siesta Key Beach!\\n\\n\\n\\n\\nReward #3 - Numbered postcard and PDF, featuring photos and the incredible tale of Air. For extra care and safe handling of your air, it will be delivered in a padded envelop - inside is a sea breeze of Air, fresh from Siesta Key Beach!\\n\\n\\n\\n\\nReward #4 -\\xa0Numbered postcard and PDF, featuring photos and the incredible tale of Air. For care and safe handling of your air, it will be delivered in a padded envelop - inside is a sea breeze of Air, fresh from Siesta Key Beach! Additionally, you get a small pitch of sand, so you can create your own little mini-beach wherever you are!\\n\\n\\n\\n\\nReward #5 - Numbered postcard and PDF, featuring photos and the incredible tale of Air. For care and safe handling of your air, it will be delivered in a padded envelop - inside is a sea breeze of Air, fresh from Siesta Key Beach! Additionally, you get a small pitch of sand and a sea shell, so you can create your own little mini-beach wherever you are!\\nWhy Siesta Key Beach?It was recently voted the #1 Beach in the USA - the sand is really soft, the water is really warm, the sound of the waves crashing on the shore is relaxing, and the air is really fresh! Are you ever going to set foot on the beach and breathe this air in person?Yes - Good, you'll love it!No - Then pick a reward and have it delivered to you!\\n\\n\\n\\n\\n\",\n",
       " u'goal': 23.0,\n",
       " u'id': 1265313749,\n",
       " u'launched_at': 1427872005,\n",
       " u'location': {u'country': u'US', u'name': u'Tampa', u'state': u'FL'},\n",
       " u'name': u'Air',\n",
       " 'no_backers': u'3 backers',\n",
       " 'no_dollars_raised': u'$26.00',\n",
       " u'pledged': 26.0,\n",
       " 'reward_backer_tup': [(u'2', u'0 backers', u'Reward #1'),\n",
       "  (u'5', u'1 backers', u'Reward #2'),\n",
       "  (u'10', u'0 backers', u'Reward #3'),\n",
       "  (u'15', u'0 backers', u'Reward #4'),\n",
       "  (u'20', u'1 backers', u'Reward #5')],\n",
       " 'risk': [u\"Seagulls. Sometimes they dive-bomb when you're walking along the beach. Especially if they think you have a sandwich. But there's not enough seagulls to breathe up all the air. Looks like everything is gonna be ok, and the air harvesting can continue.\",\n",
       "  u\"Might need a fishing license to take shells or sand from the beach? Fishing license is cheap - in the end, the sand and shells might need to come from somewhere else, but they'll absorb the spirit of Siesta Key Beach before mailing :)\"],\n",
       " u'spotlight': True,\n",
       " u'state': u'successful',\n",
       " 'title': 'Air',\n",
       " u'url': u'https://www.kickstarter.com/projects/pixelafterpixel/air-0/description'}"
      ]
     },
     "execution_count": 33,
     "metadata": {},
     "output_type": "execute_result"
    }
   ],
   "source": [
    "project_details[1]"
   ]
  }
 ],
 "metadata": {
  "kernelspec": {
   "display_name": "Python 2",
   "language": "python",
   "name": "python2"
  },
  "language_info": {
   "codemirror_mode": {
    "name": "ipython",
    "version": 2
   },
   "file_extension": ".py",
   "mimetype": "text/x-python",
   "name": "python",
   "nbconvert_exporter": "python",
   "pygments_lexer": "ipython2",
   "version": "2.7.6"
  }
 },
 "nbformat": 4,
 "nbformat_minor": 0
}
