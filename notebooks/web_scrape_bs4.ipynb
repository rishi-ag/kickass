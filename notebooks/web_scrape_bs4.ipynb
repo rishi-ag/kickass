{
 "metadata": {
  "name": ""
 },
 "nbformat": 3,
 "nbformat_minor": 0,
 "worksheets": [
  {
   "cells": [
    {
     "cell_type": "heading",
     "level": 1,
     "metadata": {},
     "source": [
      "Web Scraping with Beautiful Soup"
     ]
    },
    {
     "cell_type": "markdown",
     "metadata": {},
     "source": [
      "14D010 - Text Mining for Social Sciences\n",
      "Masters of Data Science, Barcelona Graduate School of Economics\n",
      "\n",
      "Compiled by Rishabh Agnihotri"
     ]
    },
    {
     "cell_type": "heading",
     "level": 2,
     "metadata": {},
     "source": [
      "Software Prequistes"
     ]
    },
    {
     "cell_type": "markdown",
     "metadata": {},
     "source": [
      "Python 2.7.6\n",
      "\n",
      "Packages: \n",
      "    1. BeautifulSoup4\n",
      "    2. urllib"
     ]
    },
    {
     "cell_type": "markdown",
     "metadata": {},
     "source": [
      "The principal theme of this notebook is to demonstrate the use of beautifulsoup4 library to \"scrape\" content from html websites and make a rectanguar database of all information that is interesting for our analysis.\n",
      "\n",
      "Most information in a webpage source is of little use to us and is used to render and format the webpage itself. Therefore it would be prudent to familiarise yourself with HTML tags as and when needed.\n",
      "\n",
      "The first step is to read the contents of given webpage and create a beautiful Soup object using the BeautifulSoup function."
     ]
    },
    {
     "cell_type": "code",
     "collapsed": false,
     "input": [
      "from bs4 import BeautifulSoup\n",
      "import urllib\n",
      "\n",
      "url = \"https://www.kickstarter.com/discover/advanced?category_id=0&woe_id=0&sort=end_date\"\n",
      "r = urllib.urlopen(url).read()\n",
      "soup = BeautifulSoup(r)"
     ],
     "language": "python",
     "metadata": {},
     "outputs": [],
     "prompt_number": 3
    },
    {
     "cell_type": "code",
     "collapsed": false,
     "input": [
      "print type(soup)"
     ],
     "language": "python",
     "metadata": {},
     "outputs": [
      {
       "output_type": "stream",
       "stream": "stdout",
       "text": [
        "<class 'bs4.BeautifulSoup'>\n"
       ]
      }
     ],
     "prompt_number": 4
    },
    {
     "cell_type": "markdown",
     "metadata": {},
     "source": [
      "The soup object contains the entire html source of the given webpage and can be squeezed to give out useful information."
     ]
    },
    {
     "cell_type": "code",
     "collapsed": false,
     "input": [
      "print soup.prettify()[0:1000]"
     ],
     "language": "python",
     "metadata": {},
     "outputs": [
      {
       "output_type": "stream",
       "stream": "stdout",
       "text": [
        "<!DOCTYPE html>\n",
        "<html class=\"discover_advanced fontface no-js\" lang=\"en\">\n",
        " <head prefix=\"og: http://ogp.me/ns# fb: http://ogp.me/ns/fb# kickstarter: http://ogp.me/ns/fb/kickstarter#\">\n",
        "  <script>\n",
        "   //<![CDATA[\n",
        "    docElement = this.document.documentElement;\n",
        "    docElement.className=docElement.className.replace(/\\bno-js\\b/,'') + 'js';\n",
        "  //]]>\n",
        "  </script>\n",
        "  <title>\n",
        "   Discover Projects \u00bb Ending Soon \u2014 Kickstarter\n",
        "  </title>\n",
        "  <script>\n",
        "   //<![CDATA[\n",
        "    window.report_errors = true;\n",
        "    window.honeybadger_configuration = {\n",
        "      api_key : \"02ab109335c0dd1a93506d92f22217a7\",\n",
        "      environment : \"production\",\n",
        "      component : \"discover\",\n",
        "      action : \"advanced\",\n",
        "      onerror : false\n",
        "    };\n",
        "  //]]>\n",
        "  </script>\n",
        "  <!--[if lt IE 9]>\n",
        "  <script src=\"//html5shim.googlecode.com/svn/trunk/html5.js\"></script>\n",
        "<![endif]-->\n",
        "  <meta content=\"text/html; charset=utf-8\" http-equiv=\"Content-Type\"/>\n",
        "  <script type=\"text/javascript\">\n",
        "   window.NREUM||(NREUM={});NREUM.info={\"beacon\":\"bam.nr-data.net\",\"erro\n"
       ]
      }
     ],
     "prompt_number": 5
    },
    {
     "cell_type": "markdown",
     "metadata": {},
     "source": [
      "As evident the text is structured with HTML tags organised in a systematic way. This structure is referred to as a HTML DOM(Document Object Model). For a brief introduction refer to <a href = \"http://www.w3schools.com/js/js_htmldom.asp\"> W3's introduction to HTML DOM. </a>\n",
      "\n",
      "An example of DOM is as follows:"
     ]
    },
    {
     "cell_type": "code",
     "collapsed": false,
     "input": [
      "from IPython.display import Image\n",
      "Image(url = 'http://www.w3schools.com/js/pic_htmltree.gif')"
     ],
     "language": "python",
     "metadata": {},
     "outputs": [
      {
       "html": [
        "<img src=\"http://www.w3schools.com/js/pic_htmltree.gif\"/>"
       ],
       "metadata": {},
       "output_type": "pyout",
       "prompt_number": 6,
       "text": [
        "<IPython.core.display.Image at 0x7f1451391950>"
       ]
      }
     ],
     "prompt_number": 6
    },
    {
     "cell_type": "heading",
     "level": 2,
     "metadata": {},
     "source": [
      "The Data We Want"
     ]
    },
    {
     "cell_type": "markdown",
     "metadata": {},
     "source": [
      "We are interested in indentifying information about funding projects that are posted on kickstarter.com. This means information such as project title, project description, location, is the project was funded or not, etc. There are different HTML tags that have this information.\n",
      "\n",
      "So we'll use BeautifulSoup's functions to parse HTML tags that contain this information or lead us to it in the form of embedded urls.\n",
      "\n",
      "On examining the page source we find that the tag <b>`project-card project-card-tall`</b> is a self contained tag which holds all information about a project such as its title, author, location, url etc.\n",
      "\n"
     ]
    },
    {
     "cell_type": "code",
     "collapsed": false,
     "input": [
      "projects = soup.find_all(name = \"div\", class_=\"project-card project-card-tall\")\n",
      "len(projects)"
     ],
     "language": "python",
     "metadata": {},
     "outputs": [
      {
       "metadata": {},
       "output_type": "pyout",
       "prompt_number": 7,
       "text": [
        "20"
       ]
      }
     ],
     "prompt_number": 7
    },
    {
     "cell_type": "markdown",
     "metadata": {},
     "source": [
      "So the self contained HTML tag <b>`project-card project-card-tall`</b> for every project is stored in a BeautifulSoup object called projects."
     ]
    },
    {
     "cell_type": "code",
     "collapsed": false,
     "input": [
      "type(projects)"
     ],
     "language": "python",
     "metadata": {},
     "outputs": [
      {
       "metadata": {},
       "output_type": "pyout",
       "prompt_number": 8,
       "text": [
        "bs4.element.ResultSet"
       ]
      }
     ],
     "prompt_number": 8
    },
    {
     "cell_type": "markdown",
     "metadata": {},
     "source": [
      "The <b> `bs4.element.ResultSet` </b> is like an iterable list that is unique to BeautifulSoup4. Its contents are displayed below. Notice that you will be able to identify tags that are possibly useful."
     ]
    },
    {
     "cell_type": "code",
     "collapsed": false,
     "input": [
      "projects[0]"
     ],
     "language": "python",
     "metadata": {},
     "outputs": [
      {
       "metadata": {},
       "output_type": "pyout",
       "prompt_number": 9,
       "text": [
        "<div class=\"project-card project-card-tall\" data-project='{\"id\":1934562618}'>\n",
        "<div class=\"project-thumbnail\">\n",
        "<a href=\"/projects/rokas/positive-tv-pilot-show-magic-is-something-you-make?ref=ending_soon\" target=\"\">\n",
        "<img alt=\"Project image\" class=\"project-thumbnail-img\" src=\"https://ksr-ugc.imgix.net/projects/1604179/photo-original.jpg?v=1427311048&amp;w=218&amp;h=162&amp;fit=crop&amp;auto=format&amp;q=92&amp;s=a74d28985ebe0a0a31ab205eccde7d98\" width=\"100%\"/>\n",
        "</a>\n",
        "</div>\n",
        "<div class=\"project-card-content\">\n",
        "<h6 class=\"project-title\"><a href=\"/projects/rokas/positive-tv-pilot-show-magic-is-something-you-make?ref=ending_soon\" target=\"\">Positive TV pilot show: Magic is Something You Make</a></h6> <p class=\"project-byline\">Rokas Bernatonis</p>\n",
        "<p class=\"project-blurb\">\n",
        "It's not only positive videos that will make people smile around the world. It will prove that everyone can be heroes of their lives!\n",
        "</p>\n",
        "</div>\n",
        "<div class=\"project-card-footer\">\n",
        "<div class=\"project-location\">\n",
        "<a data-location='{\"id\":44418,\"name\":\"London\",\"slug\":\"london-gb\",\"short_name\":\"London, UK\",\"displayable_name\":\"London, UK\",\"country\":\"GB\",\"state\":\"England\",\"type\":\"Town\",\"is_root\":false,\"urls\":{\"web\":{\"discover\":\"https://www.kickstarter.com/discover/places/london-gb\",\"location\":\"https://www.kickstarter.com/locations/london-gb\"},\"api\":{\"nearby_projects\":\"https://api.kickstarter.com/v1/discover?signature=1430035444.c6ed43991cc95cca7d1fdbaeca037ebd9b565475&amp;woe_id=44418\"}}}' href=\"/discover/places/london-gb?ref=city\" target=\"\">\n",
        "<span aria-hidden=\"true\" class=\"ksr-icon__location\"></span>\n",
        "<span class=\"location-name\">London, UK</span>\n",
        "</a>\n",
        "</div>\n",
        "<div class=\"project-stats-container\">\n",
        "<div class=\"project-pledged-successful\">\n",
        "<strong>Successfully funded!</strong>\n",
        "</div>\n",
        "<div class=\"project-progress-bar\">\n",
        "<div class=\"project-percent-pledged\" style=\"width: 100%\"></div>\n",
        "</div>\n",
        "<ul class=\"project-stats\">\n",
        "<li>\n",
        "<div class=\"project-stats-value\">106%</div> <span class=\"project-stats-label\">funded</span>\n",
        "</li>\n",
        "<li>\n",
        "<div class=\"project-stats-value\"><span class=\"money usd no-code\">$4,607</span></div> <span class=\"project-stats-label\">pledged</span>\n",
        "</li>\n",
        "<li style=\"display: none;\">\n",
        "<div class=\"project-stats-value\">Funded</div>\n",
        "<span class=\"project-stats-label\">\n",
        "</span>\n",
        "</li>\n",
        "<li class=\"ksr_page_timer\" data-end_time=\"2015-04-25T04:16:34-04:00\">\n",
        "<div class=\"project-stats-value\">\n",
        "<div class=\"num\">\u00a0</div>\n",
        "</div>\n",
        "<div class=\"project-stats-label text\" data-word=\"left\">\u00a0</div>\n",
        "</li>\n",
        "</ul>\n",
        "</div>\n",
        "</div>\n",
        "</div>"
       ]
      }
     ],
     "prompt_number": 9
    },
    {
     "cell_type": "markdown",
     "metadata": {},
     "source": [
      "We are now in a position to exploit the hierarchical structure of the above HTML tag using BeautifulSoup functionality and get our data (finally!).\n",
      "\n",
      "Below is a function that with iterates over every element of <b>`projects</b> and returns a dictionary of information.  It uses BeautifulSoup4 functionality to extract data from nested tags. I strongly recommend that you study from <a href = \"http://www.crummy.com/software/BeautifulSoup/bs4/doc/#navigating-the-tree\"> BeautifulSoup's Documentation </a> different ways of searching for an extracting information from withon HTML tags."
     ]
    },
    {
     "cell_type": "code",
     "collapsed": false,
     "input": [
      "import json\n",
      "\n",
      "def scrape_blurb(project):\n",
      "    project_head = dict()\n",
      "    #URLs are generally stored as relative URLs so we will prefix the name of the main websote to every url scraped \n",
      "    url_prefix = \"https://www.kickstarter.com/\"\n",
      "    \n",
      "    project_head[\"pname\"] = project(\"a\")[1].string\n",
      "    project_head[\"author\"] = project.find_all(\"p\")[0].string\n",
      "    project_head[\"blurb\"] = project.find_all(\"p\")[1].string\n",
      "    project_head[\"url\"] = url_prefix + project(\"a\")[1][\"href\"]\n",
      "    \n",
      "    loc_dict = json.loads(project(\"a\")[2].get('data-location'))\n",
      "    \n",
      "    project_head[\"town\"] = loc_dict[\"name\"]\n",
      "    project_head[\"state\"] = loc_dict[\"state\"]\n",
      "    project_head[\"country\"] = loc_dict[\"country\"]\n",
      "    \n",
      "    return(project_head)\n",
      "\n",
      "        "
     ],
     "language": "python",
     "metadata": {},
     "outputs": [],
     "prompt_number": 16
    },
    {
     "cell_type": "markdown",
     "metadata": {},
     "source": [
      "Having defined the function we use a list comprehension to iterate over the bs4 variable `projects` and return a list of dicts where every dict has kickstarter projects information."
     ]
    },
    {
     "cell_type": "code",
     "collapsed": false,
     "input": [
      "project_meta = [scrape_blurb(project) for project in projects]"
     ],
     "language": "python",
     "metadata": {},
     "outputs": [],
     "prompt_number": 17
    },
    {
     "cell_type": "markdown",
     "metadata": {},
     "source": [
      "A sample of the dict that is created for each project is as follows:"
     ]
    },
    {
     "cell_type": "code",
     "collapsed": false,
     "input": [
      "project_meta[0]"
     ],
     "language": "python",
     "metadata": {},
     "outputs": [
      {
       "metadata": {},
       "output_type": "pyout",
       "prompt_number": 18,
       "text": [
        "{'author': u'Rokas Bernatonis',\n",
        " 'blurb': u\"\\nIt's not only positive videos that will make people smile around the world. It will prove that everyone can be heroes of their lives!\\n\",\n",
        " 'country': u'GB',\n",
        " 'pname': u'Positive TV pilot show: Magic is Something You Make',\n",
        " 'state': u'England',\n",
        " 'town': u'London',\n",
        " 'url': 'https://www.kickstarter.com//projects/rokas/positive-tv-pilot-show-magic-is-something-you-make?ref=ending_soon'}"
       ]
      }
     ],
     "prompt_number": 18
    },
    {
     "cell_type": "markdown",
     "metadata": {},
     "source": [
      "Finally, we'll write our list as a json object so that it can be used for further processing as and when necessary."
     ]
    },
    {
     "cell_type": "code",
     "collapsed": false,
     "input": [
      "project_meta_json = json.dumps(obj = project_meta, indent = 4)\n",
      "fd = open(\"./data/project_meta.json\", \"w\")\n",
      "fd.write(project_meta_json)\n",
      "fd.close()\n",
      "\n",
      "project_meta_json"
     ],
     "language": "python",
     "metadata": {},
     "outputs": [
      {
       "metadata": {},
       "output_type": "pyout",
       "prompt_number": 20,
       "text": [
        "'[\\n    {\\n        \"town\": \"London\", \\n        \"author\": \"Rokas Bernatonis\", \\n        \"url\": \"https://www.kickstarter.com//projects/rokas/positive-tv-pilot-show-magic-is-something-you-make?ref=ending_soon\", \\n        \"country\": \"GB\", \\n        \"state\": \"England\", \\n        \"pname\": \"Positive TV pilot show: Magic is Something You Make\", \\n        \"blurb\": \"\\\\nIt\\'s not only positive videos that will make people smile around the world. It will prove that everyone can be heroes of their lives!\\\\n\"\\n    }, \\n    {\\n        \"town\": \"Brisbane\", \\n        \"author\": \"Mathew Coombes\", \\n        \"url\": \"https://www.kickstarter.com//projects/1249731504/war-in-the-pacific-28mm-wwii-snlf-and-ija?ref=ending_soon\", \\n        \"country\": \"AU\", \\n        \"state\": \"QLD\", \\n        \"pname\": \"War In The Pacific: 28mm WWII SNLF & IJA.\", \\n        \"blurb\": \"\\\\nThis range of 28mm Miniatures will depict the Imperial Japanese Army and their Naval counterparts the Special Naval Landing Force.\\\\n\"\\n    }, \\n    {\\n        \"town\": \"Oslo\", \\n        \"author\": \"Jonathan\", \\n        \"url\": \"https://www.kickstarter.com//projects/1989154008/not-the-birds?ref=ending_soon\", \\n        \"country\": \"NO\", \\n        \"state\": \"Oslo Fylke\", \\n        \"pname\": \"Not The Birds!\", \\n        \"blurb\": \"\\\\n2D Jumper! You have to jump the highest without hitting the birds that are in your way! This will be Free To Play on Android/iDevices.\\\\n\"\\n    }, \\n    {\\n        \"town\": \"Sylvania\", \\n        \"author\": \"Jamie Post\", \\n        \"url\": \"https://www.kickstarter.com//projects/farmingforkids/farming-camps-for-families?ref=ending_soon\", \\n        \"country\": \"US\", \\n        \"state\": \"AL\", \\n        \"pname\": \"Farming Camps for Families\", \\n        \"blurb\": \"\\\\nMy children and I decided to start a camp, where families can come learn the basics of farming and self sufficiency together.\\\\n\"\\n    }, \\n    {\\n        \"town\": \"Edinburgh\", \\n        \"author\": \"Kieran Mellish\", \\n        \"url\": \"https://www.kickstarter.com//projects/1153830326/time-at-the-bar-the-road-to-edinburgh?ref=ending_soon\", \\n        \"country\": \"GB\", \\n        \"state\": \"Scotland\", \\n        \"pname\": \"Time at the Bar! The road to Edinburgh\", \\n        \"blurb\": \"\\\\nFollowing a sell-out run in Loughborough, Time at the Bar! is heading to this year\\'s Fringe Festival... But we need your help!\\\\n\"\\n    }, \\n    {\\n        \"town\": \"Rotterdam\", \\n        \"author\": \"Wasim El-Ghabi\", \\n        \"url\": \"https://www.kickstarter.com//projects/1349078865/affinity-bracelets-handmade-luxurious-bracelets?ref=ending_soon\", \\n        \"country\": \"NL\", \\n        \"state\": \"South Holland\", \\n        \"pname\": \"Affinity Bracelets: Handmade luxurious bracelets\", \\n        \"blurb\": \"\\\\nAffinity Jewerly is a starting company based in Rotterdam, The Netherlands.\\\\nWe make hand made bracelets with a unique design.\\\\n\"\\n    }, \\n    {\\n        \"town\": \"London\", \\n        \"author\": \"Andrew Wright\", \\n        \"url\": \"https://www.kickstarter.com//projects/846342873/friendly-street-mag?ref=ending_soon\", \\n        \"country\": \"GB\", \\n        \"state\": \"England\", \\n        \"pname\": \"Friendly Street Mag\", \\n        \"blurb\": \"\\\\nWe want to create a photography magazine featuring residents of Friendly Street in London to improve the community spirit.\\\\n\"\\n    }, \\n    {\\n        \"town\": \"Glastonbury\", \\n        \"author\": \"Samantha Morgan Bertish\", \\n        \"url\": \"https://www.kickstarter.com//projects/1511620017/winter-2015-range-by-zuma-the-dog?ref=ending_soon\", \\n        \"country\": \"GB\", \\n        \"state\": \"England\", \\n        \"pname\": \"Children\\'s Brand Zuma the Dog\", \\n        \"blurb\": \"\\\\nFun & unique kids lifestyle brand is on a mission to bring our awesome range to fabulous kids worldwide in time for winter 2015.\\\\n\"\\n    }, \\n    {\\n        \"town\": \"Ballydehob\", \\n        \"author\": \"John Fagan\", \\n        \"url\": \"https://www.kickstarter.com//projects/2120987651/eireco-740-wood-burning-rocket-stove?ref=ending_soon\", \\n        \"country\": \"IE\", \\n        \"state\": \"Cork\", \\n        \"pname\": \"EirEco 740 Wood Burning Rocket Stove\", \\n        \"blurb\": \"\\\\nThe EirEco Stove is a patent pending super-efficient next generation rocket stove, with 89.5% efficiency @ 0.16% carbon emissions\\\\n\"\\n    }, \\n    {\\n        \"town\": \"Jackson\", \\n        \"author\": \"Dominique Moore\", \\n        \"url\": \"https://www.kickstarter.com//projects/unseens/unseens?ref=ending_soon\", \\n        \"country\": \"US\", \\n        \"state\": \"MS\", \\n        \"pname\": \"Unseens\", \\n        \"blurb\": \"\\\\nBringing a truly unique ultra reality experience, that you won\\'t forget\\\\n\"\\n    }, \\n    {\\n        \"town\": \"London\", \\n        \"author\": \"John Soho\", \\n        \"url\": \"https://www.kickstarter.com//projects/280990770/dino-light-a-new-kind-of-modern-lamp?ref=ending_soon\", \\n        \"country\": \"GB\", \\n        \"state\": \"England\", \\n        \"pname\": \"DINO LIGHT - A new kind of modern lamp\", \\n        \"blurb\": \"\\\\nMade from translucent acrylic with stunning light-reflecting characteristics, Dino Light takes the shape of a dinosaur\\'s skeleton.\\\\n\"\\n    }, \\n    {\\n        \"town\": \"Atlanta\", \\n        \"author\": \"Kory Jordan\", \\n        \"url\": \"https://www.kickstarter.com//projects/783310886/touchy-feely-0?ref=ending_soon\", \\n        \"country\": \"US\", \\n        \"state\": \"GA\", \\n        \"pname\": \"Touchy Feely\", \\n        \"blurb\": \"\\\\nThe worlds first lights out party game. Go against friends by completing tasks to earn points, all in the dark. The darker, the better.\\\\n\"\\n    }, \\n    {\\n        \"town\": \"Wicklow\", \\n        \"author\": \"Colette Anne\", \\n        \"url\": \"https://www.kickstarter.com//projects/1548749456/little-chief?ref=ending_soon\", \\n        \"country\": \"IE\", \\n        \"state\": \"Wicklow\", \\n        \"pname\": \"Little Chief\", \\n        \"blurb\": \"\\\\nLittle chief is a book about a child who needs to adapt quickly to new circumstances. Aimed at children to help problem solving.\\\\n\"\\n    }, \\n    {\\n        \"town\": \"Falmouth\", \\n        \"author\": \"Chris Guggiari-Peel and Jono Gilbert\", \\n        \"url\": \"https://www.kickstarter.com//projects/471369717/the-adventures-of-preston?ref=ending_soon\", \\n        \"country\": \"GB\", \\n        \"state\": \"England\", \\n        \"pname\": \"The Adventures of Preston\", \\n        \"blurb\": \"\\\\nPreston is a lonely penguin, who needs to find a friend. He goes on many adventures in search of his long lost brethren.\\\\n\"\\n    }, \\n    {\\n        \"town\": \"Palo Alto\", \\n        \"author\": \"Jolt Team\", \\n        \"url\": \"https://www.kickstarter.com//projects/joltteam/brik-case?ref=ending_soon\", \\n        \"country\": \"US\", \\n        \"state\": \"CA\", \\n        \"pname\": \"Brik Case\", \\n        \"blurb\": \"\\\\nBrik Case is the World\\'s most customizable laptop case. Build, collaborate and express yourself!\\\\n\"\\n    }, \\n    {\\n        \"town\": \"Orlando\", \\n        \"author\": \"Chris Tice\", \\n        \"url\": \"https://www.kickstarter.com//projects/1373687375/diy-unpinned-an-ebook-for-tomorrows-do-it-yourself?ref=ending_soon\", \\n        \"country\": \"US\", \\n        \"state\": \"FL\", \\n        \"pname\": \"DIY Unpinned: An Ebook for Tomorrow\\'s Do It Yourselfer.\", \\n        \"blurb\": \"\\\\nPhase one is the ebook/app build. This adaptable application will change the way ebooks are created and distributed!\\\\n\"\\n    }, \\n    {\\n        \"town\": \"Timr\\\\u00e5\", \\n        \"author\": \"Milla Cederholm\", \\n        \"url\": \"https://www.kickstarter.com//projects/313881378/ba-rock?ref=ending_soon\", \\n        \"country\": \"SE\", \\n        \"state\": \"Vasternorrland\", \\n        \"pname\": \"Ba\\\\u00b4rock\", \\n        \"blurb\": \"\\\\nEtt musikarrangemang som \\\\u00e4r ett samarbete mellan, pension\\\\u00e4r, barn och vuxen.\\\\n\"\\n    }, \\n    {\\n        \"town\": \"Cheshire\", \\n        \"author\": \"Unit Bodybuiding\", \\n        \"url\": \"https://www.kickstarter.com//projects/1056194623/unit-bodybuilding-apparel?ref=ending_soon\", \\n        \"country\": \"GB\", \\n        \"state\": \"England\", \\n        \"pname\": \"Unit Bodybuilding Apparel\", \\n        \"blurb\": \"\\\\nI am creating a new fitness clothing range to bring style and trend to the bodybuilding and fitness world.\\\\n\"\\n    }, \\n    {\\n        \"town\": \"North Vancouver\", \\n        \"author\": \"Kenn and Darcey Buxton\", \\n        \"url\": \"https://www.kickstarter.com//projects/692063656/odii-the-ultimate-grab-it-gadget?ref=ending_soon\", \\n        \"country\": \"CA\", \\n        \"state\": \"BC\", \\n        \"pname\": \"ODii- The Ultimate Grab-it Gadget\", \\n        \"blurb\": \"\\\\nNever lose anything under your car seat again! You drop it, ODii can fetch it. The first and only multi-functional retrieval gadget.\\\\n\"\\n    }, \\n    {\\n        \"town\": \"Oakville\", \\n        \"author\": \"Michael Willems\", \\n        \"url\": \"https://www.kickstarter.com//projects/1117812792/the-ultimate-checklist-booklet-for-photographers?ref=ending_soon\", \\n        \"country\": \"CA\", \\n        \"state\": \"MB\", \\n        \"pname\": \"The ultimate checklist book for photographers.\", \\n        \"blurb\": \"\\\\nLists, summaries, best practices, rules of thumb, and guidelines: all my photography knowledge summarized in a 100 page printed book.\\\\n\"\\n    }\\n]'"
       ]
      }
     ],
     "prompt_number": 20
    },
    {
     "cell_type": "code",
     "collapsed": false,
     "input": [],
     "language": "python",
     "metadata": {},
     "outputs": []
    }
   ],
   "metadata": {}
  }
 ]
}