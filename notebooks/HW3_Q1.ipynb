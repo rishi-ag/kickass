{
 "cells": [
  {
   "cell_type": "code",
   "execution_count": 14,
   "metadata": {
    "collapsed": false
   },
   "outputs": [],
   "source": [
    "import kickass as ks\n",
    "%matplotlib inline"
   ]
  },
  {
   "cell_type": "code",
   "execution_count": 3,
   "metadata": {
    "collapsed": true
   },
   "outputs": [],
   "source": [
    "import json\n",
    "fd = open(\"../data/project_successful_final_tech_sample.json\", \"r\")\n",
    "\n",
    "project_json = json.load(fd)"
   ]
  },
  {
   "cell_type": "code",
   "execution_count": 4,
   "metadata": {
    "collapsed": true
   },
   "outputs": [],
   "source": [
    "ks_projects = ks.ProjectCollection(project_json, \"../data/stopwords.txt\")"
   ]
  },
  {
   "cell_type": "code",
   "execution_count": 5,
   "metadata": {
    "collapsed": true
   },
   "outputs": [],
   "source": [
    "#Cleaning documents---tokenizing words, removing stopwords, and stemming\n",
    "ks_projects.clean_docs(2)\n"
   ]
  },
  {
   "cell_type": "code",
   "execution_count": 6,
   "metadata": {
    "collapsed": true
   },
   "outputs": [],
   "source": [
    "doc1 = ks_projects.docs[0]"
   ]
  },
  {
   "cell_type": "code",
   "execution_count": 7,
   "metadata": {
    "collapsed": false,
    "scrolled": true
   },
   "outputs": [],
   "source": [
    "doc_term = ks_projects.doc_term_dict()"
   ]
  },
  {
   "cell_type": "code",
   "execution_count": 8,
   "metadata": {
    "collapsed": false,
    "scrolled": false
   },
   "outputs": [],
   "source": [
    "docs_id = []\n",
    "docs_tfidf = []\n",
    "for key, value in doc_term.items():\n",
    "    docs_id.append(key)\n",
    "    docs_tfidf.append(value)\n",
    "    "
   ]
  },
  {
   "cell_type": "code",
   "execution_count": 9,
   "metadata": {
    "collapsed": false,
    "scrolled": true
   },
   "outputs": [],
   "source": [
    "D, S, T = ks.np.linalg.svd(ks.np.array(docs_tfidf))"
   ]
  },
  {
   "cell_type": "code",
   "execution_count": 10,
   "metadata": {
    "collapsed": false
   },
   "outputs": [],
   "source": [
    "var = ks.np.cumsum(S ** 2) / sum(S ** 2)"
   ]
  },
  {
   "cell_type": "code",
   "execution_count": 11,
   "metadata": {
    "collapsed": false
   },
   "outputs": [
    {
     "data": {
      "text/plain": [
       "array([ 0.0670923 ,  0.11672443,  0.16214823,  0.20494471,  0.24077748,\n",
       "        0.27424869,  0.29964341,  0.32425092,  0.34754561,  0.3688215 ,\n",
       "        0.3886763 ,  0.40784506,  0.42597565,  0.44341016,  0.46009219,\n",
       "        0.47647861,  0.49218665,  0.5074558 ,  0.52234975,  0.53705263,\n",
       "        0.55154956,  0.56519559,  0.57839155,  0.59150329,  0.60414098,\n",
       "        0.61659496,  0.62872535,  0.64037612,  0.65188305,  0.663132  ,\n",
       "        0.67398339,  0.68458457,  0.69481884,  0.70464118,  0.71430571,\n",
       "        0.7237974 ,  0.732889  ,  0.74189656,  0.75084673,  0.75947607,\n",
       "        0.76798708,  0.77633181,  0.78454351,  0.79225179,  0.79970087,\n",
       "        0.80674587,  0.81362369,  0.82018723,  0.82658543,  0.83258157,\n",
       "        0.83843343,  0.84418557,  0.84982186,  0.85535218,  0.86080091,\n",
       "        0.86607459,  0.87125456,  0.87632704,  0.88132232,  0.88610018,\n",
       "        0.89080034,  0.89537087,  0.89986224,  0.90426678,  0.90851964,\n",
       "        0.91272322,  0.91684602,  0.92087106,  0.92487244,  0.92886887,\n",
       "        0.93255932,  0.93617276,  0.93971379,  0.94320811,  0.94666039,\n",
       "        0.94999612,  0.95324771,  0.95641241,  0.95953864,  0.96250755,\n",
       "        0.96538267,  0.96820423,  0.97097222,  0.97363097,  0.97607358,\n",
       "        0.9784767 ,  0.98075096,  0.98293982,  0.98507442,  0.98699991,\n",
       "        0.98891546,  0.99080009,  0.99261795,  0.99433694,  0.99597808,\n",
       "        0.99742861,  0.9982721 ,  0.99906564,  0.99981953,  1.        ])"
      ]
     },
     "execution_count": 11,
     "metadata": {},
     "output_type": "execute_result"
    }
   ],
   "source": [
    "var"
   ]
  },
  {
   "cell_type": "code",
   "execution_count": 26,
   "metadata": {
    "collapsed": false
   },
   "outputs": [
    {
     "data": {
      "image/png": "[encoded data removed]",
      "text/plain": [
       "<matplotlib.figure.Figure at 0x7f9bbd129c90>"
      ]
     },
     "metadata": {},
     "output_type": "display_data"
    }
   ],
   "source": [
    "import matplotlib.pyplot as plt\n",
    "import scipy as sc \n",
    "plt.plot(var)\n",
    "plt.ylabel('some numbers')\n",
    "#for i in sc.arange(0,1, 0.2):\n",
    "#    plt.axhline(y= i, color = \"black\", )\n",
    "plt.grid(True)\n",
    "plt.show()\n"
   ]
  }
 ],
 "metadata": {
  "kernelspec": {
   "display_name": "Python 2",
   "language": "python",
   "name": "python2"
  },
  "language_info": {
   "codemirror_mode": {
    "name": "ipython",
    "version": 2
   },
   "file_extension": ".py",
   "mimetype": "text/x-python",
   "name": "python",
   "nbconvert_exporter": "python",
   "pygments_lexer": "ipython2",
   "version": "2.7.6"
  }
 },
 "nbformat": 4,
 "nbformat_minor": 0
}
