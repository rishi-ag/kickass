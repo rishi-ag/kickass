{
 "cells": [
  {
   "cell_type": "code",
   "execution_count": 15,
   "metadata": {
    "collapsed": false
   },
   "outputs": [],
   "source": [
    "import re\n",
    "import json\n",
    "\n",
    "def gen_file_name(category):\n",
    "    return \"../data/project_successful_details_\"+category+\"_sample.json\"\n"
   ]
  },
  {
   "cell_type": "code",
   "execution_count": 30,
   "metadata": {
    "collapsed": false
   },
   "outputs": [],
   "source": [
    "categories = ['art', 'crafts','design', 'photography' ]\n",
    "for cat in categories:\n",
    "    \n",
    "    file = gen_file_name(cat)\n",
    "    \n",
    "    fd = open(file, \"r\")\n",
    "    project_json = json.load(fd)\n",
    "    \n",
    "    \n",
    "    for project in project_json:\n",
    "        project[\"full_description\"] = re.sub(r'\\n+', \" \", project[\"full_description\"])\n",
    "        project[\"full_description\"] = re.sub(r'\\u00a0+', \" \", project[\"full_description\"])\n",
    "        project[\"full_description\"] = re.sub(r'\\\"+', \" \", project[\"full_description\"])\n",
    "        project[\"full_description\"] = re.sub(r'\\u2019+', \" \", project[\"full_description\"])\n",
    "        project[\"risk\"] = re.sub(r'\\n+', \" \", project[\"risk\"][0])\n",
    "        project[\"risk\"] = re.sub(r'\\u00a0+', \" \", project[\"risk\"][0])\n",
    "        project[\"risk\"] = re.sub(r'\\\"+', \" \", project[\"risk\"][0])\n",
    "        project[\"risk\"] = re.sub(r'\\u2019+', \" \", project[\"risk\"][0])\n",
    "        \n",
    "    fd.close()\n",
    "    #Save data to file for further use\n",
    "    project_details_json = json.dumps(obj = project_json, indent = 4)\n",
    "    #File to look at for sample data\n",
    "    fd = open(file, \"w\")\n",
    "    fd.write(project_details_json)\n",
    "    fd.close()\n",
    "    \n",
    "    "
   ]
  },
  {
   "cell_type": "code",
   "execution_count": 23,
   "metadata": {
    "collapsed": false
   },
   "outputs": [],
   "source": [
    "categories = ['art']\n",
    "for cat in categories:\n",
    "    \n",
    "    file = gen_file_name(cat)\n",
    "    \n",
    "    fd = open(file, \"r\")\n",
    "    project_json = json.load(fd)\n",
    " \n",
    "    \n",
    "    for project in project_json:\n",
    "        project[\"full_description\"] = re.sub(r'\\n+', \" \", project[\"full_description\"])\n",
    "        project[\"risk\"] = re.sub(r'\\n+', \" \", project[\"risk\"][0])\n",
    "    \n",
    "    "
   ]
  },
  {
   "cell_type": "code",
   "execution_count": 25,
   "metadata": {
    "collapsed": false
   },
   "outputs": [
    {
     "data": {
      "text/plain": [
       "1020"
      ]
     },
     "execution_count": 25,
     "metadata": {},
     "output_type": "execute_result"
    }
   ],
   "source": []
  }
 ],
 "metadata": {
  "kernelspec": {
   "display_name": "Python 3",
   "language": "python",
   "name": "python3"
  },
  "language_info": {
   "codemirror_mode": {
    "name": "ipython",
    "version": 3
   },
   "file_extension": ".py",
   "mimetype": "text/x-python",
   "name": "python",
   "nbconvert_exporter": "python",
   "pygments_lexer": "ipython3",
   "version": "3.4.0"
  }
 },
 "nbformat": 4,
 "nbformat_minor": 0
}
