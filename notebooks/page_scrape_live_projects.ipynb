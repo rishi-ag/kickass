{
 "cells": [
  {
   "cell_type": "code",
   "execution_count": 2,
   "metadata": {
    "collapsed": false
   },
   "outputs": [],
   "source": [
    "from bs4 import BeautifulSoup\n",
    "import urllib\n",
    "import re\n",
    "#general format is https://www.kickstarter.com/projects/creatorname/campaignname/description\n",
    "r = urllib.urlopen('https://www.kickstarter.com/projects/802159142/nuimo-seamless-smart-home-interface?ref=discover_potd')\n",
    "soup = BeautifulSoup(r)\n"
   ]
  },
  {
   "cell_type": "code",
   "execution_count": 3,
   "metadata": {
    "collapsed": false
   },
   "outputs": [
    {
     "data": {
      "text/plain": [
       "'Nuimo: Seamless Smart Home Interface'"
      ]
     },
     "execution_count": 3,
     "metadata": {},
     "output_type": "execute_result"
    }
   ],
   "source": [
    "title= soup.find_all(\"meta\", property=\"og:title\")[0].get(\"content\")\n",
    "title"
   ]
  },
  {
   "cell_type": "code",
   "execution_count": 3,
   "metadata": {
    "collapsed": false
   },
   "outputs": [
    {
     "data": {
      "text/plain": [
       "'ENVELOP is a 3D sound platform that is creating a space in San Francisco for live electronic music, DJ sets and educational workshops.'"
      ]
     },
     "execution_count": 3,
     "metadata": {},
     "output_type": "execute_result"
    }
   ],
   "source": [
    "\n",
    "blurb=soup.find_all(property=re.compile(\"og:description\"))[0].get(\"content\")\n",
    "blurb"
   ]
  },
  {
   "cell_type": "code",
   "execution_count": 4,
   "metadata": {
    "collapsed": false
   },
   "outputs": [
    {
     "data": {
      "text/plain": [
       "'https://www.kickstarter.com/profile/envelop'"
      ]
     },
     "execution_count": 4,
     "metadata": {},
     "output_type": "execute_result"
    }
   ],
   "source": [
    "creator_url=soup.find_all(property=re.compile(\"kickstarter:creator\"))[0].get(\"content\")\n",
    "creator_url"
   ]
  },
  {
   "cell_type": "code",
   "execution_count": 50,
   "metadata": {
    "collapsed": false
   },
   "outputs": [
    {
     "name": "stdout",
     "output_type": "stream",
     "text": [
      "285\n"
     ]
    }
   ],
   "source": [
    "\n",
    "a=soup.find_all(\"div\", class_=\"num h1 bold\")[0]\n",
    "no_backers=a.contents[0].string\n",
    "print no_backers"
   ]
  },
  {
   "cell_type": "code",
   "execution_count": 107,
   "metadata": {
    "collapsed": false
   },
   "outputs": [
    {
     "data": {
      "text/plain": [
       "'27333.0'"
      ]
     },
     "execution_count": 107,
     "metadata": {},
     "output_type": "execute_result"
    }
   ],
   "source": [
    "#reg = re.compile(\"\\d.*\",flags=re.U)\n",
    "#goal=reg.findall(ist(soup.find_all(\"span\", class_=\"money usd no-code\")[2])[0].string)\n",
    "goal= soup.find_all(\"div\", class_=\"num h1 bold nowrap\")[0].get(\"data-goal\")\n",
    "goal"
   ]
  },
  {
   "cell_type": "code",
   "execution_count": 112,
   "metadata": {
    "collapsed": false
   },
   "outputs": [
    {
     "data": {
      "text/plain": [
       "'29303.0'"
      ]
     },
     "execution_count": 112,
     "metadata": {},
     "output_type": "execute_result"
    }
   ],
   "source": [
    "#no_dollars_raised=list(soup(\"div\", class_=\"NS_projects__stats\")[0])[3].string\n",
    "#no_dollars_raised\n",
    "no_dollars_raised= soup.find_all(\"div\", class_=\"num h1 bold nowrap\")[0].get(\"data-pledged\")\n",
    "no_dollars_raised"
   ]
  },
  {
   "cell_type": "code",
   "execution_count": 161,
   "metadata": {
    "collapsed": false
   },
   "outputs": [
    {
     "name": "stdout",
     "output_type": "stream",
     "text": [
      "33.0\n",
      "381.7912868479888\n"
     ]
    }
   ],
   "source": [
    "#length of campaign\n",
    "x=[item.get(\"data-duration\")  for item in soup.find_all(\"span\") ]\n",
    "campaign_duration=[item for item in x if item is not None][0]\n",
    "y=[item.get(\"data-hours-remaining\")  for item in soup.find_all(\"span\") ]\n",
    "campaign_hours_remaining=[item for item in y if item is not None][0]\n",
    "print campaign_duration\n",
    "print campaign_hours_remaining"
   ]
  },
  {
   "cell_type": "code",
   "execution_count": 52,
   "metadata": {
    "collapsed": false
   },
   "outputs": [],
   "source": [
    "def something(b):\n",
    "    try:\n",
    "        a = 10 / b\n",
    "    except:\n",
    "        a = None\n",
    "    return(a)\n",
    "\n",
    "something(0)"
   ]
  },
  {
   "cell_type": "code",
   "execution_count": 347,
   "metadata": {
    "collapsed": false
   },
   "outputs": [
    {
     "data": {
      "text/plain": [
       "u'Limited (67 left of 75)'"
      ]
     },
     "execution_count": 347,
     "metadata": {},
     "output_type": "execute_result"
    }
   ],
   "source": [
    "\n",
    "b=list(set(list(soup.find_all(class_=\"NS_backer_rewards__reward p2\"))))\n",
    "\n",
    "\n",
    "#item(\"span\", class_=\"limited-number\")[0].get_text()\n",
    "#[item(\"span\", class_=\"limited-number\")[0].get_text() for item in b]\n",
    "limited = []\n",
    "for item in b: \n",
    "    try:\n",
    "        limited.append(item(\"span\", class_=\"limited-number\")[0].get_text())\n",
    "    except:\n",
    "        limited.append(None)\n",
    "        \n",
    "limited[0]"
   ]
  },
  {
   "cell_type": "code",
   "execution_count": 348,
   "metadata": {
    "collapsed": false
   },
   "outputs": [
    {
     "name": "stdout",
     "output_type": "stream",
     "text": [
      "8 backers\n",
      "[u'25']\n",
      "Single-ticket voucher to and ENVELOP event1 ticket promo code voucher valid for ENVELOP-produced events and performances. This voucher can be used in lieu of payment for a single event ticket. Not valid for special events or 3rd party productions. (Our events will be awesome.)\n"
     ]
    }
   ],
   "source": [
    "#Rewards\n",
    "backer_list = [backers(\"span\", class_=\"num-backers mr1\")[0].get_text().replace(\"\\n\",\"\") for backers in b]\n",
    "reward_item_list = list([item(\"div\",class_=\"desc h5 mb2 break-word\")[0].get_text().replace(\"\\n\",\"\") for item in b])\n",
    "reg = re.compile(\"\\d+\",flags=re.U)\n",
    "reward_value_list=[reg.findall(item(\"h5\",class_=\"mb1\")[0].span.get_text().replace(\",\",\"\")) for item in b]\n",
    "\n",
    "print backer_list[0]\n",
    "print reward_value_list[0]\n",
    "print reward_item_list[0]"
   ]
  },
  {
   "cell_type": "code",
   "execution_count": 345,
   "metadata": {
    "collapsed": false
   },
   "outputs": [
    {
     "data": {
      "text/plain": [
       "([u'25'],\n",
       " u'8 backers',\n",
       " u'Single-ticket voucher to and ENVELOP event1 ticket promo code voucher valid for ENVELOP-produced events and performances. This voucher can be used in lieu of payment for a single event ticket. Not valid for special events or 3rd party productions. (Our events will be awesome.)',\n",
       " u'Limited (67 left of 75)')"
      ]
     },
     "execution_count": 345,
     "metadata": {},
     "output_type": "execute_result"
    }
   ],
   "source": [
    "reward_backer_tup = (zip(reward_value_list, backer_list,reward_item_list, limited))\n",
    "reward_backer_tup[0]"
   ]
  },
  {
   "cell_type": "code",
   "execution_count": 5,
   "metadata": {
    "collapsed": false
   },
   "outputs": [
    {
     "data": {
      "text/plain": [
       "[<p>Nuimo is an intuitive and natural way to interact with your connected devices. Nuimo works with any bluetooth device or application including Sonos and Philips Hue. </p>,\n",
       " <p>Nuimo is a freely programmable controller and wireless so you can take it anywhere. Using the nuimo you can control all of your devices through our simple and seamless physical controller.</p>,\n",
       " <p>Unlike the touch screen, nuimo has a number of touch based inputs that feel familiar and suit your needs. It incorporates capacitive touch, gesture recognition and a 360 degree analog ring that gives you precise control over everything from the volume of your music to switching off your lights. These inputs are easily mappable to the devices and applications you care about most. </p>,\n",
       " <p> The LED matrix on the face of the device lets you change apps quickly or event display a timer app in the kitchen. </p>,\n",
       " <p>We have built 30+ integrations for nuimo and with our community of developers, that number is growing rapidly. Don't see the integration you're looking for? We are working hard to prioritize building the most-suggested integrations from our community to give nuimo even greater versatility.</p>,\n",
       " <p>Nuimo is built on an open platform. This means that developers will be able to create even more integration with your favorite apps and smart devices over time. </p>,\n",
       " <p>Nuimo can connect to anything that uses Bluetooth Low Energy, this includes your computer and most connected devices. No additional hardware is required to connect to your smart devices. </p>,\n",
       " <p>Setup is simple through a smartphone or computer - simply load on the applications you want for nuimo and adjust the controls to suit your needs. Once setup is complete you can switch through apps you're using right on the face of the device. </p>,\n",
       " <p>Nuimo is wireless so it can go with you. It was designed to be beautiful and not only act as a seamless interface for technology but fit seamlessly into your home among your most treasured objects.  </p>,\n",
       " <p>Our team has been working for over a year in prototyping, creating dozens of versions of the design. We are now ready to begin manufacturing right here in Germany. </p>,\n",
       " <p> We have our suppliers, manufacturing partners and distributors waiting for the final order to go into production with support from our backers for highest quality materials and certifications. </p>,\n",
       " <p>We care about local manufacturing because it allows us to make better products. Because of our proximity to our manufacturing partners we can prototype faster and deliver sooner. At our headquarters in Berlin, we are surrounded by some of the best engineering and manufacturing in the world - that is why we have decided to make our entire product 100% in Germany.</p>,\n",
       " <p>We started our company as a group of friends looking to solve a problem that we had ourselves - how we could use the technology we loved in our homes, but get away from the screens of our computers and phones. We spent over a year thinking of ways we could put the user back at the center of the smart home and our first solution in a line of products is the nuimo. </p>,\n",
       " <p>In December 2014 we ran a successful crowdfunding campaign on Indiegogo. Thanks to our 2,500+ backers we were able to develop the nuimo hardware much further and build the integrations they care about. We are so excited to release this improved version as a result of their input to both our early supporters at Indiegogo and our growing community of Kickstarter backers. </p>,\n",
       " <p> We believe in the importance of top-quality craftsmanship, good design and great engineering.  Because our team grew up immersed around tools and raw materials with parents that worked as carpenters, engineers and electricians - it only makes sense for us to have direct contact with the manufacturing process</p>,\n",
       " <p>We believe that in 15 years we will look back on the 8+ hours a day that we look at screens and laugh. We want to reinvent the way we interact with technology in 2015 by taking our interfaces beyond the limits of the touch screen and into point where we engage multiple senses intuitively. We believe it is time we let technology work for us seamlessly and bring human interactions back into the foreground. </p>,\n",
       " <p>Nuimo is just the first step toward better designing technology to fit into our lives. We will be expanding our product line to feature smart surfaces and interfaces that reenvision the way we use technology.</p>,\n",
       " <p>Hardware is expensive to create with a small team and limited resources, which is why we need your help. In order to do final certifications for CE and FCC, as well as make sure we use only the highest quality materials we need the support of our backers. </p>,\n",
       " <p>We are committed to keeping our backers up-to-date with our process of manufacturing through campaign updates and our blog. </p>,\n",
       " <p>Without our incredible supporters we wouldn't be able to create products that we care about. We are so happy to be among a community that cares about an exciting future for design and manufacturing. We can't wait to grow that community to an international movement that brings together better interfaces, great hardware and seamless technology to the masses. </p>]"
      ]
     },
     "execution_count": 5,
     "metadata": {},
     "output_type": "execute_result"
    }
   ],
   "source": [
    "full_description=soup(\"div\", class_=\"full-description js-full-description responsive-media formatted-lists\")[0].find_all(\"p\")\n",
    "full_description"
   ]
  },
  {
   "cell_type": "code",
   "execution_count": 350,
   "metadata": {
    "collapsed": false
   },
   "outputs": [
    {
     "data": {
      "text/plain": [
       "[u\"The only main risk is that our launch date might be delayed because we are subject to The Midway's construction schedule (The Midway is the larger complex that the ENVELOP space is a part of). Currently our room is being built, see photo above in the budget section. If there are any construction delays with the room we are installing the system in, our launch date will be delayed as well.\",\n",
       " u'Another challenge is making sure people know that ENVELOP is more than just a venue in San Francisco. It\\u2019s a platform for 3D immersive sound and anyone in the world can benefit from this technology.']"
      ]
     },
     "execution_count": 350,
     "metadata": {},
     "output_type": "execute_result"
    }
   ],
   "source": [
    "c=list(soup(\"div\", class_=\"mb6 mb2\"))\n",
    "r=[item(\"p\") for item in c][0]\n",
    "\n",
    "#Grabbing the risk text section\n",
    "risk=[para.get_text() for para in r]\n",
    "risk"
   ]
  },
  {
   "cell_type": "code",
   "execution_count": 63,
   "metadata": {
    "collapsed": false
   },
   "outputs": [],
   "source": [
    "import urllib2\n",
    "import json"
   ]
  },
  {
   "cell_type": "code",
   "execution_count": 65,
   "metadata": {
    "collapsed": false
   },
   "outputs": [],
   "source": [
    "def get_one_project_det(pid, url, currency):\n",
    "    r = urllib.urlopen(url)\n",
    "    soup = BeautifulSoup(r)\n",
    "    \n",
    "    #the reward values and rewards\n",
    "    b=list(soup.find_all(class_=\"NS_projects__rewards_list js-project-rewards\"))\n",
    "    reward_value_list = [reward.string.split()[0] for reward in b[0](\"h5\",class_=\"mb1\")]\n",
    "    backer_list = [backers.string.split()[0]+' backers' for backers in b[0](\"span\", class_=\"num-backers mr1\")]\n",
    "    reward_item_list = [item(\"p\")[0].get_text() for item in b[0](\"div\",class_=\"desc h5 mb2 break-word\")]\n",
    "    \n",
    "    #removing currency sign from reward value\n",
    "    reg = re.compile(\"\\d.*\",flags=re.U)\n",
    "    reward_value_list = [reg.findall(reward.string.split()[0])[0] for reward in b[0](\"h5\",class_=\"mb1\")]\n",
    "\n",
    "    \n",
    "    \n",
    "    #risk information\n",
    "    c=list(soup(\"div\", class_=\"mb6 mb2\"))\n",
    "    risk=[item(\"p\") for item in c][0]\n",
    "    \n",
    "    \n",
    "    project_det = dict()\n",
    "    project_det[\"title\"] = soup.find_all(\"meta\", property=\"og:title\")[0].get(\"content\")\n",
    "    #project_det[\"blurb1\"] = soup.find_all(property=re.compile(\"og:description\"))[0].get(\"content\") \n",
    "    project_det[\"creator_url\"] = soup.find_all(property=re.compile(\"kickstarter:creator\"))[0].get(\"content\")\n",
    "    project_det[\"no_backers\"] = list(soup(\"div\", class_=\"NS_projects__spotlight_stats\")[0])[1].string\n",
    "    project_det[\"goal\"] = reg.findall(list(soup.find_all(\"span\", class_=\"money \" +currency.lower()+ \" no-code\")[2])[0].string)\n",
    "    project_det[\"no_dollars_raised\"] = list(soup(\"div\", class_=\"NS_projects__spotlight_stats\")[0])[3].string\n",
    "    project_det[\"reward_backer_tup\"] = (zip(reward_value_list, backer_list,reward_item_list))\n",
    "    project_det[\"risk\"] = [para.get_text() for para in risk]\n",
    "    project_det[\"id\"] = pid\n",
    "    project_det[\"url\"] = url\n",
    "    project_det[\"description\"]=soup(\"div\", class_=\"full-description js-full-description responsive-media formatted-lists\")[0].find_all(\"p\")\n",
    "    x=[item.get(\"data-duration\")  for item in soup.find_all(\"span\") ]\n",
    "    project_det[\"campaign_duration\"]=[item for item in x if item is not None][0]\n",
    "    y=[item.get(\"data-hours-remaining\")  for item in soup.find_all(\"span\") ]\n",
    "    project_det[\"campaign_hours_remaining\"]=[item for item in y if item is not None][0]\n",
    "   \n",
    "    return(project_det)"
   ]
  },
  {
   "cell_type": "code",
   "execution_count": 66,
   "metadata": {
    "collapsed": false
   },
   "outputs": [],
   "source": [
    "#open url information\n",
    "fd = open('./data/project_successful_meta.json', 'r')\n",
    "text = fd.read()\n",
    "fd.close()\n",
    "\n",
    "pmeta = json.loads(text)"
   ]
  },
  {
   "cell_type": "code",
   "execution_count": 68,
   "metadata": {
    "collapsed": false
   },
   "outputs": [],
   "source": [
    "project_live_det = [get_one_project_det(project_header[\"id\"], project_header[\"url\"],project_header[\"currency\"]) for project_header in pmeta[0:500]]"
   ]
  },
  {
   "cell_type": "code",
   "execution_count": null,
   "metadata": {
    "collapsed": false
   },
   "outputs": [],
   "source": [
    "from bs4 import BeautifulSoup\n",
    "import urllib\n",
    "import re\n",
    "\n",
    "import urllib2\n",
    "import json\n",
    "\n",
    "#Save data to file for further use\n",
    "project_meta_json = json.dumps(obj = project_succ_det, indent = 4)\n",
    "fd = open(\"./data/project_live_detail\"++\".json\", \"w\")\n",
    "fd.write(project_meta_json)\n",
    "fd.close()"
   ]
  },
  {
   "cell_type": "code",
   "execution_count": 60,
   "metadata": {
    "collapsed": false
   },
   "outputs": [
    {
     "data": {
      "text/plain": [
       "u'EARLY BIRD: Receive one Pantelligent pan at a special discount. Thank you for being among the first to support our vision!\\n(Please add $30 for international shipping)'"
      ]
     },
     "execution_count": 60,
     "metadata": {},
     "output_type": "execute_result"
    }
   ],
   "source": [
    "reward_item_list[1]"
   ]
  }
 ],
 "metadata": {
  "kernelspec": {
   "display_name": "Python 2",
   "language": "python",
   "name": "python2"
  },
  "language_info": {
   "codemirror_mode": {
    "name": "ipython",
    "version": 2
   },
   "file_extension": ".py",
   "mimetype": "text/x-python",
   "name": "python",
   "nbconvert_exporter": "python",
   "pygments_lexer": "ipython2",
   "version": "2.7.6"
  }
 },
 "nbformat": 4,
 "nbformat_minor": 0
}
