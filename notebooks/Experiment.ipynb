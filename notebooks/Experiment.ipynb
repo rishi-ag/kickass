{
 "cells": [
  {
   "cell_type": "code",
   "execution_count": 2,
   "metadata": {
    "collapsed": false
   },
   "outputs": [],
   "source": [
    "import kickass as ks\n",
    "\n",
    "import json\n",
    "fd = open(\"../data/project_successful_final_tech_sample.json\", \"r\")\n",
    "\n",
    "project_json = json.load(fd)\n",
    "\n",
    "ks_projects = ks.ProjectCollection(project_json, \"../data/stopwords.txt\")"
   ]
  },
  {
   "cell_type": "code",
   "execution_count": 48,
   "metadata": {
    "collapsed": false
   },
   "outputs": [],
   "source": [
    "X = ks.np.array([[10,5,0,0,1,0], [0,5,14,2,0,0], [1,1,0,10,20,2], [0,1,0,5,21,7]])\n",
    "U, s, V = ks.np.linalg.svd(X, full_matrices=True)"
   ]
  },
  {
   "cell_type": "code",
   "execution_count": 49,
   "metadata": {
    "collapsed": false
   },
   "outputs": [
    {
     "name": "stdout",
     "output_type": "stream",
     "text": [
      "((4, 2), (2,), (2, 6))\n"
     ]
    }
   ],
   "source": [
    "Ud = U[:, :2]\n",
    "sd = s[:2]\n",
    "Vd = V[:2, :]\n",
    "S = ks.np.diag(sd)\n",
    "print(ks.np.shape(Ud), ks.np.shape(sd), ks.np.shape(Vd))"
   ]
  },
  {
   "cell_type": "code",
   "execution_count": 69,
   "metadata": {
    "collapsed": false
   },
   "outputs": [
    {
     "data": {
      "text/plain": [
       "array([[ 0.21491447,  0.87010556,  0.33700071,  0.28837233],\n",
       "       [ 0.22290546,  0.94043517,  0.20671157,  0.15220108],\n",
       "       [ 0.21963532,  0.97465284,  0.02311292, -0.03574859],\n",
       "       [ 0.08192682,  0.18126238,  0.69417531,  0.69177495],\n",
       "       [ 0.04128806, -0.00231224,  0.70206918,  0.71090703],\n",
       "       [ 0.03476817, -0.03115061,  0.70102859,  0.71160364]])"
      ]
     },
     "execution_count": 69,
     "metadata": {},
     "output_type": "execute_result"
    }
   ],
   "source": [
    "Xstar =  ks.np.dot(Ud, ks.np.dot(S, Vd))\n",
    "norm = ks.np.sqrt(ks.np.square(Xstar.T).sum(axis = 1))\n",
    "Xstar =  Xstar.T / norm[:,None]\n",
    "Xstar"
   ]
  },
  {
   "cell_type": "code",
   "execution_count": 40,
   "metadata": {
    "collapsed": false
   },
   "outputs": [
    {
     "ename": "ValueError",
     "evalue": "operands could not be broadcast together with shapes (4,6) (4,) ",
     "output_type": "error",
     "traceback": [
      "\u001b[1;31m---------------------------------------------------------------------------\u001b[0m",
      "\u001b[1;31mValueError\u001b[0m                                Traceback (most recent call last)",
      "\u001b[1;32m<ipython-input-40-161497d04b01>\u001b[0m in \u001b[0;36m<module>\u001b[1;34m()\u001b[0m\n\u001b[1;32m----> 1\u001b[1;33m \u001b[0mXstar\u001b[0m \u001b[1;33m/\u001b[0m \u001b[0mnorm\u001b[0m\u001b[1;33m\u001b[0m\u001b[0m\n\u001b[0m",
      "\u001b[1;31mValueError\u001b[0m: operands could not be broadcast together with shapes (4,6) (4,) "
     ]
    }
   ],
   "source": [
    "Xstar / norm"
   ]
  },
  {
   "cell_type": "code",
   "execution_count": 68,
   "metadata": {
    "collapsed": false
   },
   "outputs": [
    {
     "data": {
      "text/plain": [
       "array([ 1.30273729,  1.05389697,  0.66258742,  1.67413424,  1.57686952,\n",
       "        1.55646271])"
      ]
     },
     "execution_count": 68,
     "metadata": {},
     "output_type": "execute_result"
    }
   ],
   "source": [
    "d = ks.np.array([1, 2, 3, 4])\n",
    "d = d / ks.np.sqrt(d.sum())\n",
    "d\n",
    "sim = ks.np.dot(Xstar, d)\n",
    "sim"
   ]
  },
  {
   "cell_type": "code",
   "execution_count": 55,
   "metadata": {
    "collapsed": false
   },
   "outputs": [
    {
     "name": "stdout",
     "output_type": "stream",
     "text": [
      "[[ 1.          0.97973601  0.89273383  0.60875099  0.44846523  0.42182179]\n",
      " [ 0.97973601  1.          0.96489246  0.43751042  0.26035546  0.23167245]\n",
      " [ 0.89273383  0.96489246  1.          0.18597636 -0.00237238 -0.03196072]\n",
      " [ 0.60875099  0.43751042  0.18597636  1.          0.98211025  0.97610832]\n",
      " [ 0.44846523  0.26035546 -0.00237238  0.98211025  1.          0.99956214]\n",
      " [ 0.42182179  0.23167245 -0.03196072  0.97610832  0.99956214  1.        ]]\n"
     ]
    }
   ],
   "source": [
    "print(sim)"
   ]
  },
  {
   "cell_type": "code",
   "execution_count": null,
   "metadata": {
    "collapsed": false
   },
   "outputs": [],
   "source": [
    "a = ks.np.random.randn(9, 6) + 1j*ks.np.random.randn(9, 6)\n",
    "U, s, V = ks.np.linalg.svd(a, full_matrices=True)\n",
    "print(U.shape, V.shape, s.shape)\n",
    "S = ks.np.zeros((9, 6), dtype=complex)\n",
    "S[:6, :6] = ks.np.diag(s)\n",
    "ks.np.dot(U, ks.np.dot(S, V))"
   ]
  }
 ],
 "metadata": {
  "kernelspec": {
   "display_name": "Python 2",
   "language": "python",
   "name": "python2"
  },
  "language_info": {
   "codemirror_mode": {
    "name": "ipython",
    "version": 2
   },
   "file_extension": ".py",
   "mimetype": "text/x-python",
   "name": "python",
   "nbconvert_exporter": "python",
   "pygments_lexer": "ipython2",
   "version": "2.7.6"
  }
 },
 "nbformat": 4,
 "nbformat_minor": 0
}
