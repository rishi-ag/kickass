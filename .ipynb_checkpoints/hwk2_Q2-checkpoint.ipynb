{
 "cells": [
  {
   "cell_type": "markdown",
   "metadata": {},
   "source": [
    "2. Pick a dictionary (or dictionaries) of your choice from the Harvard IV set, \n",
    "the Loughran-McDonald set, or some other of your choosing that you think may be relevant for the data you collected for Q4 of the previous problem set. Then conduct the following exercise:\n",
    "(a) Use the two methods above to score each document in your data.\n",
    "(b) Explore whether the scores diﬀer according to the meta data ﬁelds you gathered: for example, do diﬀerent speakers/sources/etc tend to receive a higher score than\n",
    "others?\n",
    "(c) Do the answers to the previous question depend on whether tf-idf weighting is applied or not? Why do you think there is (or is not) a diﬀerence in your answers?"
   ]
  },
  {
   "cell_type": "code",
<<<<<<< HEAD
=======
   "execution_count": 20,
   "metadata": {
    "collapsed": true
   },
   "outputs": [],
   "source": [
    "import kickass as ks\n"
   ]
  },
  {
   "cell_type": "code",
   "execution_count": 15,
   "metadata": {
    "collapsed": false
   },
   "outputs": [],
   "source": [
    "import json\n",
    "fd = open(\"./data/project_successful_final_tech_sample.json\", \"r\")\n",
    "\n",
    "project_json = json.load(fd)"
   ]
  },
  {
   "cell_type": "code",
>>>>>>> 5468bc2c36b98ac92a961502058514cf1dfd31eb
   "execution_count": 14,
   "metadata": {
    "collapsed": false
   },
   "outputs": [
    {
<<<<<<< HEAD
     "ename": "NameError",
     "evalue": "name 'url' is not defined",
     "output_type": "error",
     "traceback": [
      "\u001b[1;31m---------------------------------------------------------------------------\u001b[0m",
      "\u001b[1;31mNameError\u001b[0m                                 Traceback (most recent call last)",
      "\u001b[1;32m<ipython-input-14-b08dd5ea9ff5>\u001b[0m in \u001b[0;36m<module>\u001b[1;34m()\u001b[0m\n\u001b[0;32m      4\u001b[0m \u001b[0mfd\u001b[0m \u001b[1;33m=\u001b[0m \u001b[0mopen\u001b[0m\u001b[1;33m(\u001b[0m\u001b[1;34m\"./data/project_successful_detail_1000to3000.json\"\u001b[0m\u001b[1;33m,\u001b[0m \u001b[1;34m\"w\"\u001b[0m\u001b[1;33m)\u001b[0m\u001b[1;33m\u001b[0m\u001b[0m\n\u001b[0;32m      5\u001b[0m \u001b[1;33m\u001b[0m\u001b[0m\n\u001b[1;32m----> 6\u001b[1;33m \u001b[0mks\u001b[0m\u001b[1;33m.\u001b[0m\u001b[0mRawDocs\u001b[0m\u001b[1;33m(\u001b[0m\u001b[0mfd\u001b[0m\u001b[1;33m,\u001b[0m\u001b[0murl\u001b[0m\u001b[1;33m,\u001b[0m \u001b[0mpid\u001b[0m\u001b[1;33m)\u001b[0m\u001b[1;33m\u001b[0m\u001b[0m\n\u001b[0m",
      "\u001b[1;31mNameError\u001b[0m: name 'url' is not defined"
     ]
    }
   ],
   "source": [
    "import kickass as ks\n",
    "\n",
    "\n",
    "fd = open(\"./data/project_successful_detail_1000to3000.json\", \"w\")\n",
    "\n",
    "ks.RawDocs(fd,)"
   ]
=======
     "data": {
      "text/plain": [
       "[u'category',\n",
       " u'reward_backer_tup',\n",
       " u'risk',\n",
       " u'name',\n",
       " u'author',\n",
       " u'url',\n",
       " u'launched_at',\n",
       " u'pledged',\n",
       " u'title',\n",
       " u'no_dollars_raised',\n",
       " u'id',\n",
       " u'currency',\n",
       " u'no_backers',\n",
       " u'state',\n",
       " u'deadline',\n",
       " u'location',\n",
       " u'backers_count',\n",
       " u'creator_url',\n",
       " u'spotlight',\n",
       " u'blurb',\n",
       " u'goal']"
      ]
     },
     "execution_count": 14,
     "metadata": {},
     "output_type": "execute_result"
    }
   ],
   "source": []
>>>>>>> 5468bc2c36b98ac92a961502058514cf1dfd31eb
  }
 ],
 "metadata": {
  "kernelspec": {
   "display_name": "Python 2",
   "language": "python",
   "name": "python2"
  },
  "language_info": {
   "codemirror_mode": {
    "name": "ipython",
    "version": 2
   },
   "file_extension": ".py",
   "mimetype": "text/x-python",
   "name": "python",
   "nbconvert_exporter": "python",
   "pygments_lexer": "ipython2",
   "version": "2.7.6"
  }
 },
 "nbformat": 4,
 "nbformat_minor": 0
}
