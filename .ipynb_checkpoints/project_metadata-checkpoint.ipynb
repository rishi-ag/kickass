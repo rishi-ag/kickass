{
 "metadata": {
  "name": ""
 },
 "nbformat": 3,
 "nbformat_minor": 0,
 "worksheets": [
  {
   "cells": [
    {
     "cell_type": "code",
     "collapsed": false,
     "input": [
      "import urllib2\n",
      "import json\n",
      "\n",
      "\n",
      "#url = \"https://www.kickstarter.com/discover/advanced?google_chrome_workaround&page=1&state=live&category_id=0&woe_id=0&sort=end_date&format=json\"\n",
      "url = \"https://www.kickstarter.com/discover/advanced?state=successful&category_id=0&woe_id=0&sort=magic&page=1,&format=json\"\n",
      "p_json = json.loads(urllib2.urlopen(url).read())\n"
     ],
     "language": "python",
     "metadata": {},
     "outputs": [],
     "prompt_number": 40
    },
    {
     "cell_type": "code",
     "collapsed": false,
     "input": [
      "p_json.keys()"
     ],
     "language": "python",
     "metadata": {},
     "outputs": [
      {
       "metadata": {},
       "output_type": "pyout",
       "prompt_number": 41,
       "text": [
        "[u'total_hits', u'seed', u'colloquial_title', u'projects', u'see_more']"
       ]
      }
     ],
     "prompt_number": 41
    },
    {
     "cell_type": "code",
     "collapsed": false,
     "input": [
      "project = p_json['projects'][0]\n",
      "for key, val in project.items():\n",
      "    print key , val\n",
      "    print \"\\n\"\n"
     ],
     "language": "python",
     "metadata": {},
     "outputs": [
      {
       "output_type": "stream",
       "stream": "stdout",
       "text": [
        "disable_communication False\n",
        "\n",
        "\n",
        "creator {u'urls': {u'web': {u'user': u'https://www.kickstarter.com/profile/comicartscouncil'}, u'api': {u'user': u'https://api.kickstarter.com/v1/users/461042452?signature=1429568151.c6a5ec289fd572386482d1fe76b3458f9098f13e'}}, u'slug': u'comicartscouncil', u'id': 461042452, u'avatar': {u'small': u'https://ksr-ugc.imgix.net/avatars/7043110/marko_cac_logo.original.jpg?v=1374209389&w=80&h=80&fit=crop&auto=format&q=92&s=9185fbcbb611d3ab37e33d5e792d4309', u'medium': u'https://ksr-ugc.imgix.net/avatars/7043110/marko_cac_logo.original.jpg?v=1374209389&w=160&h=160&fit=crop&auto=format&q=92&s=d1440fdc0ce67b7bcb398c7a3835609d', u'thumb': u'https://ksr-ugc.imgix.net/avatars/7043110/marko_cac_logo.original.jpg?v=1374209389&w=40&h=40&fit=crop&auto=format&q=92&s=ffa57d3eb8de585fe5937401a7dde28e'}, u'name': u'The Comic Arts Council, LLC'}\n",
        "\n",
        "\n",
        "photo {u'med': u'https://ksr-ugc.imgix.net/projects/843723/photo-original.jpg?v=1397865183&w=266&h=200&fit=crop&auto=format&q=92&s=22b89e5abd31e95933b2a05bfe8e75ec', u'little': u'https://ksr-ugc.imgix.net/projects/843723/photo-original.jpg?v=1397865183&w=200&h=150&fit=crop&auto=format&q=92&s=aec6a182b7068f198201f49ee001b890', u'full': u'https://ksr-ugc.imgix.net/projects/843723/photo-original.jpg?v=1397865183&w=560&h=420&fit=crop&auto=format&q=92&s=f875f0e10e08cb8553da03ac591f5dbd', u'thumb': u'https://ksr-ugc.imgix.net/projects/843723/photo-original.jpg?v=1397865183&w=40&h=30&fit=crop&auto=format&q=92&s=23b4cba13771369b375049c8c5d6f8d5', u'ed': u'https://ksr-ugc.imgix.net/projects/843723/photo-original.jpg?v=1397865183&w=338&h=250&fit=crop&auto=format&q=92&s=abb16599315eaad747b4e1dd3bcd39b6', u'1024x768': u'https://ksr-ugc.imgix.net/projects/843723/photo-original.jpg?v=1397865183&w=1024&h=768&fit=crop&auto=format&q=92&s=8cfff5d0127e67d32af1accf26f9a219', u'small': u'https://ksr-ugc.imgix.net/projects/843723/photo-original.jpg?v=1397865183&w=160&h=120&fit=crop&auto=format&q=92&s=f87702e57f386fd59a4e20b519aa31fa', u'1536x1152': u'https://ksr-ugc.imgix.net/projects/843723/photo-original.jpg?v=1397865183&w=1536&h=1152&fit=crop&auto=format&q=92&s=a60181e8710246d8e0dd11cc4abb0012'}\n",
        "\n",
        "\n",
        "currency USD\n",
        "\n",
        "\n",
        "deadline 1394078400\n",
        "\n",
        "\n",
        "currency_trailing_code True\n",
        "\n",
        "\n",
        "id 1334481201\n",
        "\n",
        "\n",
        "state_changed_at 1394078417\n",
        "\n",
        "\n",
        "category {u'position': 2, u'slug': u'comics', u'id': 3, u'urls': {u'web': {u'discover': u'http://www.kickstarter.com/discover/categories/comics'}}, u'name': u'Comics'}\n",
        "\n",
        "\n",
        "goal 12016.0\n",
        "\n",
        "\n",
        "pledged 17863.0\n",
        "\n",
        "\n",
        "state successful\n",
        "\n",
        "\n",
        "static_usd_rate 1.0\n",
        "\n",
        "\n",
        "location {u'name': u'San Diego', u'short_name': u'San Diego, CA', u'country': u'US', u'id': 2487889, u'is_root': False, u'state': u'CA', u'urls': {u'web': {u'discover': u'https://www.kickstarter.com/discover/places/san-diego-ca', u'location': u'https://www.kickstarter.com/locations/san-diego-ca'}, u'api': {u'nearby_projects': u'https://api.kickstarter.com/v1/discover?signature=1429544818.5ddee2c362ed067e17bf010651a2fef36afbeceb&woe_id=2487889'}}, u'type': u'Town', u'displayable_name': u'San Diego, CA', u'slug': u'san-diego-ca'}\n",
        "\n",
        "\n",
        "launched_at 1391705769\n",
        "\n",
        "\n",
        "blurb GIVE FINGER A HAND! Help create a TRIBUTE FILM to teach the world the secret identity of BATMAN'S uncredited co-creator, BILL FINGER.\n",
        "\n",
        "\n",
        "profile {u'link_text_color': u'', u'feature_image_attributes': {u'image_urls': {u'default': u'https://ksr-ugc.imgix.net/projects/843723/photo-original.jpg?v=1397865183&w=1536&h=1152&fit=crop&auto=format&q=92&s=a60181e8710246d8e0dd11cc4abb0012', u'baseball_card': u'https://ksr-ugc.imgix.net/projects/843723/photo-original.jpg?v=1397865183&w=1536&h=1152&fit=crop&auto=format&q=92&s=a60181e8710246d8e0dd11cc4abb0012'}}, u'name': u'The Cape Creator: A Tribute to Bat-Maker Bill Finger', u'link_url': u'', u'link_text': u'Follow along!', u'text_color': u'', u'show_feature_image': False, u'state': u'active', u'state_changed_at': 1427862932, u'link_background_color': u'', u'background_image_opacity': 0.8, u'project_id': 863170, u'background_color': u'', u'id': 863170, u'blurb': u\"GIVE FINGER A HAND! Creating a TRIBUTE VIDEO to teach the world the secret identity of BATMAN'S uncredited co-creator, BILL FINGER.\", u'should_show_feature_image': True}\n",
        "\n",
        "\n",
        "urls {u'web': {u'project': u'https://www.kickstarter.com/projects/comicartscouncil/the-cape-creator-a-tribute-to-bat-maker-bill-finge?ref=discovery', u'rewards': u'https://www.kickstarter.com/projects/comicartscouncil/the-cape-creator-a-tribute-to-bat-maker-bill-finge/rewards'}}\n",
        "\n",
        "\n",
        "usd_pledged 17863.0\n",
        "\n",
        "\n",
        "slug the-cape-creator-a-tribute-to-bat-maker-bill-finge\n",
        "\n",
        "\n",
        "name The Cape Creator: A Tribute to Bat-Maker Bill Finger\n",
        "\n",
        "\n",
        "country US\n",
        "\n",
        "\n",
        "created_at 1390613791\n",
        "\n",
        "\n",
        "backers_count 285\n",
        "\n",
        "\n",
        "currency_symbol $\n",
        "\n",
        "\n",
        "spotlight True\n",
        "\n",
        "\n"
       ]
      }
     ],
     "prompt_number": 42
    },
    {
     "cell_type": "code",
     "collapsed": false,
     "input": [
      "project_profile = dict()\n",
      "project_profile[\"author\"] = project[\"creator\"][\"name\"]\n",
      "project_profile[\"currency\"] = project[\"currency\"]\n",
      "project_profile[\"deadline\"] = project[\"deadline\"]\n",
      "project_profile[\"id\"] = project[\"id\"]\n",
      "project_profile[\"category\"] = {k:project[\"category\"][k] for k in [\"id\", \"slug\"]}\n",
      "project_profile[\"goal\"] = project[\"goal\"]\n",
      "project_profile[\"pledged\"] = project[\"pledged\"]\n",
      "project_profile[\"state\"] = project[\"state\"]\n",
      "project_profile[\"launched_at\"] = project[\"launched_at\"]\n",
      "project_profile[\"location\"] = {k:project[\"location\"][k] for k in [\"name\", \"country\", \"state\"]}\n",
      "project_profile[\"blurb\"] = project[\"blurb\"]\n",
      "project_profile[\"name\"] = project[\"name\"]\n",
      "project_profile[\"backers_count\"] = project[\"backers_count\"]\n",
      "project_profile[\"spotlight\"] = project[\"spotlight\"]\n",
      "project_profile[\"url\"] = project[\"urls\"][\"web\"][\"project\"].replace(\"?ref=discovery\", \"/description\")\n",
      "project_profile"
     ],
     "language": "python",
     "metadata": {},
     "outputs": [
      {
       "metadata": {},
       "output_type": "pyout",
       "prompt_number": 65,
       "text": [
        "{'author': u'The Comic Arts Council, LLC',\n",
        " 'backers_count': 285,\n",
        " 'blurb': u\"GIVE FINGER A HAND! Help create a TRIBUTE FILM to teach the world the secret identity of BATMAN'S uncredited co-creator, BILL FINGER.\",\n",
        " 'category': {'id': 3, 'slug': u'comics'},\n",
        " 'currency': u'USD',\n",
        " 'deadline': 1394078400,\n",
        " 'goal': 12016.0,\n",
        " 'id': 1334481201,\n",
        " 'launched_at': 1391705769,\n",
        " 'location': {'country': u'US', 'name': u'San Diego', 'state': u'CA'},\n",
        " 'name': u'The Cape Creator: A Tribute to Bat-Maker Bill Finger',\n",
        " 'pledged': 17863.0,\n",
        " 'spotlight': True,\n",
        " 'state': u'successful',\n",
        " 'url': u'https://www.kickstarter.com/projects/comicartscouncil/the-cape-creator-a-tribute-to-bat-maker-bill-finge/description'}"
       ]
      }
     ],
     "prompt_number": 65
    },
    {
     "cell_type": "code",
     "collapsed": false,
     "input": [],
     "language": "python",
     "metadata": {},
     "outputs": [
      {
       "metadata": {},
       "output_type": "pyout",
       "prompt_number": 64,
       "text": [
        "u'https://www.kickstarter.com/projects/comicartscouncil/the-cape-creator-a-tribute-to-bat-maker-bill-finge/description'"
       ]
      }
     ],
     "prompt_number": 64
    }
   ],
   "metadata": {}
  }
 ]
}