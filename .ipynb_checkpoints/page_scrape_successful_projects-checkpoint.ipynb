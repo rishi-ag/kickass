{
 "metadata": {
  "name": ""
 },
 "nbformat": 3,
 "nbformat_minor": 0,
 "worksheets": [
  {
   "cells": [
    {
     "cell_type": "code",
     "collapsed": false,
     "input": [
      "from bs4 import BeautifulSoup\n",
      "import urllib\n",
      "import re\n",
      "\n",
      "import urllib2\n",
      "import json"
     ],
     "language": "python",
     "metadata": {},
     "outputs": [],
     "prompt_number": 51
    },
    {
     "cell_type": "code",
     "collapsed": false,
     "input": [
      "#general format is https://www.kickstarter.com/projects/creatorname/campaignname\n",
      "\n",
      "#Creating a function to grab detailed text information about the project from the project's kicstarter page\n",
      "#Passing project id, url, and currency of funds requested from the meta data of successful project URLs\n",
      "# URLS from './data/project_successful_meta.json' created by the project_metadata.ipyth program\n",
      "def get_one_project_det(pid, url, currency):\n",
      "    #Creating beautiful soup object from URL\n",
      "    r = urllib.urlopen(url)\n",
      "    soup = BeautifulSoup(r)\n",
      "    \n",
      "    #Need to obtain the donation values and the reward/gifts associated with each donation value\n",
      "    #Reading in tag with multiple pieces of info on this\n",
      "    b=list(soup.find_all(class_=\"NS_projects__rewards_list js-project-rewards\"))\n",
      "    #Donation dollar amount group\n",
      "    reward_value_list = [reward.string.split()[0] for reward in b[0](\"h5\",class_=\"mb1\")]\n",
      "    #Number of backers associated with Donation dollar amount group\n",
      "    backer_list = [backers.string.split()[0]+' backers' for backers in b[0](\"span\", class_=\"num-backers mr1\")]\n",
      "    #Reward/gift associated with Donation dollar amount group\n",
      "    reward_item_list = [item(\"p\")[0].get_text() for item in b[0](\"div\",class_=\"desc h5 mb2 break-word\")]\n",
      "    \n",
      "    #removing currency sign from reward value\n",
      "    reg = re.compile(\"\\d.*\",flags=re.U)\n",
      "    reward_value_list = [reg.findall(reward.string.split()[0])[0] for reward in b[0](\"h5\",class_=\"mb1\")]\n",
      "\n",
      "    #Text associated with the risks of the project--outlining project hurdles\n",
      "    c=list(soup(\"div\", class_=\"mb6 mb2\"))\n",
      "    risk=[item(\"p\") for item in c][0]\n",
      "    \n",
      "   #Creating a dictionary for each project id \n",
      "    project_det = dict()\n",
      "   #Project title \n",
      "    project_det[\"title\"] = soup.find_all(\"meta\", property=\"og:title\")[0].get(\"content\")\n",
      "   #Blurb about project \n",
      "    project_det[\"blurb1\"] = soup.find_all(property=re.compile(\"og:description\"))[0].get(\"content\")\n",
      "   #Creator's URL hompage\n",
      "    project_det[\"creator_url\"] = soup.find_all(property=re.compile(\"kickstarter:creator\"))[0].get(\"content\")\n",
      "   #Total number of backers\n",
      "    project_det[\"no_backers\"] = list(soup(\"div\", class_=\"NS_projects__spotlight_stats\")[0])[1].string\n",
      "   #Project goal amount---min value needed to be raised for successful project \n",
      "    project_det[\"goal\"] = reg.findall(list(soup.find_all(\"span\", class_=\"money \" +currency.lower()+ \" no-code\")[2])[0].string)\n",
      "   #Number of dollars raised during campaign \n",
      "    project_det[\"no_dollars_raised\"] = list(soup(\"div\", class_=\"NS_projects__spotlight_stats\")[0])[3].string\n",
      "   #Information about donation amount groups, number of backer for group and gift associated with group \n",
      "    project_det[\"reward_backer_tup\"] = (zip(reward_value_list, backer_list,reward_item_list))\n",
      "   #Creator's detailed information about risks involved with the project \n",
      "    project_det[\"risk\"] = [para.get_text() for para in risk]\n",
      "   #project id \n",
      "    project_det[\"id\"] = pid\n",
      "   #project url \n",
      "    project_det[\"url\"] = url\n",
      "    \n",
      "    return(project_det)"
     ],
     "language": "python",
     "metadata": {},
     "outputs": [],
     "prompt_number": 65
    },
    {
     "cell_type": "code",
     "collapsed": false,
     "input": [
      "#open url information\n",
      "fd = open('./data/project_successful_meta.json', 'r')\n",
      "text = fd.read()\n",
      "fd.close()\n",
      "\n",
      "pmeta = json.loads(text)"
     ],
     "language": "python",
     "metadata": {},
     "outputs": [],
     "prompt_number": 66
    },
    {
     "cell_type": "code",
     "collapsed": false,
     "input": [
      "#call function created above to grab project details and loop through project for every url in pmeta file\n",
      "# for homework purposes, limited this to 500 urls, but we'll pull more for final project\n",
      "project_succ_det = [get_one_project_det(project_header[\"id\"], project_header[\"url\"],project_header[\"currency\"]) for project_header in pmeta[0:500]]"
     ],
     "language": "python",
     "metadata": {},
     "outputs": [],
     "prompt_number": 68
    },
    {
     "cell_type": "code",
     "collapsed": false,
     "input": [
      "\n",
      "#Save data to file for further use\n",
      "project_meta_json = json.dumps(obj = project_succ_det, indent = 4)\n",
      "#File to look at for sample data\n",
      "fd = open(\"./data/project_successful_detail.json\", \"w\")\n",
      "fd.write(project_meta_json)\n",
      "fd.close()"
     ],
     "language": "python",
     "metadata": {},
     "outputs": [],
     "prompt_number": 70
    }
   ],
   "metadata": {}
  }
 ]
}