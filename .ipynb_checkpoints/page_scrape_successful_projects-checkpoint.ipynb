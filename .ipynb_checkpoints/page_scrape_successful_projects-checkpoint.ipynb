{
 "metadata": {
  "name": ""
 },
 "nbformat": 3,
 "nbformat_minor": 0,
 "worksheets": [
  {
   "cells": [
    {
     "cell_type": "code",
     "collapsed": false,
     "input": [
      "from bs4 import BeautifulSoup\n",
      "import urllib\n",
      "import re\n",
      "#general format is https://www.kickstarter.com/projects/creatorname/campaignname\n",
      "r = urllib.urlopen('https://www.kickstarter.com/projects/hevans/pantelligent-intelligent-pan-cook-everything-perfe/description')\n",
      "soup = BeautifulSoup(r)\n"
     ],
     "language": "python",
     "metadata": {},
     "outputs": [],
     "prompt_number": 51
    },
    {
     "cell_type": "code",
     "collapsed": false,
     "input": [
      "title= soup.find_all(\"meta\", property=\"og:title\")[0].get(\"content\")\n",
      "title"
     ],
     "language": "python",
     "metadata": {},
     "outputs": [
      {
       "metadata": {},
       "output_type": "pyout",
       "prompt_number": 52,
       "text": [
        "'Pantelligent: Intelligent Pan - Cook Everything Perfectly'"
       ]
      }
     ],
     "prompt_number": 52
    },
    {
     "cell_type": "code",
     "collapsed": false,
     "input": [
      "\n",
      "blurb=soup.find_all(property=re.compile(\"og:description\"))[0].get(\"content\")\n",
      "blurb"
     ],
     "language": "python",
     "metadata": {},
     "outputs": [
      {
       "metadata": {},
       "output_type": "pyout",
       "prompt_number": 53,
       "text": [
        "'The smart frying pan of the future. Now anyone can cook delicious meals perfectly. The secret ingredient is temperature control.'"
       ]
      }
     ],
     "prompt_number": 53
    },
    {
     "cell_type": "code",
     "collapsed": false,
     "input": [
      "creator_url=soup.find_all(property=re.compile(\"kickstarter:creator\"))[0].get(\"content\")\n",
      "creator_url"
     ],
     "language": "python",
     "metadata": {},
     "outputs": [
      {
       "metadata": {},
       "output_type": "pyout",
       "prompt_number": 54,
       "text": [
        "'https://www.kickstarter.com/profile/hevans'"
       ]
      }
     ],
     "prompt_number": 54
    },
    {
     "cell_type": "code",
     "collapsed": false,
     "input": [
      "no_backers=list(soup(\"div\", class_=\"NS_projects__spotlight_stats\")[0])[1].string\n",
      "no_backers"
     ],
     "language": "python",
     "metadata": {},
     "outputs": [
      {
       "metadata": {},
       "output_type": "pyout",
       "prompt_number": 55,
       "text": [
        "u'464 backers'"
       ]
      }
     ],
     "prompt_number": 55
    },
    {
     "cell_type": "code",
     "collapsed": false,
     "input": [
      "reg = re.compile(\"\\d.*\",flags=re.U)\n",
      "goal=reg.findall(list(soup.find_all(\"span\", class_=\"money usd no-code\")[2])[0].string)\n",
      "goal\n"
     ],
     "language": "python",
     "metadata": {},
     "outputs": [
      {
       "metadata": {},
       "output_type": "pyout",
       "prompt_number": 56,
       "text": [
        "[u'30,000']"
       ]
      }
     ],
     "prompt_number": 56
    },
    {
     "cell_type": "code",
     "collapsed": false,
     "input": [
      "no_dollars_raised=list(soup(\"div\", class_=\"NS_projects__spotlight_stats\")[0])[3].string\n",
      "no_dollars_raised"
     ],
     "language": "python",
     "metadata": {},
     "outputs": [
      {
       "metadata": {},
       "output_type": "pyout",
       "prompt_number": 57,
       "text": [
        "u'$83,206'"
       ]
      }
     ],
     "prompt_number": 57
    },
    {
     "cell_type": "code",
     "collapsed": false,
     "input": [],
     "language": "python",
     "metadata": {},
     "outputs": [],
     "prompt_number": 57
    },
    {
     "cell_type": "code",
     "collapsed": false,
     "input": [
      "#Rewards\n",
      "b=list(soup.find_all(class_=\"NS_projects__rewards_list js-project-rewards\"))\n",
      "backer_list = [backers.string.split()[0]+' backers' for backers in b[0](\"span\", class_=\"num-backers mr1\")]\n",
      "reward_item_list = [item(\"p\")[0].get_text() for item in b[0](\"div\",class_=\"desc h5 mb2 break-word\")]\n",
      "reward_item_list"
     ],
     "language": "python",
     "metadata": {},
     "outputs": [
      {
       "metadata": {},
       "output_type": "pyout",
       "prompt_number": 58,
       "text": [
        "[u\"SUPPORTER: Thanks! You'll be notified of all backer updates.\",\n",
        " u'EARLY BIRD: Receive one Pantelligent pan at a special discount. Thank you for being among the first to support our vision!\\n(Please add $30 for international shipping)',\n",
        " u'PANTELLIGENT: Receive one Pantelligent pan. Thank you for being part of the future of cooking!\\n(Please add $30 for international shipping)',\n",
        " u'RETAIL PRICE: Receive one Pantelligent pan. After the Kickstarter campaign, the regular retail price will be $249. (Please add $30 for international shipping)',\n",
        " u'GIVE ONE, GET ONE: Receive two Pantelligent pans so you can share with someone you love!\\n(Please add $30 for international shipping)',\n",
        " u'BETA TESTER: Receive one of our functional prototype units as soon as the campaign closes and start cooking right away! We\\'ll also upgrade you to the production model once that ships. For those who just \"gotta have it now\"!']"
       ]
      }
     ],
     "prompt_number": 58
    },
    {
     "cell_type": "code",
     "collapsed": false,
     "input": [
      "reg = re.compile(\"\\d.*\",flags=re.U)\n",
      "\n",
      "reward_value_list = [reg.findall(reward.string.split()[0])[0] for reward in b[0](\"h5\",class_=\"mb1\")]\n",
      "reward_value_list"
     ],
     "language": "python",
     "metadata": {},
     "outputs": [
      {
       "metadata": {},
       "output_type": "pyout",
       "prompt_number": 59,
       "text": [
        "[u'5', u'169', u'199', u'249', u'399', u'1,999']"
       ]
      }
     ],
     "prompt_number": 59
    },
    {
     "cell_type": "code",
     "collapsed": false,
     "input": [
      "reward_item_list[1]"
     ],
     "language": "python",
     "metadata": {},
     "outputs": [
      {
       "metadata": {},
       "output_type": "pyout",
       "prompt_number": 60,
       "text": [
        "u'EARLY BIRD: Receive one Pantelligent pan at a special discount. Thank you for being among the first to support our vision!\\n(Please add $30 for international shipping)'"
       ]
      }
     ],
     "prompt_number": 60
    },
    {
     "cell_type": "code",
     "collapsed": false,
     "input": [
      "reward_backer_tup = (zip(reward_value_list, backer_list,reward_item_list))\n",
      "reward_backer_tup[1]"
     ],
     "language": "python",
     "metadata": {},
     "outputs": [
      {
       "metadata": {},
       "output_type": "pyout",
       "prompt_number": 61,
       "text": [
        "(u'169',\n",
        " u'50 backers',\n",
        " u'EARLY BIRD: Receive one Pantelligent pan at a special discount. Thank you for being among the first to support our vision!\\n(Please add $30 for international shipping)')"
       ]
      }
     ],
     "prompt_number": 61
    },
    {
     "cell_type": "code",
     "collapsed": false,
     "input": [
      "c=list(soup(\"div\", class_=\"mb6 mb2\"))\n",
      "r=[item(\"p\") for item in c][0]\n",
      "\n",
      "#Grabbing the risk text section\n",
      "risk=[para.get_text() for para in r]"
     ],
     "language": "python",
     "metadata": {},
     "outputs": [],
     "prompt_number": 62
    },
    {
     "cell_type": "code",
     "collapsed": false,
     "input": [
      "import urllib2\n",
      "import json"
     ],
     "language": "python",
     "metadata": {},
     "outputs": [],
     "prompt_number": 63
    },
    {
     "cell_type": "code",
     "collapsed": false,
     "input": [
      "def get_one_project_det(pid, url, currency):\n",
      "    r = urllib.urlopen(url)\n",
      "    soup = BeautifulSoup(r)\n",
      "    \n",
      "    #the reward values and rewards\n",
      "    b=list(soup.find_all(class_=\"NS_projects__rewards_list js-project-rewards\"))\n",
      "    reward_value_list = [reward.string.split()[0] for reward in b[0](\"h5\",class_=\"mb1\")]\n",
      "    backer_list = [backers.string.split()[0]+' backers' for backers in b[0](\"span\", class_=\"num-backers mr1\")]\n",
      "    reward_item_list = [item(\"p\")[0].get_text() for item in b[0](\"div\",class_=\"desc h5 mb2 break-word\")]\n",
      "    \n",
      "    #removing currency sign from reward value\n",
      "    reg = re.compile(\"\\d.*\",flags=re.U)\n",
      "    reward_value_list = [reg.findall(reward.string.split()[0])[0] for reward in b[0](\"h5\",class_=\"mb1\")]\n",
      "\n",
      "    \n",
      "    \n",
      "    #risk information\n",
      "    c=list(soup(\"div\", class_=\"mb6 mb2\"))\n",
      "    risk=[item(\"p\") for item in c][0]\n",
      "    \n",
      "    \n",
      "    project_det = dict()\n",
      "    project_det[\"title\"] = soup.find_all(\"meta\", property=\"og:title\")[0].get(\"content\")\n",
      "    project_det[\"blurb1\"] = soup.find_all(property=re.compile(\"og:description\"))[0].get(\"content\") \n",
      "    project_det[\"creator_url\"] = soup.find_all(property=re.compile(\"kickstarter:creator\"))[0].get(\"content\")\n",
      "    project_det[\"no_backers\"] = list(soup(\"div\", class_=\"NS_projects__spotlight_stats\")[0])[1].string\n",
      "    project_det[\"goal\"] = reg.findall(list(soup.find_all(\"span\", class_=\"money \" +currency.lower()+ \" no-code\")[2])[0].string)\n",
      "    project_det[\"no_dollars_raised\"] = list(soup(\"div\", class_=\"NS_projects__spotlight_stats\")[0])[3].string\n",
      "    project_det[\"reward_backer_tup\"] = (zip(reward_value_list, backer_list,reward_item_list))\n",
      "    project_det[\"risk\"] = [para.get_text() for para in risk]\n",
      "    project_det[\"id\"] = pid\n",
      "    project_det[\"url\"] = url\n",
      "    \n",
      "    return(project_det)"
     ],
     "language": "python",
     "metadata": {},
     "outputs": [],
     "prompt_number": 65
    },
    {
     "cell_type": "code",
     "collapsed": false,
     "input": [
      "#open url information\n",
      "fd = open('./data/project_successful_meta.json', 'r')\n",
      "text = fd.read()\n",
      "fd.close()\n",
      "\n",
      "pmeta = json.loads(text)"
     ],
     "language": "python",
     "metadata": {},
     "outputs": [],
     "prompt_number": 66
    },
    {
     "cell_type": "code",
     "collapsed": false,
     "input": [
      "project_succ_det = [get_one_project_det(project_header[\"id\"], project_header[\"url\"],project_header[\"currency\"]) for project_header in pmeta]"
     ],
     "language": "python",
     "metadata": {},
     "outputs": [
      {
       "ename": "IOError",
       "evalue": "[Errno socket error] [Errno -2] Name or service not known",
       "output_type": "pyerr",
       "traceback": [
        "\u001b[0;31m---------------------------------------------------------------------------\u001b[0m\n\u001b[0;31mIOError\u001b[0m                                   Traceback (most recent call last)",
        "\u001b[0;32m<ipython-input-67-cafb960fa49e>\u001b[0m in \u001b[0;36m<module>\u001b[0;34m()\u001b[0m\n\u001b[0;32m----> 1\u001b[0;31m \u001b[0mproject_succ_det\u001b[0m \u001b[0;34m=\u001b[0m \u001b[0;34m[\u001b[0m\u001b[0mget_one_project_det\u001b[0m\u001b[0;34m(\u001b[0m\u001b[0mproject_header\u001b[0m\u001b[0;34m[\u001b[0m\u001b[0;34m\"id\"\u001b[0m\u001b[0;34m]\u001b[0m\u001b[0;34m,\u001b[0m \u001b[0mproject_header\u001b[0m\u001b[0;34m[\u001b[0m\u001b[0;34m\"url\"\u001b[0m\u001b[0;34m]\u001b[0m\u001b[0;34m,\u001b[0m\u001b[0mproject_header\u001b[0m\u001b[0;34m[\u001b[0m\u001b[0;34m\"currency\"\u001b[0m\u001b[0;34m]\u001b[0m\u001b[0;34m)\u001b[0m \u001b[0;32mfor\u001b[0m \u001b[0mproject_header\u001b[0m \u001b[0;32min\u001b[0m \u001b[0mpmeta\u001b[0m\u001b[0;34m]\u001b[0m\u001b[0;34m\u001b[0m\u001b[0m\n\u001b[0m",
        "\u001b[0;32m<ipython-input-65-00882681af85>\u001b[0m in \u001b[0;36mget_one_project_det\u001b[0;34m(pid, url, currency)\u001b[0m\n\u001b[1;32m      1\u001b[0m \u001b[0;32mdef\u001b[0m \u001b[0mget_one_project_det\u001b[0m\u001b[0;34m(\u001b[0m\u001b[0mpid\u001b[0m\u001b[0;34m,\u001b[0m \u001b[0murl\u001b[0m\u001b[0;34m,\u001b[0m \u001b[0mcurrency\u001b[0m\u001b[0;34m)\u001b[0m\u001b[0;34m:\u001b[0m\u001b[0;34m\u001b[0m\u001b[0m\n\u001b[0;32m----> 2\u001b[0;31m     \u001b[0mr\u001b[0m \u001b[0;34m=\u001b[0m \u001b[0murllib\u001b[0m\u001b[0;34m.\u001b[0m\u001b[0murlopen\u001b[0m\u001b[0;34m(\u001b[0m\u001b[0murl\u001b[0m\u001b[0;34m)\u001b[0m\u001b[0;34m\u001b[0m\u001b[0m\n\u001b[0m\u001b[1;32m      3\u001b[0m     \u001b[0msoup\u001b[0m \u001b[0;34m=\u001b[0m \u001b[0mBeautifulSoup\u001b[0m\u001b[0;34m(\u001b[0m\u001b[0mr\u001b[0m\u001b[0;34m)\u001b[0m\u001b[0;34m\u001b[0m\u001b[0m\n\u001b[1;32m      4\u001b[0m \u001b[0;34m\u001b[0m\u001b[0m\n\u001b[1;32m      5\u001b[0m     \u001b[0;31m#the reward values and rewards\u001b[0m\u001b[0;34m\u001b[0m\u001b[0;34m\u001b[0m\u001b[0m\n",
        "\u001b[0;32m/usr/lib/python2.7/urllib.pyc\u001b[0m in \u001b[0;36murlopen\u001b[0;34m(url, data, proxies)\u001b[0m\n\u001b[1;32m     85\u001b[0m         \u001b[0mopener\u001b[0m \u001b[0;34m=\u001b[0m \u001b[0m_urlopener\u001b[0m\u001b[0;34m\u001b[0m\u001b[0m\n\u001b[1;32m     86\u001b[0m     \u001b[0;32mif\u001b[0m \u001b[0mdata\u001b[0m \u001b[0;32mis\u001b[0m \u001b[0mNone\u001b[0m\u001b[0;34m:\u001b[0m\u001b[0;34m\u001b[0m\u001b[0m\n\u001b[0;32m---> 87\u001b[0;31m         \u001b[0;32mreturn\u001b[0m \u001b[0mopener\u001b[0m\u001b[0;34m.\u001b[0m\u001b[0mopen\u001b[0m\u001b[0;34m(\u001b[0m\u001b[0murl\u001b[0m\u001b[0;34m)\u001b[0m\u001b[0;34m\u001b[0m\u001b[0m\n\u001b[0m\u001b[1;32m     88\u001b[0m     \u001b[0;32melse\u001b[0m\u001b[0;34m:\u001b[0m\u001b[0;34m\u001b[0m\u001b[0m\n\u001b[1;32m     89\u001b[0m         \u001b[0;32mreturn\u001b[0m \u001b[0mopener\u001b[0m\u001b[0;34m.\u001b[0m\u001b[0mopen\u001b[0m\u001b[0;34m(\u001b[0m\u001b[0murl\u001b[0m\u001b[0;34m,\u001b[0m \u001b[0mdata\u001b[0m\u001b[0;34m)\u001b[0m\u001b[0;34m\u001b[0m\u001b[0m\n",
        "\u001b[0;32m/usr/lib/python2.7/urllib.pyc\u001b[0m in \u001b[0;36mopen\u001b[0;34m(self, fullurl, data)\u001b[0m\n\u001b[1;32m    206\u001b[0m         \u001b[0;32mtry\u001b[0m\u001b[0;34m:\u001b[0m\u001b[0;34m\u001b[0m\u001b[0m\n\u001b[1;32m    207\u001b[0m             \u001b[0;32mif\u001b[0m \u001b[0mdata\u001b[0m \u001b[0;32mis\u001b[0m \u001b[0mNone\u001b[0m\u001b[0;34m:\u001b[0m\u001b[0;34m\u001b[0m\u001b[0m\n\u001b[0;32m--> 208\u001b[0;31m                 \u001b[0;32mreturn\u001b[0m \u001b[0mgetattr\u001b[0m\u001b[0;34m(\u001b[0m\u001b[0mself\u001b[0m\u001b[0;34m,\u001b[0m \u001b[0mname\u001b[0m\u001b[0;34m)\u001b[0m\u001b[0;34m(\u001b[0m\u001b[0murl\u001b[0m\u001b[0;34m)\u001b[0m\u001b[0;34m\u001b[0m\u001b[0m\n\u001b[0m\u001b[1;32m    209\u001b[0m             \u001b[0;32melse\u001b[0m\u001b[0;34m:\u001b[0m\u001b[0;34m\u001b[0m\u001b[0m\n\u001b[1;32m    210\u001b[0m                 \u001b[0;32mreturn\u001b[0m \u001b[0mgetattr\u001b[0m\u001b[0;34m(\u001b[0m\u001b[0mself\u001b[0m\u001b[0;34m,\u001b[0m \u001b[0mname\u001b[0m\u001b[0;34m)\u001b[0m\u001b[0;34m(\u001b[0m\u001b[0murl\u001b[0m\u001b[0;34m,\u001b[0m \u001b[0mdata\u001b[0m\u001b[0;34m)\u001b[0m\u001b[0;34m\u001b[0m\u001b[0m\n",
        "\u001b[0;32m/usr/lib/python2.7/urllib.pyc\u001b[0m in \u001b[0;36mopen_https\u001b[0;34m(self, url, data)\u001b[0m\n\u001b[1;32m    435\u001b[0m             \u001b[0;32mif\u001b[0m \u001b[0mrealhost\u001b[0m\u001b[0;34m:\u001b[0m \u001b[0mh\u001b[0m\u001b[0;34m.\u001b[0m\u001b[0mputheader\u001b[0m\u001b[0;34m(\u001b[0m\u001b[0;34m'Host'\u001b[0m\u001b[0;34m,\u001b[0m \u001b[0mrealhost\u001b[0m\u001b[0;34m)\u001b[0m\u001b[0;34m\u001b[0m\u001b[0m\n\u001b[1;32m    436\u001b[0m             \u001b[0;32mfor\u001b[0m \u001b[0margs\u001b[0m \u001b[0;32min\u001b[0m \u001b[0mself\u001b[0m\u001b[0;34m.\u001b[0m\u001b[0maddheaders\u001b[0m\u001b[0;34m:\u001b[0m \u001b[0mh\u001b[0m\u001b[0;34m.\u001b[0m\u001b[0mputheader\u001b[0m\u001b[0;34m(\u001b[0m\u001b[0;34m*\u001b[0m\u001b[0margs\u001b[0m\u001b[0;34m)\u001b[0m\u001b[0;34m\u001b[0m\u001b[0m\n\u001b[0;32m--> 437\u001b[0;31m             \u001b[0mh\u001b[0m\u001b[0;34m.\u001b[0m\u001b[0mendheaders\u001b[0m\u001b[0;34m(\u001b[0m\u001b[0mdata\u001b[0m\u001b[0;34m)\u001b[0m\u001b[0;34m\u001b[0m\u001b[0m\n\u001b[0m\u001b[1;32m    438\u001b[0m             \u001b[0merrcode\u001b[0m\u001b[0;34m,\u001b[0m \u001b[0merrmsg\u001b[0m\u001b[0;34m,\u001b[0m \u001b[0mheaders\u001b[0m \u001b[0;34m=\u001b[0m \u001b[0mh\u001b[0m\u001b[0;34m.\u001b[0m\u001b[0mgetreply\u001b[0m\u001b[0;34m(\u001b[0m\u001b[0;34m)\u001b[0m\u001b[0;34m\u001b[0m\u001b[0m\n\u001b[1;32m    439\u001b[0m             \u001b[0mfp\u001b[0m \u001b[0;34m=\u001b[0m \u001b[0mh\u001b[0m\u001b[0;34m.\u001b[0m\u001b[0mgetfile\u001b[0m\u001b[0;34m(\u001b[0m\u001b[0;34m)\u001b[0m\u001b[0;34m\u001b[0m\u001b[0m\n",
        "\u001b[0;32m/usr/lib/python2.7/httplib.pyc\u001b[0m in \u001b[0;36mendheaders\u001b[0;34m(self, message_body)\u001b[0m\n\u001b[1;32m    967\u001b[0m         \u001b[0;32melse\u001b[0m\u001b[0;34m:\u001b[0m\u001b[0;34m\u001b[0m\u001b[0m\n\u001b[1;32m    968\u001b[0m             \u001b[0;32mraise\u001b[0m \u001b[0mCannotSendHeader\u001b[0m\u001b[0;34m(\u001b[0m\u001b[0;34m)\u001b[0m\u001b[0;34m\u001b[0m\u001b[0m\n\u001b[0;32m--> 969\u001b[0;31m         \u001b[0mself\u001b[0m\u001b[0;34m.\u001b[0m\u001b[0m_send_output\u001b[0m\u001b[0;34m(\u001b[0m\u001b[0mmessage_body\u001b[0m\u001b[0;34m)\u001b[0m\u001b[0;34m\u001b[0m\u001b[0m\n\u001b[0m\u001b[1;32m    970\u001b[0m \u001b[0;34m\u001b[0m\u001b[0m\n\u001b[1;32m    971\u001b[0m     \u001b[0;32mdef\u001b[0m \u001b[0mrequest\u001b[0m\u001b[0;34m(\u001b[0m\u001b[0mself\u001b[0m\u001b[0;34m,\u001b[0m \u001b[0mmethod\u001b[0m\u001b[0;34m,\u001b[0m \u001b[0murl\u001b[0m\u001b[0;34m,\u001b[0m \u001b[0mbody\u001b[0m\u001b[0;34m=\u001b[0m\u001b[0mNone\u001b[0m\u001b[0;34m,\u001b[0m \u001b[0mheaders\u001b[0m\u001b[0;34m=\u001b[0m\u001b[0;34m{\u001b[0m\u001b[0;34m}\u001b[0m\u001b[0;34m)\u001b[0m\u001b[0;34m:\u001b[0m\u001b[0;34m\u001b[0m\u001b[0m\n",
        "\u001b[0;32m/usr/lib/python2.7/httplib.pyc\u001b[0m in \u001b[0;36m_send_output\u001b[0;34m(self, message_body)\u001b[0m\n\u001b[1;32m    827\u001b[0m             \u001b[0mmsg\u001b[0m \u001b[0;34m+=\u001b[0m \u001b[0mmessage_body\u001b[0m\u001b[0;34m\u001b[0m\u001b[0m\n\u001b[1;32m    828\u001b[0m             \u001b[0mmessage_body\u001b[0m \u001b[0;34m=\u001b[0m \u001b[0mNone\u001b[0m\u001b[0;34m\u001b[0m\u001b[0m\n\u001b[0;32m--> 829\u001b[0;31m         \u001b[0mself\u001b[0m\u001b[0;34m.\u001b[0m\u001b[0msend\u001b[0m\u001b[0;34m(\u001b[0m\u001b[0mmsg\u001b[0m\u001b[0;34m)\u001b[0m\u001b[0;34m\u001b[0m\u001b[0m\n\u001b[0m\u001b[1;32m    830\u001b[0m         \u001b[0;32mif\u001b[0m \u001b[0mmessage_body\u001b[0m \u001b[0;32mis\u001b[0m \u001b[0;32mnot\u001b[0m \u001b[0mNone\u001b[0m\u001b[0;34m:\u001b[0m\u001b[0;34m\u001b[0m\u001b[0m\n\u001b[1;32m    831\u001b[0m             \u001b[0;31m#message_body was not a string (i.e. it is a file) and\u001b[0m\u001b[0;34m\u001b[0m\u001b[0;34m\u001b[0m\u001b[0m\n",
        "\u001b[0;32m/usr/lib/python2.7/httplib.pyc\u001b[0m in \u001b[0;36msend\u001b[0;34m(self, data)\u001b[0m\n\u001b[1;32m    789\u001b[0m         \u001b[0;32mif\u001b[0m \u001b[0mself\u001b[0m\u001b[0;34m.\u001b[0m\u001b[0msock\u001b[0m \u001b[0;32mis\u001b[0m \u001b[0mNone\u001b[0m\u001b[0;34m:\u001b[0m\u001b[0;34m\u001b[0m\u001b[0m\n\u001b[1;32m    790\u001b[0m             \u001b[0;32mif\u001b[0m \u001b[0mself\u001b[0m\u001b[0;34m.\u001b[0m\u001b[0mauto_open\u001b[0m\u001b[0;34m:\u001b[0m\u001b[0;34m\u001b[0m\u001b[0m\n\u001b[0;32m--> 791\u001b[0;31m                 \u001b[0mself\u001b[0m\u001b[0;34m.\u001b[0m\u001b[0mconnect\u001b[0m\u001b[0;34m(\u001b[0m\u001b[0;34m)\u001b[0m\u001b[0;34m\u001b[0m\u001b[0m\n\u001b[0m\u001b[1;32m    792\u001b[0m             \u001b[0;32melse\u001b[0m\u001b[0;34m:\u001b[0m\u001b[0;34m\u001b[0m\u001b[0m\n\u001b[1;32m    793\u001b[0m                 \u001b[0;32mraise\u001b[0m \u001b[0mNotConnected\u001b[0m\u001b[0;34m(\u001b[0m\u001b[0;34m)\u001b[0m\u001b[0;34m\u001b[0m\u001b[0m\n",
        "\u001b[0;32m/usr/lib/python2.7/httplib.pyc\u001b[0m in \u001b[0;36mconnect\u001b[0;34m(self)\u001b[0m\n\u001b[1;32m   1170\u001b[0m \u001b[0;34m\u001b[0m\u001b[0m\n\u001b[1;32m   1171\u001b[0m             sock = socket.create_connection((self.host, self.port),\n\u001b[0;32m-> 1172\u001b[0;31m                                             self.timeout, self.source_address)\n\u001b[0m\u001b[1;32m   1173\u001b[0m             \u001b[0;32mif\u001b[0m \u001b[0mself\u001b[0m\u001b[0;34m.\u001b[0m\u001b[0m_tunnel_host\u001b[0m\u001b[0;34m:\u001b[0m\u001b[0;34m\u001b[0m\u001b[0m\n\u001b[1;32m   1174\u001b[0m                 \u001b[0mself\u001b[0m\u001b[0;34m.\u001b[0m\u001b[0msock\u001b[0m \u001b[0;34m=\u001b[0m \u001b[0msock\u001b[0m\u001b[0;34m\u001b[0m\u001b[0m\n",
        "\u001b[0;32m/usr/lib/python2.7/socket.pyc\u001b[0m in \u001b[0;36mcreate_connection\u001b[0;34m(address, timeout, source_address)\u001b[0m\n\u001b[1;32m    551\u001b[0m     \u001b[0mhost\u001b[0m\u001b[0;34m,\u001b[0m \u001b[0mport\u001b[0m \u001b[0;34m=\u001b[0m \u001b[0maddress\u001b[0m\u001b[0;34m\u001b[0m\u001b[0m\n\u001b[1;32m    552\u001b[0m     \u001b[0merr\u001b[0m \u001b[0;34m=\u001b[0m \u001b[0mNone\u001b[0m\u001b[0;34m\u001b[0m\u001b[0m\n\u001b[0;32m--> 553\u001b[0;31m     \u001b[0;32mfor\u001b[0m \u001b[0mres\u001b[0m \u001b[0;32min\u001b[0m \u001b[0mgetaddrinfo\u001b[0m\u001b[0;34m(\u001b[0m\u001b[0mhost\u001b[0m\u001b[0;34m,\u001b[0m \u001b[0mport\u001b[0m\u001b[0;34m,\u001b[0m \u001b[0;36m0\u001b[0m\u001b[0;34m,\u001b[0m \u001b[0mSOCK_STREAM\u001b[0m\u001b[0;34m)\u001b[0m\u001b[0;34m:\u001b[0m\u001b[0;34m\u001b[0m\u001b[0m\n\u001b[0m\u001b[1;32m    554\u001b[0m         \u001b[0maf\u001b[0m\u001b[0;34m,\u001b[0m \u001b[0msocktype\u001b[0m\u001b[0;34m,\u001b[0m \u001b[0mproto\u001b[0m\u001b[0;34m,\u001b[0m \u001b[0mcanonname\u001b[0m\u001b[0;34m,\u001b[0m \u001b[0msa\u001b[0m \u001b[0;34m=\u001b[0m \u001b[0mres\u001b[0m\u001b[0;34m\u001b[0m\u001b[0m\n\u001b[1;32m    555\u001b[0m         \u001b[0msock\u001b[0m \u001b[0;34m=\u001b[0m \u001b[0mNone\u001b[0m\u001b[0;34m\u001b[0m\u001b[0m\n",
        "\u001b[0;31mIOError\u001b[0m: [Errno socket error] [Errno -2] Name or service not known"
       ]
      }
     ],
     "prompt_number": 67
    },
    {
     "cell_type": "code",
     "collapsed": false,
     "input": [
      "project_succ_det"
     ],
     "language": "python",
     "metadata": {},
     "outputs": [
      {
       "metadata": {},
       "output_type": "pyout",
       "prompt_number": 84,
       "text": [
        "[{'blurb1': 'These songs are about longing, living, nature and human nature. They are my story and yours, for when I am with music I am never alone.',\n",
        "  'creator_url': 'https://www.kickstarter.com/profile/963477172',\n",
        "  'goal': u'\\xa34,500',\n",
        "  'id': 1908743949,\n",
        "  'no_backers': u'141 backers',\n",
        "  'no_dollars_raised': u'\\xa35,011',\n",
        "  'reward_backer_tup': [(u'\\xa32',\n",
        "    u'21 backers',\n",
        "    u'(THANK YOU TRACK) \\nEvery bit helps, thank you! Grab a pre-release digital download of a track off our EP! This is also a great way for new friends and fans to keep and ear and eye on us! ;)'),\n",
        "   (u'\\xa35',\n",
        "    u'21 backers',\n",
        "    u'(LET\\u2019S GET DIGITAL)\\nFor a little extra you can get the digital download of the EP plus a pre-release download track!'),\n",
        "   (u'\\xa310',\n",
        "    u'19 backers',\n",
        "    u'(LET\\u2019S GET PHYSICAL)\\nThe real deal! A signed hard copy of our Debut EP and a pre-release download of a track off our EP.'),\n",
        "   (u'\\xa315',\n",
        "    u'10 backers',\n",
        "    u'(SWEET & SOCIAL)\\nA short song/poem/caricature personalised to you as a shout out thank-you on social media along with our digital download of the EP plus a pre-release download of a track off our EP!'),\n",
        "   (u'\\xa320',\n",
        "    u'7 backers',\n",
        "    u'(LOVE LETTERS)\\nA signed copy of our EP, a pre-release download of a track and a Handwritten, bandwritten and crafted thank you card.'),\n",
        "   (u'\\xa330',\n",
        "    u'13 backers',\n",
        "    u'(GET THE T-SHIRT)\\nA gorgeous t-shirt adorned with beautiful HANDS artwork to show off your support ever-so-stylishly along with a signed hard copy of our EP and your pre-release track.'),\n",
        "   (u'\\xa350',\n",
        "    u'5 backers',\n",
        "    u'(BEHIND THE SCENES PASS or MYSTERY CRAFT)\\n(BEHIND THE SCENES PASS)\\nEver wondered how it all happens? How a song is written? A rehearsal jammed? A track recorded? A music video created? Chat to us and we can work out a suitable time for you to join us at one of these happenings and watch the music unfold from behind the scenes! (Can also be available over Skype for certain events, please ask).\\nPLUS\\nThe (LET\\u2019S GET PHYSICAL) pledge reward'),\n",
        "   (u'\\xa3100',\n",
        "    u'5 backers',\n",
        "    u'(WAY WITH WORDS)\\nChoose your favourite HANDS song and receive a framed hand-written version of the lyrics for you to keep.\\nPLUS\\nThe (LET\\u2019S GET PHYSICAL) pledge reward'),\n",
        "   (u'\\xa3150',\n",
        "    u'1 backers',\n",
        "    u'(DOT\\u2019S HANDS)\\nMy mom was an artist. I have been told I have been lucky enough to inherit some of her talent. I love to draw and paint, and I have a particular fascination with\\u2026\\u2026 HANDS! For this loverly pledge I will draw your hands or the hands of someone special from a photograph you send me and you can cherish these hands forever. \\nPLUS\\nThe (LET\\u2019S GET PHYSICAL) pledge reward'),\n",
        "   (u'\\xa3200',\n",
        "    u'1 backers',\n",
        "    u'(MUSIC or LANGUAGE LESSONS)\\nOur band can speak 8 Languages: English, Dutch, Afrikaans, French, Mandarin, Taiwanese, Spanish and Hebrew. For this awesome pledge you can have an hour\\u2019s Skype (or 2 half hour) Skype language lessons for any of these awesome languages. Perfect way to get ready for your next holiday!\\nPLUS\\nYour name in our album sleeve\\nPLUS\\nThe (LET\\u2019S GET PHYSICAL) pledge reward'),\n",
        "   (u'\\xa3300',\n",
        "    u'2 backers',\n",
        "    u'(GOT YOU COVERED)\\nChoose your favourite song and we will video an acoustic version and dedicate it to you or we can dedicate it to someone special on your behalf. We will send you your own recording of this song.\\nPLUS\\nThe (LET\\u2019S GET PHYSICAL) pledge reward'),\n",
        "   (u'\\xa3500',\n",
        "    u'0 backers',\n",
        "    u'(YOUR STORY, YOUR SONG)\\nWe will meet up in person or over Skype and I will squeeze information out of you until we have found the perfect story to write about. This could be a personal story you have always wanted to tell, a song you would like to write for somebody or a crazy dream you had that you feel is song worthy, it can be whatever you want it to be! Hands will then write you \\u2018your song\\u2019, record it and send it to you. Who knows, it could even end up on our next album! ;) \\nPLUS\\nThe (LET\\u2019S GET PHYSICAL) pledge reward'),\n",
        "   (u'\\xa3750',\n",
        "    u'0 backers',\n",
        "    u'(LET US ENTERTAIN YOU)\\nWe will come to your house and do a private gig for you and your friends (This will only be available in London or nearby, otherwise we will do a private live stream just for you. Special arrangements can be made for Nats to do an acoustic performance in South Africa in July 2015 during the \\u201cGirls Rocking the Road 2015 Tour\\u201d)\\nPLUS\\nThe (LET\\u2019S GET PHYSICAL) pledge reward'),\n",
        "   (u'\\xa31,000',\n",
        "    u'0 backers',\n",
        "    u'(EXECUTIVE PRODUCER)\\nWoah! Quite something! This is hugely generous of you. We are eternally grateful and would love to let you pick another pledge level of your choice and on top of that we will print your name in our album cover as an \\u2018executive producer\\u2019 of our music.\\nPLUS\\nThe (LET\\u2019S GET PHYSICAL) pledge reward')],\n",
        "  'risk': [u'Handing in an industry quality EP is a big part of my course requirements for my final Songwriting Degree Project so one way or another it will have to happen!  ;)',\n",
        "   u'Although this is my first crowdfunding campaign and it is a little scary, anyone who knows me knows how tenacious I am and how committed I am to music. I am working with people I trust who share that passion and are as excited about this record as I am. I guess my only challenges would be with manufacturing as this is new to me. Having said that I have many people who are experienced with this who could offer guidance. Graphic designer, Artists, producer and band are all solid. We have drafted a couple ideas for our music video and I guess in this department since we will be collaborating with film students that could take a little longer, but we will only move on to this once we have recorded the album.',\n",
        "   u'Although we are very organised and have everything scheduled in for the next 6 months it is quite common in the music industry for there to be delays especially when working with so many people and considering how driven we are to never settle for anything less than astonishing. Whatever happens you will always be kept in the loop and our album will be released no matter what!'],\n",
        "  'title': 'HANDS need your helping hands to record and release Debut EP',\n",
        "  'url': u'https://www.kickstarter.com/projects/963477172/hands-need-your-helping-hands-to-record-and-releas/description'}]"
       ]
      }
     ],
     "prompt_number": 84
    },
    {
     "cell_type": "code",
     "collapsed": false,
     "input": [
      "def something(b):\n",
      "    try:\n",
      "        a = 10 / b\n",
      "    except:\n",
      "        a = None\n",
      "    return(a)\n",
      "\n",
      "something(0)"
     ],
     "language": "python",
     "metadata": {},
     "outputs": [],
     "prompt_number": 52
    },
    {
     "cell_type": "code",
     "collapsed": false,
     "input": [
      "\n",
      "#Save data to file for further use\n",
      "project_meta_json = json.dumps(obj = project_list, indent = 4)\n",
      "fd = open(\"./data/project_successful_detail.json\", \"w\")\n",
      "fd.write(project_meta_json)\n",
      "fd.close()"
     ],
     "language": "python",
     "metadata": {},
     "outputs": []
    }
   ],
   "metadata": {}
  }
 ]
}