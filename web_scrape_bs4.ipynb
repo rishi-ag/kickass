{
 "metadata": {
  "name": ""
 },
 "nbformat": 3,
 "nbformat_minor": 0,
 "worksheets": [
  {
   "cells": [
    {
     "cell_type": "heading",
     "level": 1,
     "metadata": {},
     "source": [
      "Web Scraping with Beautiful Soup"
     ]
    },
    {
     "cell_type": "markdown",
     "metadata": {},
     "source": [
      "14D010 - Text Mining for Social Sciences\n",
      "Masters of Data Science, Barcelona Graduate School of Economics\n",
      "\n",
      "Compiled by Rishabh Agnihotri"
     ]
    },
    {
     "cell_type": "heading",
     "level": 2,
     "metadata": {},
     "source": [
      "Software Prequistes"
     ]
    },
    {
     "cell_type": "markdown",
     "metadata": {},
     "source": [
      "Python 2.7.6\n",
      "\n",
      "Packages: \n",
      "    1. BeautifulSoup4\n",
      "    2. urllib"
     ]
    },
    {
     "cell_type": "markdown",
     "metadata": {},
     "source": [
      "The principal theme of this notebook is to demonstrate the use of beautifulsoup4 library to \"scrape\" content from html websites and make a rectanguar database of all information that is interesting for our analysis.\n",
      "\n",
      "Most information in a webpage source is of little use to us and is used to render and format the webpage itself. Therefore it would be prudent to familiarise yourself with HTML tags as and when needed.\n",
      "\n",
      "The first step is to read the contents of given webpage and create a beautiful Soup object using the BeautifulSoup function."
     ]
    },
    {
     "cell_type": "code",
     "collapsed": false,
     "input": [
      "from bs4 import BeautifulSoup\n",
      "import urllib\n",
      "\n",
      "url = \"https://www.kickstarter.com/discover/advanced?sort=end_date\"\n",
      "r = urllib.urlopen(url).read()\n",
      "soup = BeautifulSoup(r)"
     ],
     "language": "python",
     "metadata": {},
     "outputs": [],
     "prompt_number": 297
    },
    {
     "cell_type": "code",
     "collapsed": false,
     "input": [
      "print type(soup)"
     ],
     "language": "python",
     "metadata": {},
     "outputs": [
      {
       "output_type": "stream",
       "stream": "stdout",
       "text": [
        "<class 'bs4.BeautifulSoup'>\n"
       ]
      }
     ],
     "prompt_number": 298
    },
    {
     "cell_type": "markdown",
     "metadata": {},
     "source": [
      "The soup object contains the entire html source of the given webpage and can be squeezed to give out useful information."
     ]
    },
    {
     "cell_type": "code",
     "collapsed": false,
     "input": [
      "print soup.prettify()[0:1000]"
     ],
     "language": "python",
     "metadata": {},
     "outputs": [
      {
       "output_type": "stream",
       "stream": "stdout",
       "text": [
        "<!DOCTYPE html>\n",
        "<html class=\"discover_advanced fontface no-js\" lang=\"en\">\n",
        " <head prefix=\"og: http://ogp.me/ns# fb: http://ogp.me/ns/fb# kickstarter: http://ogp.me/ns/fb/kickstarter#\">\n",
        "  <script>\n",
        "   //<![CDATA[\n",
        "    docElement = this.document.documentElement;\n",
        "    docElement.className=docElement.className.replace(/\\bno-js\\b/,'') + 'js';\n",
        "  //]]>\n",
        "  </script>\n",
        "  <title>\n",
        "   Discover Projects \u00bb Ending Soon \u2014 Kickstarter\n",
        "  </title>\n",
        "  <script>\n",
        "   //<![CDATA[\n",
        "    window.report_errors = true;\n",
        "    window.honeybadger_configuration = {\n",
        "      api_key : \"02ab109335c0dd1a93506d92f22217a7\",\n",
        "      environment : \"production\",\n",
        "      component : \"discover\",\n",
        "      action : \"advanced\",\n",
        "      onerror : false\n",
        "    };\n",
        "  //]]>\n",
        "  </script>\n",
        "  <!--[if lt IE 9]>\n",
        "  <script src=\"//html5shim.googlecode.com/svn/trunk/html5.js\"></script>\n",
        "<![endif]-->\n",
        "  <meta content=\"text/html; charset=utf-8\" http-equiv=\"Content-Type\"/>\n",
        "  <script type=\"text/javascript\">\n",
        "   window.NREUM||(NREUM={});NREUM.info={\"beacon\":\"bam.nr-data.net\",\"erro\n"
       ]
      }
     ],
     "prompt_number": 299
    },
    {
     "cell_type": "markdown",
     "metadata": {},
     "source": [
      "As evident the text is structured with HTML tags organised in a systematic way. This structure is referred to as a HTML DOM(Document Object Model). For a brief introduction refer to <a href = \"http://www.w3schools.com/js/js_htmldom.asp\"> W3's introduction to HTML DOM. </a>\n",
      "\n",
      "An example of DOM is as follows:"
     ]
    },
    {
     "cell_type": "code",
     "collapsed": false,
     "input": [
      "from IPython.display import Image\n",
      "Image(url = 'http://www.w3schools.com/js/pic_htmltree.gif')"
     ],
     "language": "python",
     "metadata": {},
     "outputs": [
      {
       "html": [
        "<img src=\"http://www.w3schools.com/js/pic_htmltree.gif\"/>"
       ],
       "metadata": {},
       "output_type": "pyout",
       "prompt_number": 300,
       "text": [
        "<IPython.core.display.Image at 0x7f94e0661c90>"
       ]
      }
     ],
     "prompt_number": 300
    },
    {
     "cell_type": "heading",
     "level": 2,
     "metadata": {},
     "source": [
      "The Data We Want"
     ]
    },
    {
     "cell_type": "markdown",
     "metadata": {},
     "source": [
      "We are interested in indentifying information about funding projects that are posted on kickstarter.com. This means information such as project title, project description, location, is the project was funded or not, etc. There are different HTML tags that have this information.\n",
      "\n",
      "So we'll use BeautifulSoup's functions to parse HTML tags that contain this information or lead us to it in the form of embedded urls.\n",
      "\n",
      "On examining the page source we find that the tag <b>`project-card project-card-tall`</b> is a self contained tag which holds all information about a project such as its title, author, location, url etc.\n",
      "\n"
     ]
    },
    {
     "cell_type": "code",
     "collapsed": false,
     "input": [
      "projects = soup.find_all(name = \"div\", class_=\"project-card project-card-tall\")"
     ],
     "language": "python",
     "metadata": {},
     "outputs": [],
     "prompt_number": 301
    },
    {
     "cell_type": "markdown",
     "metadata": {},
     "source": [
      "So the self contained HTML tag <b>`project-card project-card-tall`</b> for every project is stored in a BeautifulSoup object called projects."
     ]
    },
    {
     "cell_type": "code",
     "collapsed": false,
     "input": [
      "type(projects)"
     ],
     "language": "python",
     "metadata": {},
     "outputs": [
      {
       "metadata": {},
       "output_type": "pyout",
       "prompt_number": 302,
       "text": [
        "bs4.element.ResultSet"
       ]
      }
     ],
     "prompt_number": 302
    },
    {
     "cell_type": "markdown",
     "metadata": {},
     "source": [
      "The <b> `bs4.element.ResultSet` </b> is like an iterable list that is unique to BeautifulSoup4. Its contents are displayed below. Notice that you will be able to identify tags that are possibly useful."
     ]
    },
    {
     "cell_type": "code",
     "collapsed": false,
     "input": [
      "projects[0]"
     ],
     "language": "python",
     "metadata": {},
     "outputs": [
      {
       "metadata": {},
       "output_type": "pyout",
       "prompt_number": 303,
       "text": [
        "<div class=\"project-card project-card-tall\" data-project='{\"id\":996840031}'>\n",
        "<div class=\"project-thumbnail\">\n",
        "<a href=\"/projects/lindadromnorway/help-me-kickstart-a-small-business?ref=ending_soon\" target=\"\">\n",
        "<img alt=\"Project image\" class=\"project-thumbnail-img\" src=\"https://ksr-ugc.imgix.net/projects/1763333/photo-original.jpg?v=1427492369&amp;w=218&amp;h=162&amp;fit=crop&amp;auto=format&amp;q=92&amp;s=07e820012eafa3245cacd873cd96b905\" width=\"100%\"/>\n",
        "</a>\n",
        "</div>\n",
        "<div class=\"project-card-content\">\n",
        "<h6 class=\"project-title\"><a href=\"/projects/lindadromnorway/help-me-kickstart-a-small-business?ref=ending_soon\" target=\"\">Help me kickstart a small business</a></h6> <p class=\"project-byline\">Linda Eliseussen</p>\n",
        "<p class=\"project-blurb\">\n",
        "Handmade accessories &amp; gift articles, crochet courses for lefthanded, and events with a twist. Going worldwide!\n",
        "</p>\n",
        "</div>\n",
        "<div class=\"project-card-footer\">\n",
        "<div class=\"project-location\">\n",
        "<a data-location='{\"id\":862592,\"name\":\"Oslo\",\"slug\":\"oslo-no\",\"short_name\":\"Oslo, Norway\",\"displayable_name\":\"Oslo, Norway\",\"country\":\"NO\",\"state\":\"Oslo Fylke\",\"type\":\"Town\",\"is_root\":false,\"urls\":{\"web\":{\"discover\":\"https://www.kickstarter.com/discover/places/oslo-no\",\"location\":\"https://www.kickstarter.com/locations/oslo-no\"},\"api\":{\"nearby_projects\":\"https://api.kickstarter.com/v1/discover?signature=1429546155.d52233959f57370d534a345126105dc4db30505c&amp;woe_id=862592\"}}}' href=\"/discover/places/oslo-no?ref=city\" target=\"\">\n",
        "<span aria-hidden=\"true\" class=\"ksr-icon__location\"></span>\n",
        "<span class=\"location-name\">Oslo, Norway</span>\n",
        "</a>\n",
        "</div>\n",
        "<div class=\"project-stats-container\">\n",
        "<div class=\"project-pledged-successful\">\n",
        "<strong>Successfully funded!</strong>\n",
        "</div>\n",
        "<div class=\"project-progress-bar\">\n",
        "<div class=\"project-percent-pledged\" style=\"width: 0.1%\"></div>\n",
        "</div>\n",
        "<ul class=\"project-stats\">\n",
        "<li>\n",
        "<div class=\"project-stats-value\">0%</div> <span class=\"project-stats-label\">funded</span>\n",
        "</li>\n",
        "<li>\n",
        "<div class=\"project-stats-value\"><span class=\"money nok no-code\">kr10.00</span></div> <span class=\"project-stats-label\">pledged</span>\n",
        "</li>\n",
        "<li style=\"display: none;\">\n",
        "<div class=\"project-stats-value\">Funded</div>\n",
        "<span class=\"project-stats-label\">\n",
        "</span>\n",
        "</li>\n",
        "<li class=\"ksr_page_timer\" data-end_time=\"2015-04-19T12:16:20-04:00\">\n",
        "<div class=\"project-stats-value\">\n",
        "<div class=\"num\">\u00a0</div>\n",
        "</div>\n",
        "<div class=\"project-stats-label text\" data-word=\"left\">\u00a0</div>\n",
        "</li>\n",
        "</ul>\n",
        "</div>\n",
        "</div>\n",
        "</div>"
       ]
      }
     ],
     "prompt_number": 303
    },
    {
     "cell_type": "markdown",
     "metadata": {},
     "source": [
      "We are now in a position to exploit the hierarchical structure of the above HTML tag using BeautifulSoup functionality and get our data (finally!).\n",
      "\n",
      "Below is a function that with iterates over every element of <b>`projects</b> and returns a dictionary of information.  It uses BeautifulSoup4 functionality to extract data from nested tags. I strongly recommend that you study from <a href = \"http://www.crummy.com/software/BeautifulSoup/bs4/doc/#navigating-the-tree\"> BeautifulSoup's Documentation </a> different ways of searching for an extracting information from withon HTML tags."
     ]
    },
    {
     "cell_type": "code",
     "collapsed": false,
     "input": [
      "import json\n",
      "\n",
      "def scrape_blurb(project):\n",
      "    \"\"\" Takes HTML DOM structure of each project and extracts \n",
      "        meta inforation about the project\n",
      "    \"\"\"\n",
      "    project_head = {} #initate empty dictionary to store scraped data\n",
      "    #URLs are generally stored as relative URLs so we will prefix the name of the main websote to every url scraped \n",
      "    url_prefix = \"https://www.kickstarter.com/\"\n",
      "    \n",
      "    project_head[\"pname\"] = project(\"a\")[1].string\n",
      "    project_head[\"author\"] = project.find_all(\"p\")[0].string\n",
      "    project_head[\"blurb\"] = project.find_all(\"p\")[1].string\n",
      "    project_head[\"url\"] = url_prefix + project(\"a\")[1][\"href\"]\n",
      "    \n",
      "    loc_dict = json.loads(project(\"a\")[2].get('data-location'))\n",
      "    \n",
      "    project_head[\"town\"] = loc_dict[\"name\"]\n",
      "    project_head[\"state\"] = loc_dict[\"state\"]\n",
      "    project_head[\"country\"] = loc_dict[\"country\"]\n",
      "    \n",
      "    return(project_head)\n",
      "\n",
      "        "
     ],
     "language": "python",
     "metadata": {},
     "outputs": [],
     "prompt_number": 304
    },
    {
     "cell_type": "markdown",
     "metadata": {},
     "source": [
      "Having defined the function we use a list comprehension to iterate over the bs4 variable `projects` and return a list of dicts where every dict has kickstarter projects information."
     ]
    },
    {
     "cell_type": "code",
     "collapsed": false,
     "input": [
      "project_meta = [scrape_blurb(project) for project in projects]"
     ],
     "language": "python",
     "metadata": {},
     "outputs": [],
     "prompt_number": 305
    },
    {
     "cell_type": "markdown",
     "metadata": {},
     "source": [
      "A sample of the dict that is created for each project is as follows:"
     ]
    },
    {
     "cell_type": "code",
     "collapsed": false,
     "input": [
      "project_meta[0]"
     ],
     "language": "python",
     "metadata": {},
     "outputs": [
      {
       "metadata": {},
       "output_type": "pyout",
       "prompt_number": 306,
       "text": [
        "{'author': u'Linda Eliseussen',\n",
        " 'blurb': u'\\nHandmade accessories & gift articles, crochet courses for lefthanded, and events with a twist. Going worldwide!\\n',\n",
        " 'country': u'NO',\n",
        " 'pname': u'Help me kickstart a small business',\n",
        " 'state': u'Oslo Fylke',\n",
        " 'town': u'Oslo',\n",
        " 'url': 'https://www.kickstarter.com//projects/lindadromnorway/help-me-kickstart-a-small-business?ref=ending_soon'}"
       ]
      }
     ],
     "prompt_number": 306
    },
    {
     "cell_type": "markdown",
     "metadata": {},
     "source": [
      "Finally, we'll write our list as a json object so that it can be used for further processing as and when necessary."
     ]
    },
    {
     "cell_type": "code",
     "collapsed": false,
     "input": [
      "project_meta_json = json.dumps(obj = project_meta, indent = 4)\n",
      "fd = open(\"./data/project_meta.json\", \"w\")\n",
      "fd.write(project_meta_json)\n",
      "fd.close()\n",
      "\n",
      "project_meta_json"
     ],
     "language": "python",
     "metadata": {},
     "outputs": [
      {
       "metadata": {},
       "output_type": "pyout",
       "prompt_number": 307,
       "text": [
        "'[\\n    {\\n        \"town\": \"Oslo\", \\n        \"author\": \"Linda Eliseussen\", \\n        \"url\": \"https://www.kickstarter.com//projects/lindadromnorway/help-me-kickstart-a-small-business?ref=ending_soon\", \\n        \"country\": \"NO\", \\n        \"state\": \"Oslo Fylke\", \\n        \"pname\": \"Help me kickstart a small business\", \\n        \"blurb\": \"\\\\nHandmade accessories & gift articles, crochet courses for lefthanded, and events with a twist. Going worldwide!\\\\n\"\\n    }, \\n    {\\n        \"town\": \"Atlanta\", \\n        \"author\": \"Lauren Hamilton\", \\n        \"url\": \"https://www.kickstarter.com//projects/143307050/lh-studio-complex?ref=ending_soon\", \\n        \"country\": \"US\", \\n        \"state\": \"GA\", \\n        \"pname\": \"LH Studio Complex\", \\n        \"blurb\": \"\\\\nLH Studio Complex will be a place for not only dancers but all artists. Affordable dance, music, art and photography studios.\\\\n\"\\n    }, \\n    {\\n        \"town\": \"Atlanta\", \\n        \"author\": \"devante knight\", \\n        \"url\": \"https://www.kickstarter.com//projects/1145066662/mamaz-ba-b-the-stageplay?ref=ending_soon\", \\n        \"country\": \"US\", \\n        \"state\": \"GA\", \\n        \"pname\": \"MAMA\\'Z BA-B: The StagePlay\", \\n        \"blurb\": \"\\\\n\\\\\"MAMA\\'Z BA-B\\\\\" is the story of Marcus Williams who struggles to find a place for himself as a young black male.\\\\n\"\\n    }, \\n    {\\n        \"town\": \"Los Angeles\", \\n        \"author\": \"Lawrence F. Jackson\", \\n        \"url\": \"https://www.kickstarter.com//projects/1629962353/shades?ref=ending_soon\", \\n        \"country\": \"US\", \\n        \"state\": \"CA\", \\n        \"pname\": \"SHADES\", \\n        \"blurb\": \"\\\\nMovie on teen inter racial dating & college co eds Inter racial marriage-parental & police conflicts.\\\\n\"\\n    }, \\n    {\\n        \"town\": \"Charlotte\", \\n        \"author\": \"MEZONIC\", \\n        \"url\": \"https://www.kickstarter.com//projects/mezonic/mezonics-5th-album?ref=ending_soon\", \\n        \"country\": \"US\", \\n        \"state\": \"NC\", \\n        \"pname\": \"Mezonic\\'s 5th Album\", \\n        \"blurb\": \"\\\\nMezonic hasn\\'t released a full album (CD) since 2012. He is currently working on his fifth album. Help Mezonic fund this great project.\\\\n\"\\n    }, \\n    {\\n        \"town\": \"Santa Fe\", \\n        \"author\": \"Derrick\", \\n        \"url\": \"https://www.kickstarter.com//projects/530652533/dreamdate?ref=ending_soon\", \\n        \"country\": \"US\", \\n        \"state\": \"NM\", \\n        \"pname\": \"DreamDate\", \\n        \"blurb\": \"\\\\nOnline Dating application that lets you rate the people you hook-up  with using a 5 star rating system!\\\\n\"\\n    }, \\n    {\\n        \"town\": \"Brooklyn\", \\n        \"author\": \"Beka Goedde\", \\n        \"url\": \"https://www.kickstarter.com//projects/bekagoedde/fictitious-force?ref=ending_soon\", \\n        \"country\": \"US\", \\n        \"state\": \"NY\", \\n        \"pname\": \"Fictitious Force\", \\n        \"blurb\": \"\\\\nInstallation of \\\\\"Fictitious Force\\\\\" outdoors at the Old Stone House & Washington Park in Park Slope, Brooklyn, in spring 2015.\\\\n\"\\n    }, \\n    {\\n        \"town\": \"Downtown Toronto\", \\n        \"author\": \"Meaghan Ogilvie\", \\n        \"url\": \"https://www.kickstarter.com//projects/761541681/requiem-of-water-underwater-photography-exhibition?ref=ending_soon\", \\n        \"country\": \"CA\", \\n        \"state\": \"ON\", \\n        \"pname\": \"Requiem of Water - Underwater photography exhibition\", \\n        \"blurb\": \"\\\\nRequiem of Water  - A unique photography exhibition capturing our relationship to water for the Toronto 2015 PanAm/Parapan Am Games.\\\\n\"\\n    }, \\n    {\\n        \"town\": \"Atlanta\", \\n        \"author\": \"Ellarose Obioha\", \\n        \"url\": \"https://www.kickstarter.com//projects/705195391/my-music-tour?ref=ending_soon\", \\n        \"country\": \"US\", \\n        \"state\": \"GA\", \\n        \"pname\": \"My Music/Tour\", \\n        \"blurb\": \"\\\\nI am creating a EP and a 30 city tour. If you miss the feeling real music gave you back in the 70s to early 2000s I am that Artist.\\\\n\"\\n    }, \\n    {\\n        \"town\": \"New York\", \\n        \"author\": \"Moe Rosen\", \\n        \"url\": \"https://www.kickstarter.com//projects/570874422/kickfucker?ref=ending_soon\", \\n        \"country\": \"US\", \\n        \"state\": \"NY\", \\n        \"pname\": \"Kickfucker\", \\n        \"blurb\": \"\\\\nHelp Kickfucker! A short film about a man with a strange sex addiction, who fails at crowd funding and whose life takes a dark turn.\\\\n\"\\n    }, \\n    {\\n        \"town\": \"Valrico\", \\n        \"author\": \"Douglas Akers\", \\n        \"url\": \"https://www.kickstarter.com//projects/1428490766/therapy-by-stained-glass-creation?ref=ending_soon\", \\n        \"country\": \"US\", \\n        \"state\": \"FL\", \\n        \"pname\": \"Therapy by Stained Glass Creation\", \\n        \"blurb\": \"\\\\nBased on my disabilities I would like to continue my therapy by creating small stained glass for my home and the VA TBI center.\\\\n\"\\n    }, \\n    {\\n        \"town\": \"New Orleans\", \\n        \"author\": \"Christopher Sheard\", \\n        \"url\": \"https://www.kickstarter.com//projects/923006322/easy?ref=ending_soon\", \\n        \"country\": \"US\", \\n        \"state\": \"LA\", \\n        \"pname\": \"Easy\", \\n        \"blurb\": \"\\\\nEasy is a comedy web series about three hapless friends and their misadventures in the Crescent City.\\\\n\"\\n    }, \\n    {\\n        \"town\": \"Mooers Forks\", \\n        \"author\": \"Jeff Cornelius\", \\n        \"url\": \"https://www.kickstarter.com//projects/1680537640/birch-bark-paintings?ref=ending_soon\", \\n        \"country\": \"US\", \\n        \"state\": \"NY\", \\n        \"pname\": \"Birch Bark Paintings\", \\n        \"blurb\": \"\\\\nMy name is Jeff Cornelius, a fine artist looking to offer exceptional artwork created on genuine birch bark, from dead & down trees.\\\\n\"\\n    }, \\n    {\\n        \"town\": \"Detroit\", \\n        \"author\": \"Kara Eggebrecht\", \\n        \"url\": \"https://www.kickstarter.com//projects/1954133344/tomo-cold-brew-bike?ref=ending_soon\", \\n        \"country\": \"US\", \\n        \"state\": \"MI\", \\n        \"pname\": \"Tomo Cold Brew Bike\", \\n        \"blurb\": \"\\\\nTomo Coffee Co. is looking to build a bike cart that will serve ready to drink cold brew on tap throughout the Detroit area.\\\\n\"\\n    }, \\n    {\\n        \"town\": \"Minneapolis\", \\n        \"author\": \"Brian & Dani\", \\n        \"url\": \"https://www.kickstarter.com//projects/2098667129/give-jack-a-bath?ref=ending_soon\", \\n        \"country\": \"US\", \\n        \"state\": \"MN\", \\n        \"pname\": \"Give Jack a Bath\", \\n        \"blurb\": \"\\\\nJack found us on a recent early spring morning...no collar, malnourished and heavily matted. We want to get him a trim! Pew!#petproject\\\\n\"\\n    }, \\n    {\\n        \"town\": \"Glasgow\", \\n        \"author\": \"Beatrice Taylor\", \\n        \"url\": \"https://www.kickstarter.com//projects/1915030777/rikkus-adventure-working-title?ref=ending_soon\", \\n        \"country\": \"GB\", \\n        \"state\": \"Scotland\", \\n        \"pname\": \"Rikku\\'s adventure (working title )\", \\n        \"blurb\": \"\\\\nA Sci - Fi novel.\\\\n\"\\n    }, \\n    {\\n        \"town\": \"Izmir\", \\n        \"author\": \"Mehmet Ali Akgul\", \\n        \"url\": \"https://www.kickstarter.com//projects/2047476187/im-acting-for-english?ref=ending_soon\", \\n        \"country\": \"TR\", \\n        \"state\": \"\\\\u0130zmir\", \\n        \"pname\": \"I\\'m acting for English\", \\n        \"blurb\": \"\\\\nBringing two international things together. Drama & English..\\\\n\"\\n    }, \\n    {\\n        \"town\": \"Detroit\", \\n        \"author\": \"brandan jordan\", \\n        \"url\": \"https://www.kickstarter.com//projects/1256513802/you-get-what-you-deserve?ref=ending_soon\", \\n        \"country\": \"US\", \\n        \"state\": \"MI\", \\n        \"pname\": \"You get what you deserve\", \\n        \"blurb\": \"\\\\nThis is a drama about a woman who cheats on her husband and falls in love with her own son who she gave up for adoption as a teen.\\\\n\"\\n    }, \\n    {\\n        \"town\": \"Denver\", \\n        \"author\": \"Kyle Staebell\", \\n        \"url\": \"https://www.kickstarter.com//projects/1471106941/the-greatest-case?ref=ending_soon\", \\n        \"country\": \"US\", \\n        \"state\": \"CO\", \\n        \"pname\": \"The Greatest Case\", \\n        \"blurb\": \"\\\\nA simple and elegant solution to help use a large phone with one hand.\\\\n\"\\n    }, \\n    {\\n        \"town\": \"Ontario\", \\n        \"author\": \"Sproutli Games\", \\n        \"url\": \"https://www.kickstarter.com//projects/376200266/trials-of-the-magi-role-playing-game?ref=ending_soon\", \\n        \"country\": \"US\", \\n        \"state\": \"CA\", \\n        \"pname\": \"Trials of the Magi: Role-playing Game\", \\n        \"blurb\": \"\\\\nA quick and hands on RPG created to make introducing the hobby to newcomers as easy as possible.\\\\n\"\\n    }\\n]'"
       ]
      }
     ],
     "prompt_number": 307
    }
   ],
   "metadata": {}
  }
 ]
}